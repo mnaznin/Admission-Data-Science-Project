{
  "cells": [
    {
      "cell_type": "markdown",
      "metadata": {
        "id": "view-in-github",
        "colab_type": "text"
      },
      "source": [
        "<a href=\"https://colab.research.google.com/github/mnaznin/Admission-Data-Science-Project/blob/main/AdmissionDSProject.ipynb\" target=\"_parent\"><img src=\"https://colab.research.google.com/assets/colab-badge.svg\" alt=\"Open In Colab\"/></a>"
      ]
    },
    {
      "cell_type": "markdown",
      "metadata": {
        "id": "z2zMRytAc1rh"
      },
      "source": [
        "# Project Overview"
      ]
    },
    {
      "cell_type": "markdown",
      "source": [],
      "metadata": {
        "id": "pGOqHHZSdQDI"
      }
    },
    {
      "cell_type": "markdown",
      "metadata": {
        "id": "aW50otbyc1rk"
      },
      "source": [
        "Using Data Science expertise to explore the state of Grad Admissions in the US. This will not only help us prepare for our path to Academia but will educate us on some seemingly unknown facts about the state of Grad School in the US."
      ]
    },
    {
      "cell_type": "markdown",
      "metadata": {
        "id": "6omCN6tDc1rk"
      },
      "source": [
        "# Problem Description\n",
        "The few problem domain we would like to explore are:<br>\n",
        "1. What is the MOST important element of a Grad school application package? GRE?<br>\n",
        "2. Does Higher Enrollment of Non-resident Alien Decreases the Number of Women enrollment?<br>\n",
        "3. Does the admission rate decrease with higher number of applicants?"
      ]
    },
    {
      "cell_type": "markdown",
      "metadata": {
        "id": "eG_yh3rac1rk"
      },
      "source": [
        "# Background"
      ]
    },
    {
      "cell_type": "markdown",
      "metadata": {
        "id": "iZCAv8YZc1rl"
      },
      "source": [
        "An average Grad school application package consists of:\n",
        "\n",
        "1. GPA\n",
        "2. Letter of Recommendation\n",
        "3. Statement of Purpose\n",
        "4. GRE scores\n",
        "5. TOEFL scores (for international students)\n",
        "6. Research Papers\n",
        "7. Publications, etc."
      ]
    },
    {
      "cell_type": "markdown",
      "metadata": {
        "id": "dqZ8iA5_c1rl"
      },
      "source": [
        "# Subject Matter Expertise\n",
        "\n",
        "1. USEF (United States Education Foundation) could help undestand problems of International student: The foundation’s primary objective is to promote international education.\n",
        "2. Admissions office could help understand how the Graduate admission process works.\n",
        "3. Society of Women Engineers could help understand the problems faced women in getting into grad school."
      ]
    },
    {
      "cell_type": "markdown",
      "metadata": {
        "id": "SpDf6iJLc1rl"
      },
      "source": [
        "# Assumptions\n",
        "\n",
        "1. It is assumed that the reader is interested in getting into Grad school and is familiar with the terms like GRE, TOEFL, enrollment.\n",
        "2. It is assumed that the dataset would only involve the colleges and universities in the US.\n",
        "3. It is also assumed that the data is applicable for existing Grad school.\n",
        "4. It is also assumed that the reader will have a good grasp of how the US grad school application system works.\n",
        "5. Assume that the data is not effected by the current pandemic for the year 2019 & 2020 applications.\n"
      ]
    },
    {
      "cell_type": "markdown",
      "metadata": {
        "id": "MdVwDghjc1rm"
      },
      "source": [
        "# Steps to Explore the Topic and Problem\n",
        "1. Download data from IEEE & Kaggle\n",
        "2. Web-scrape data from Wikipedia\n",
        "3. Clean the dataset to remove Null values and outliers if needed.\n",
        "4. Clean the web scraped dataset to extract the sub-table from the embedded dataset.\n",
        "5. Check the normality of the data we are interested in.\n",
        "6. Find if GRE scores and chance of admissions had some sort of correlation using descriptive & inferential stats.\n",
        "7. Find if Enrollment of nonresident aliens versus percentage of women of admissions had some sort of correlation using descriptive & inferential stats.\n",
        "8. Find if number of applicants and admission rate had some sort of correlation using descriptive & inferential stats.\n",
        "9. Draw hypothesis for 6, 7 and 8 based on the stats we observed.\n",
        "10. Apply hypothesis testing techniques on 6, 7 & 8 and support the hypothesis using simulations of test_statistic, p-values, correlation and linear regression.\n",
        "11. Draw conclusions form your hypothesis."
      ]
    },
    {
      "cell_type": "markdown",
      "metadata": {
        "id": "A9Rqx20Vc1rm"
      },
      "source": [
        "# Data Sources:\n",
        "\n",
        "1. IEEE, Mohan S Acharya, Asfia Armaan, Aneeta S Antony : A Comparison of Regression Models for Prediction of Graduate Admissions, IEEE International Conference on Computational Intelligence in Data Science 2019. 'https://www.kaggle.com/mohansacharya/graduate-admissions'<br>\n",
        "2. Kaggle “American University Data” IPEDS dataset 'https://www.kaggle.com/sumithbhongale/american-university-data-ipeds-dataset'<br>\n",
        "3. Scrapped Dataset: College admissions in the United States, 'https://en.wikipedia.org/wiki/College_admissions_in_the_United_States'"
      ]
    },
    {
      "cell_type": "markdown",
      "metadata": {
        "id": "unHHNBdnc1rm"
      },
      "source": [
        "# Setup\n",
        "Let's install and import all the required libraries."
      ]
    },
    {
      "cell_type": "code",
      "execution_count": null,
      "metadata": {
        "id": "Y0AOrbYhc1rn"
      },
      "outputs": [],
      "source": [
        "# Installing required libraries \n",
        "\n",
        "# xlrd is needed to load excel files - UNCOMMENT IF YOU CANT READ FILES\n",
        "# !pip3 install xlrd\n",
        "# !pip3 install psycopg2"
      ]
    },
    {
      "cell_type": "code",
      "execution_count": null,
      "metadata": {
        "id": "0bxExVJAc1rn",
        "outputId": "df8b5542-249d-4e9c-cf31-71fe007f13a4"
      },
      "outputs": [
        {
          "name": "stdout",
          "output_type": "stream",
          "text": [
            "Requirement already satisfied: tabulate in /opt/conda/lib/python3.8/site-packages (0.8.7)\n",
            "Setup Completed.\n"
          ]
        }
      ],
      "source": [
        "# Importing required libraries\n",
        "from datascience import *\n",
        "import pandas as pd \n",
        "import numpy as np\n",
        "import matplotlib.pyplot as plt\n",
        "%matplotlib inline\n",
        "import seaborn as sns\n",
        "from sklearn.utils import shuffle\n",
        "from scipy.stats import chisquare\n",
        "\n",
        "from urllib.request import urlopen\n",
        "from bs4 import BeautifulSoup\n",
        "!pip install tabulate\n",
        "from tabulate import tabulate\n",
        "print(\"Setup Completed.\")"
      ]
    },
    {
      "cell_type": "markdown",
      "metadata": {
        "id": "GYe9pMJtc1ro"
      },
      "source": [
        "# Data Exploration\n",
        "Describing the data using what we know. For larger datasets we pulled out columns that are of interst to us."
      ]
    },
    {
      "cell_type": "code",
      "execution_count": null,
      "metadata": {
        "id": "3WmTSiyrc1rp",
        "outputId": "1840eb15-57c2-40ca-b9e0-1f52aacd7eda"
      },
      "outputs": [
        {
          "data": {
            "text/html": [
              "<div>\n",
              "<style scoped>\n",
              "    .dataframe tbody tr th:only-of-type {\n",
              "        vertical-align: middle;\n",
              "    }\n",
              "\n",
              "    .dataframe tbody tr th {\n",
              "        vertical-align: top;\n",
              "    }\n",
              "\n",
              "    .dataframe thead th {\n",
              "        text-align: right;\n",
              "    }\n",
              "</style>\n",
              "<table border=\"1\" class=\"dataframe\">\n",
              "  <thead>\n",
              "    <tr style=\"text-align: right;\">\n",
              "      <th></th>\n",
              "      <th>Serial No.</th>\n",
              "      <th>GRE Score</th>\n",
              "      <th>TOEFL Score</th>\n",
              "      <th>University Rating</th>\n",
              "      <th>SOP</th>\n",
              "      <th>LOR</th>\n",
              "      <th>CGPA</th>\n",
              "      <th>Research</th>\n",
              "      <th>Chance of Admit</th>\n",
              "    </tr>\n",
              "  </thead>\n",
              "  <tbody>\n",
              "    <tr>\n",
              "      <th>0</th>\n",
              "      <td>1</td>\n",
              "      <td>337</td>\n",
              "      <td>118</td>\n",
              "      <td>4</td>\n",
              "      <td>4.5</td>\n",
              "      <td>4.5</td>\n",
              "      <td>9.65</td>\n",
              "      <td>1</td>\n",
              "      <td>0.92</td>\n",
              "    </tr>\n",
              "    <tr>\n",
              "      <th>1</th>\n",
              "      <td>2</td>\n",
              "      <td>324</td>\n",
              "      <td>107</td>\n",
              "      <td>4</td>\n",
              "      <td>4.0</td>\n",
              "      <td>4.5</td>\n",
              "      <td>8.87</td>\n",
              "      <td>1</td>\n",
              "      <td>0.76</td>\n",
              "    </tr>\n",
              "    <tr>\n",
              "      <th>2</th>\n",
              "      <td>3</td>\n",
              "      <td>316</td>\n",
              "      <td>104</td>\n",
              "      <td>3</td>\n",
              "      <td>3.0</td>\n",
              "      <td>3.5</td>\n",
              "      <td>8.00</td>\n",
              "      <td>1</td>\n",
              "      <td>0.72</td>\n",
              "    </tr>\n",
              "    <tr>\n",
              "      <th>3</th>\n",
              "      <td>4</td>\n",
              "      <td>322</td>\n",
              "      <td>110</td>\n",
              "      <td>3</td>\n",
              "      <td>3.5</td>\n",
              "      <td>2.5</td>\n",
              "      <td>8.67</td>\n",
              "      <td>1</td>\n",
              "      <td>0.80</td>\n",
              "    </tr>\n",
              "    <tr>\n",
              "      <th>4</th>\n",
              "      <td>5</td>\n",
              "      <td>314</td>\n",
              "      <td>103</td>\n",
              "      <td>2</td>\n",
              "      <td>2.0</td>\n",
              "      <td>3.0</td>\n",
              "      <td>8.21</td>\n",
              "      <td>0</td>\n",
              "      <td>0.65</td>\n",
              "    </tr>\n",
              "  </tbody>\n",
              "</table>\n",
              "</div>"
            ],
            "text/plain": [
              "   Serial No.  GRE Score  TOEFL Score  University Rating  SOP  LOR   CGPA  \\\n",
              "0           1        337          118                  4  4.5   4.5  9.65   \n",
              "1           2        324          107                  4  4.0   4.5  8.87   \n",
              "2           3        316          104                  3  3.0   3.5  8.00   \n",
              "3           4        322          110                  3  3.5   2.5  8.67   \n",
              "4           5        314          103                  2  2.0   3.0  8.21   \n",
              "\n",
              "   Research  Chance of Admit   \n",
              "0         1              0.92  \n",
              "1         1              0.76  \n",
              "2         1              0.72  \n",
              "3         1              0.80  \n",
              "4         0              0.65  "
            ]
          },
          "execution_count": 88,
          "metadata": {},
          "output_type": "execute_result"
        }
      ],
      "source": [
        "grad_admission = pd.read_csv(\"US_graduate_schools_admission_parameters_dataset.csv\")\n",
        "grad_admission.head()"
      ]
    },
    {
      "cell_type": "code",
      "execution_count": null,
      "metadata": {
        "id": "9SK_sq8Ic1rp",
        "outputId": "a7d0abca-b672-4a50-fc92-fe68bddce417"
      },
      "outputs": [
        {
          "name": "stdout",
          "output_type": "stream",
          "text": [
            "Number of rows: 400\n",
            "Number of columns: 9\n"
          ]
        }
      ],
      "source": [
        "row, col = grad_admission.shape\n",
        "print('Number of rows:',row)\n",
        "print('Number of columns:',col)"
      ]
    },
    {
      "cell_type": "markdown",
      "metadata": {
        "id": "wSpaCtoZc1rp"
      },
      "source": [
        "The dataset contains several parameters which are considered important during the application for Masters Programs.\n",
        "The parameters included are :\n",
        "\n",
        "1. GRE Scores ( out of 340 )\n",
        "2. TOEFL Scores ( out of 120 )\n",
        "3. University Rating ( out of 5 )\n",
        "4. Statement of Purpose and Letter of Recommendation Strength ( out of 5 )\n",
        "5. Undergraduate GPA ( out of 10 )\n",
        "6. Research Experience ( either 0 or 1 )\n",
        "7. Chance of Admit ( ranging from 0 to 1 )\n"
      ]
    },
    {
      "cell_type": "code",
      "execution_count": null,
      "metadata": {
        "id": "vwoUq7wAc1rp",
        "outputId": "a64e6cd2-40cb-4a9d-ab39-6fe6f98120fd"
      },
      "outputs": [
        {
          "data": {
            "text/html": [
              "<div>\n",
              "<style scoped>\n",
              "    .dataframe tbody tr th:only-of-type {\n",
              "        vertical-align: middle;\n",
              "    }\n",
              "\n",
              "    .dataframe tbody tr th {\n",
              "        vertical-align: top;\n",
              "    }\n",
              "\n",
              "    .dataframe thead th {\n",
              "        text-align: right;\n",
              "    }\n",
              "</style>\n",
              "<table border=\"1\" class=\"dataframe\">\n",
              "  <thead>\n",
              "    <tr style=\"text-align: right;\">\n",
              "      <th></th>\n",
              "      <th>ID number</th>\n",
              "      <th>Name</th>\n",
              "      <th>year</th>\n",
              "      <th>ZIP code</th>\n",
              "      <th>Highest degree offered</th>\n",
              "      <th>County name</th>\n",
              "      <th>Longitude location of institution</th>\n",
              "      <th>Latitude location of institution</th>\n",
              "      <th>Religious affiliation</th>\n",
              "      <th>Offers Less than one year certificate</th>\n",
              "      <th>...</th>\n",
              "      <th>Percent of freshmen  receiving federal grant aid</th>\n",
              "      <th>Percent of freshmen receiving Pell grants</th>\n",
              "      <th>Percent of freshmen receiving other federal grant aid</th>\n",
              "      <th>Percent of freshmen receiving state/local grant aid</th>\n",
              "      <th>Percent of freshmen receiving institutional grant aid</th>\n",
              "      <th>Percent of freshmen receiving student loan aid</th>\n",
              "      <th>Percent of freshmen receiving federal student loans</th>\n",
              "      <th>Percent of freshmen receiving other loan aid</th>\n",
              "      <th>Endowment assets (year end) per FTE enrollment (GASB)</th>\n",
              "      <th>Endowment assets (year end) per FTE enrollment (FASB)</th>\n",
              "    </tr>\n",
              "  </thead>\n",
              "  <tbody>\n",
              "    <tr>\n",
              "      <th>0</th>\n",
              "      <td>100654</td>\n",
              "      <td>Alabama A &amp; M University</td>\n",
              "      <td>2013</td>\n",
              "      <td>35762</td>\n",
              "      <td>Doctor's degree - research/scholarship</td>\n",
              "      <td>Madison County</td>\n",
              "      <td>-86.568502</td>\n",
              "      <td>34.783368</td>\n",
              "      <td>Not applicable</td>\n",
              "      <td>Implied no</td>\n",
              "      <td>...</td>\n",
              "      <td>81.0</td>\n",
              "      <td>81.0</td>\n",
              "      <td>7.0</td>\n",
              "      <td>1.0</td>\n",
              "      <td>32.0</td>\n",
              "      <td>89.0</td>\n",
              "      <td>89.0</td>\n",
              "      <td>1.0</td>\n",
              "      <td>NaN</td>\n",
              "      <td>NaN</td>\n",
              "    </tr>\n",
              "    <tr>\n",
              "      <th>1</th>\n",
              "      <td>100663</td>\n",
              "      <td>University of Alabama at Birmingham</td>\n",
              "      <td>2013</td>\n",
              "      <td>35294-0110</td>\n",
              "      <td>Doctor's degree - research/scholarship and pro...</td>\n",
              "      <td>Jefferson County</td>\n",
              "      <td>-86.809170</td>\n",
              "      <td>33.502230</td>\n",
              "      <td>Not applicable</td>\n",
              "      <td>Implied no</td>\n",
              "      <td>...</td>\n",
              "      <td>36.0</td>\n",
              "      <td>36.0</td>\n",
              "      <td>10.0</td>\n",
              "      <td>0.0</td>\n",
              "      <td>60.0</td>\n",
              "      <td>56.0</td>\n",
              "      <td>55.0</td>\n",
              "      <td>5.0</td>\n",
              "      <td>24136.0</td>\n",
              "      <td>NaN</td>\n",
              "    </tr>\n",
              "    <tr>\n",
              "      <th>2</th>\n",
              "      <td>100690</td>\n",
              "      <td>Amridge University</td>\n",
              "      <td>2013</td>\n",
              "      <td>36117-3553</td>\n",
              "      <td>Doctor's degree - research/scholarship and pro...</td>\n",
              "      <td>Montgomery County</td>\n",
              "      <td>-86.174010</td>\n",
              "      <td>32.362609</td>\n",
              "      <td>Churches of Christ</td>\n",
              "      <td>Implied no</td>\n",
              "      <td>...</td>\n",
              "      <td>90.0</td>\n",
              "      <td>90.0</td>\n",
              "      <td>0.0</td>\n",
              "      <td>40.0</td>\n",
              "      <td>90.0</td>\n",
              "      <td>100.0</td>\n",
              "      <td>100.0</td>\n",
              "      <td>0.0</td>\n",
              "      <td>NaN</td>\n",
              "      <td>302.0</td>\n",
              "    </tr>\n",
              "    <tr>\n",
              "      <th>3</th>\n",
              "      <td>100706</td>\n",
              "      <td>University of Alabama in Huntsville</td>\n",
              "      <td>2013</td>\n",
              "      <td>35899</td>\n",
              "      <td>Doctor's degree - research/scholarship and pro...</td>\n",
              "      <td>Madison County</td>\n",
              "      <td>-86.638420</td>\n",
              "      <td>34.722818</td>\n",
              "      <td>Not applicable</td>\n",
              "      <td>Yes</td>\n",
              "      <td>...</td>\n",
              "      <td>31.0</td>\n",
              "      <td>31.0</td>\n",
              "      <td>4.0</td>\n",
              "      <td>1.0</td>\n",
              "      <td>63.0</td>\n",
              "      <td>46.0</td>\n",
              "      <td>46.0</td>\n",
              "      <td>3.0</td>\n",
              "      <td>11502.0</td>\n",
              "      <td>NaN</td>\n",
              "    </tr>\n",
              "    <tr>\n",
              "      <th>4</th>\n",
              "      <td>100724</td>\n",
              "      <td>Alabama State University</td>\n",
              "      <td>2013</td>\n",
              "      <td>36104-0271</td>\n",
              "      <td>Doctor's degree - research/scholarship and pro...</td>\n",
              "      <td>Montgomery County</td>\n",
              "      <td>-86.295677</td>\n",
              "      <td>32.364317</td>\n",
              "      <td>Not applicable</td>\n",
              "      <td>Implied no</td>\n",
              "      <td>...</td>\n",
              "      <td>76.0</td>\n",
              "      <td>76.0</td>\n",
              "      <td>13.0</td>\n",
              "      <td>11.0</td>\n",
              "      <td>34.0</td>\n",
              "      <td>81.0</td>\n",
              "      <td>81.0</td>\n",
              "      <td>0.0</td>\n",
              "      <td>13202.0</td>\n",
              "      <td>NaN</td>\n",
              "    </tr>\n",
              "  </tbody>\n",
              "</table>\n",
              "<p>5 rows × 145 columns</p>\n",
              "</div>"
            ],
            "text/plain": [
              "   ID number                                 Name  year    ZIP code  \\\n",
              "0     100654             Alabama A & M University  2013       35762   \n",
              "1     100663  University of Alabama at Birmingham  2013  35294-0110   \n",
              "2     100690                   Amridge University  2013  36117-3553   \n",
              "3     100706  University of Alabama in Huntsville  2013       35899   \n",
              "4     100724             Alabama State University  2013  36104-0271   \n",
              "\n",
              "                              Highest degree offered        County name  \\\n",
              "0             Doctor's degree - research/scholarship     Madison County   \n",
              "1  Doctor's degree - research/scholarship and pro...   Jefferson County   \n",
              "2  Doctor's degree - research/scholarship and pro...  Montgomery County   \n",
              "3  Doctor's degree - research/scholarship and pro...     Madison County   \n",
              "4  Doctor's degree - research/scholarship and pro...  Montgomery County   \n",
              "\n",
              "   Longitude location of institution  Latitude location of institution  \\\n",
              "0                         -86.568502                         34.783368   \n",
              "1                         -86.809170                         33.502230   \n",
              "2                         -86.174010                         32.362609   \n",
              "3                         -86.638420                         34.722818   \n",
              "4                         -86.295677                         32.364317   \n",
              "\n",
              "  Religious affiliation Offers Less than one year certificate  ...  \\\n",
              "0        Not applicable                            Implied no  ...   \n",
              "1        Not applicable                            Implied no  ...   \n",
              "2    Churches of Christ                            Implied no  ...   \n",
              "3        Not applicable                                   Yes  ...   \n",
              "4        Not applicable                            Implied no  ...   \n",
              "\n",
              "  Percent of freshmen  receiving federal grant aid  \\\n",
              "0                                             81.0   \n",
              "1                                             36.0   \n",
              "2                                             90.0   \n",
              "3                                             31.0   \n",
              "4                                             76.0   \n",
              "\n",
              "  Percent of freshmen receiving Pell grants  \\\n",
              "0                                      81.0   \n",
              "1                                      36.0   \n",
              "2                                      90.0   \n",
              "3                                      31.0   \n",
              "4                                      76.0   \n",
              "\n",
              "  Percent of freshmen receiving other federal grant aid  \\\n",
              "0                                                7.0      \n",
              "1                                               10.0      \n",
              "2                                                0.0      \n",
              "3                                                4.0      \n",
              "4                                               13.0      \n",
              "\n",
              "  Percent of freshmen receiving state/local grant aid  \\\n",
              "0                                                1.0    \n",
              "1                                                0.0    \n",
              "2                                               40.0    \n",
              "3                                                1.0    \n",
              "4                                               11.0    \n",
              "\n",
              "  Percent of freshmen receiving institutional grant aid  \\\n",
              "0                                               32.0      \n",
              "1                                               60.0      \n",
              "2                                               90.0      \n",
              "3                                               63.0      \n",
              "4                                               34.0      \n",
              "\n",
              "  Percent of freshmen receiving student loan aid  \\\n",
              "0                                           89.0   \n",
              "1                                           56.0   \n",
              "2                                          100.0   \n",
              "3                                           46.0   \n",
              "4                                           81.0   \n",
              "\n",
              "  Percent of freshmen receiving federal student loans  \\\n",
              "0                                               89.0    \n",
              "1                                               55.0    \n",
              "2                                              100.0    \n",
              "3                                               46.0    \n",
              "4                                               81.0    \n",
              "\n",
              "  Percent of freshmen receiving other loan aid  \\\n",
              "0                                          1.0   \n",
              "1                                          5.0   \n",
              "2                                          0.0   \n",
              "3                                          3.0   \n",
              "4                                          0.0   \n",
              "\n",
              "  Endowment assets (year end) per FTE enrollment (GASB)  \\\n",
              "0                                                NaN      \n",
              "1                                            24136.0      \n",
              "2                                                NaN      \n",
              "3                                            11502.0      \n",
              "4                                            13202.0      \n",
              "\n",
              "  Endowment assets (year end) per FTE enrollment (FASB)  \n",
              "0                                                NaN     \n",
              "1                                                NaN     \n",
              "2                                              302.0     \n",
              "3                                                NaN     \n",
              "4                                                NaN     \n",
              "\n",
              "[5 rows x 145 columns]"
            ]
          },
          "execution_count": 90,
          "metadata": {},
          "output_type": "execute_result"
        }
      ],
      "source": [
        "american_university_data = pd.read_excel(\"IPEDS_data.xlsx\")\n",
        "american_university_data.head()"
      ]
    },
    {
      "cell_type": "code",
      "execution_count": null,
      "metadata": {
        "id": "ZVRbq3R4c1rp",
        "outputId": "7db83d47-1e36-47aa-a88a-9603c54bcf0d"
      },
      "outputs": [
        {
          "name": "stdout",
          "output_type": "stream",
          "text": [
            "Number of rows: 1534\n",
            "Number of columns: 145\n"
          ]
        }
      ],
      "source": [
        "row, col = american_university_data.shape\n",
        "print('Number of rows:',row)\n",
        "print('Number of columns:',col)"
      ]
    },
    {
      "cell_type": "markdown",
      "metadata": {
        "id": "Bo0XnOduc1rp"
      },
      "source": [
        "This dataset is very large with **145** columns. We want to look at the relation between graduate student enrollment of Nonresident Alien and Women. Hence, we will use these columns from the dataset to create a new dataframe."
      ]
    },
    {
      "cell_type": "code",
      "execution_count": null,
      "metadata": {
        "id": "LaC4czGnc1rq",
        "outputId": "d15deb8b-c3e7-48f9-a7c0-eb9a29367599"
      },
      "outputs": [
        {
          "data": {
            "text/html": [
              "<div>\n",
              "<style scoped>\n",
              "    .dataframe tbody tr th:only-of-type {\n",
              "        vertical-align: middle;\n",
              "    }\n",
              "\n",
              "    .dataframe tbody tr th {\n",
              "        vertical-align: top;\n",
              "    }\n",
              "\n",
              "    .dataframe thead th {\n",
              "        text-align: right;\n",
              "    }\n",
              "</style>\n",
              "<table border=\"1\" class=\"dataframe\">\n",
              "  <thead>\n",
              "    <tr style=\"text-align: right;\">\n",
              "      <th></th>\n",
              "      <th>Percent of graduate enrollment that are Nonresident Alien</th>\n",
              "      <th>Percent of graduate enrollment that are women</th>\n",
              "    </tr>\n",
              "  </thead>\n",
              "  <tbody>\n",
              "    <tr>\n",
              "      <th>0</th>\n",
              "      <td>0.0</td>\n",
              "      <td>69.0</td>\n",
              "    </tr>\n",
              "    <tr>\n",
              "      <th>1</th>\n",
              "      <td>6.0</td>\n",
              "      <td>64.0</td>\n",
              "    </tr>\n",
              "    <tr>\n",
              "      <th>2</th>\n",
              "      <td>0.0</td>\n",
              "      <td>55.0</td>\n",
              "    </tr>\n",
              "    <tr>\n",
              "      <th>3</th>\n",
              "      <td>14.0</td>\n",
              "      <td>43.0</td>\n",
              "    </tr>\n",
              "    <tr>\n",
              "      <th>4</th>\n",
              "      <td>1.0</td>\n",
              "      <td>71.0</td>\n",
              "    </tr>\n",
              "    <tr>\n",
              "      <th>...</th>\n",
              "      <td>...</td>\n",
              "      <td>...</td>\n",
              "    </tr>\n",
              "    <tr>\n",
              "      <th>1529</th>\n",
              "      <td>4.0</td>\n",
              "      <td>65.0</td>\n",
              "    </tr>\n",
              "    <tr>\n",
              "      <th>1530</th>\n",
              "      <td>NaN</td>\n",
              "      <td>NaN</td>\n",
              "    </tr>\n",
              "    <tr>\n",
              "      <th>1531</th>\n",
              "      <td>0.0</td>\n",
              "      <td>60.0</td>\n",
              "    </tr>\n",
              "    <tr>\n",
              "      <th>1532</th>\n",
              "      <td>NaN</td>\n",
              "      <td>NaN</td>\n",
              "    </tr>\n",
              "    <tr>\n",
              "      <th>1533</th>\n",
              "      <td>0.0</td>\n",
              "      <td>33.0</td>\n",
              "    </tr>\n",
              "  </tbody>\n",
              "</table>\n",
              "<p>1534 rows × 2 columns</p>\n",
              "</div>"
            ],
            "text/plain": [
              "      Percent of graduate enrollment that are Nonresident Alien  \\\n",
              "0                                                   0.0           \n",
              "1                                                   6.0           \n",
              "2                                                   0.0           \n",
              "3                                                  14.0           \n",
              "4                                                   1.0           \n",
              "...                                                 ...           \n",
              "1529                                                4.0           \n",
              "1530                                                NaN           \n",
              "1531                                                0.0           \n",
              "1532                                                NaN           \n",
              "1533                                                0.0           \n",
              "\n",
              "      Percent of graduate enrollment that are women  \n",
              "0                                              69.0  \n",
              "1                                              64.0  \n",
              "2                                              55.0  \n",
              "3                                              43.0  \n",
              "4                                              71.0  \n",
              "...                                             ...  \n",
              "1529                                           65.0  \n",
              "1530                                            NaN  \n",
              "1531                                           60.0  \n",
              "1532                                            NaN  \n",
              "1533                                           33.0  \n",
              "\n",
              "[1534 rows x 2 columns]"
            ]
          },
          "execution_count": 92,
          "metadata": {},
          "output_type": "execute_result"
        }
      ],
      "source": [
        "graduate_enrollment = american_university_data[[\n",
        "    'Percent of graduate enrollment that are Nonresident Alien',\n",
        "    'Percent of graduate enrollment that are women'\n",
        "]]\n",
        "graduate_enrollment"
      ]
    },
    {
      "cell_type": "code",
      "execution_count": null,
      "metadata": {
        "id": "AKNeePCuc1rq",
        "outputId": "26a5c570-21fe-429f-eec8-259ca949703d"
      },
      "outputs": [
        {
          "data": {
            "text/html": [
              "<div>\n",
              "<style scoped>\n",
              "    .dataframe tbody tr th:only-of-type {\n",
              "        vertical-align: middle;\n",
              "    }\n",
              "\n",
              "    .dataframe tbody tr th {\n",
              "        vertical-align: top;\n",
              "    }\n",
              "\n",
              "    .dataframe thead tr th {\n",
              "        text-align: left;\n",
              "    }\n",
              "</style>\n",
              "<table border=\"1\" class=\"dataframe\">\n",
              "  <thead>\n",
              "    <tr>\n",
              "      <th></th>\n",
              "      <th colspan=\"4\" halign=\"left\">Total (56 institutions)</th>\n",
              "      <th colspan=\"4\" halign=\"left\">27 private universities</th>\n",
              "      <th colspan=\"4\" halign=\"left\">6 public universities</th>\n",
              "      <th colspan=\"4\" halign=\"left\">23 liberal arts colleges</th>\n",
              "    </tr>\n",
              "    <tr>\n",
              "      <th></th>\n",
              "      <th>Unnamed: 1_level_1</th>\n",
              "      <th>Unnamed: 2_level_1</th>\n",
              "      <th>Unnamed: 3_level_1</th>\n",
              "      <th>Unnamed: 5_level_1</th>\n",
              "      <th colspan=\"4\" halign=\"left\">Ivy League, Stanford, MIT, Chicago, Duke, Northwestern, Vanderbilt, Johns Hopkins, Rice, USC, WUSTL, Tulane, Tufts, Georgetown, Carnegie Mellon, Notre Dame, Emory, NYU, BU, Northeastern</th>\n",
              "      <th colspan=\"4\" halign=\"left\">UCLA, UC Berkeley, Georgia Tech, UNC-Chapel Hill, Michigan Ann Arbor, Virginia</th>\n",
              "      <th colspan=\"4\" halign=\"left\">Pomona, Claremont McK, Swarthmore, Bowdoin, Amherst, Williams, Colby, Barnard, Pitzer, Bates, Harvey Mudd, Colorado Coll, Middlebury, Wesleyan, Hamilton, Haverford, Carleton, Davidson, Wellesley, W&amp;L, Colgate, Grinnell, Vassar</th>\n",
              "    </tr>\n",
              "    <tr>\n",
              "      <th></th>\n",
              "      <th>Apps</th>\n",
              "      <th>Admits</th>\n",
              "      <th>Enroll</th>\n",
              "      <th>Admit:Enroll</th>\n",
              "      <th>Apps</th>\n",
              "      <th>Admits</th>\n",
              "      <th>Enroll</th>\n",
              "      <th>Admit:Enroll</th>\n",
              "      <th>Apps</th>\n",
              "      <th>Admits</th>\n",
              "      <th>Enroll</th>\n",
              "      <th>Admit:Enroll</th>\n",
              "      <th>Apps</th>\n",
              "      <th>Admits</th>\n",
              "      <th>Enroll</th>\n",
              "      <th>Admit:Enroll</th>\n",
              "    </tr>\n",
              "  </thead>\n",
              "  <tbody>\n",
              "    <tr>\n",
              "      <th>count</th>\n",
              "      <td>1.900000e+01</td>\n",
              "      <td>19.000000</td>\n",
              "      <td>19.000000</td>\n",
              "      <td>19.000000</td>\n",
              "      <td>1.900000e+01</td>\n",
              "      <td>19.000000</td>\n",
              "      <td>19.000000</td>\n",
              "      <td>19.000000</td>\n",
              "      <td>19.000000</td>\n",
              "      <td>19.000000</td>\n",
              "      <td>19.000000</td>\n",
              "      <td>19.000000</td>\n",
              "      <td>19.000000</td>\n",
              "      <td>19.000000</td>\n",
              "      <td>19.000000</td>\n",
              "      <td>19.000000</td>\n",
              "    </tr>\n",
              "    <tr>\n",
              "      <th>mean</th>\n",
              "      <td>1.048592e+06</td>\n",
              "      <td>225986.105263</td>\n",
              "      <td>88433.578947</td>\n",
              "      <td>2.557368</td>\n",
              "      <td>6.888550e+05</td>\n",
              "      <td>135323.842105</td>\n",
              "      <td>51395.210526</td>\n",
              "      <td>2.635789</td>\n",
              "      <td>228147.421053</td>\n",
              "      <td>61081.578947</td>\n",
              "      <td>25823.315789</td>\n",
              "      <td>2.356842</td>\n",
              "      <td>131589.736842</td>\n",
              "      <td>29580.684211</td>\n",
              "      <td>11215.052632</td>\n",
              "      <td>2.641579</td>\n",
              "    </tr>\n",
              "    <tr>\n",
              "      <th>std</th>\n",
              "      <td>3.261943e+05</td>\n",
              "      <td>15500.616131</td>\n",
              "      <td>5322.166709</td>\n",
              "      <td>0.132155</td>\n",
              "      <td>2.095399e+05</td>\n",
              "      <td>10258.641692</td>\n",
              "      <td>2145.224841</td>\n",
              "      <td>0.197718</td>\n",
              "      <td>88569.440534</td>\n",
              "      <td>9286.123401</td>\n",
              "      <td>2969.030744</td>\n",
              "      <td>0.129317</td>\n",
              "      <td>30413.669582</td>\n",
              "      <td>476.257406</td>\n",
              "      <td>309.091226</td>\n",
              "      <td>0.096452</td>\n",
              "    </tr>\n",
              "    <tr>\n",
              "      <th>min</th>\n",
              "      <td>6.451110e+05</td>\n",
              "      <td>198815.000000</td>\n",
              "      <td>79872.000000</td>\n",
              "      <td>2.230000</td>\n",
              "      <td>4.158550e+05</td>\n",
              "      <td>115069.000000</td>\n",
              "      <td>46931.000000</td>\n",
              "      <td>2.140000</td>\n",
              "      <td>138627.000000</td>\n",
              "      <td>49041.000000</td>\n",
              "      <td>22110.000000</td>\n",
              "      <td>2.200000</td>\n",
              "      <td>90629.000000</td>\n",
              "      <td>28452.000000</td>\n",
              "      <td>10791.000000</td>\n",
              "      <td>2.430000</td>\n",
              "    </tr>\n",
              "    <tr>\n",
              "      <th>25%</th>\n",
              "      <td>7.554335e+05</td>\n",
              "      <td>213666.000000</td>\n",
              "      <td>83791.000000</td>\n",
              "      <td>2.485000</td>\n",
              "      <td>5.001575e+05</td>\n",
              "      <td>126472.500000</td>\n",
              "      <td>49798.500000</td>\n",
              "      <td>2.555000</td>\n",
              "      <td>148150.500000</td>\n",
              "      <td>51886.500000</td>\n",
              "      <td>23379.000000</td>\n",
              "      <td>2.230000</td>\n",
              "      <td>107125.500000</td>\n",
              "      <td>29377.500000</td>\n",
              "      <td>10934.000000</td>\n",
              "      <td>2.565000</td>\n",
              "    </tr>\n",
              "    <tr>\n",
              "      <th>50%</th>\n",
              "      <td>1.004309e+06</td>\n",
              "      <td>225082.000000</td>\n",
              "      <td>88205.000000</td>\n",
              "      <td>2.570000</td>\n",
              "      <td>6.853430e+05</td>\n",
              "      <td>135960.000000</td>\n",
              "      <td>51655.000000</td>\n",
              "      <td>2.660000</td>\n",
              "      <td>192770.000000</td>\n",
              "      <td>59986.000000</td>\n",
              "      <td>25092.000000</td>\n",
              "      <td>2.350000</td>\n",
              "      <td>127053.000000</td>\n",
              "      <td>29650.000000</td>\n",
              "      <td>11216.000000</td>\n",
              "      <td>2.650000</td>\n",
              "    </tr>\n",
              "    <tr>\n",
              "      <th>75%</th>\n",
              "      <td>1.302571e+06</td>\n",
              "      <td>240057.000000</td>\n",
              "      <td>92630.500000</td>\n",
              "      <td>2.640000</td>\n",
              "      <td>8.482905e+05</td>\n",
              "      <td>142237.000000</td>\n",
              "      <td>52995.500000</td>\n",
              "      <td>2.750000</td>\n",
              "      <td>305486.000000</td>\n",
              "      <td>70182.000000</td>\n",
              "      <td>28195.000000</td>\n",
              "      <td>2.480000</td>\n",
              "      <td>148794.500000</td>\n",
              "      <td>29860.000000</td>\n",
              "      <td>11427.000000</td>\n",
              "      <td>2.725000</td>\n",
              "    </tr>\n",
              "    <tr>\n",
              "      <th>max</th>\n",
              "      <td>1.639951e+06</td>\n",
              "      <td>242910.000000</td>\n",
              "      <td>96815.000000</td>\n",
              "      <td>2.740000</td>\n",
              "      <td>1.060372e+06</td>\n",
              "      <td>151508.000000</td>\n",
              "      <td>54826.000000</td>\n",
              "      <td>2.930000</td>\n",
              "      <td>384589.000000</td>\n",
              "      <td>74255.000000</td>\n",
              "      <td>30400.000000</td>\n",
              "      <td>2.590000</td>\n",
              "      <td>195790.000000</td>\n",
              "      <td>30581.000000</td>\n",
              "      <td>11808.000000</td>\n",
              "      <td>2.770000</td>\n",
              "    </tr>\n",
              "  </tbody>\n",
              "</table>\n",
              "</div>"
            ],
            "text/plain": [
              "      Total (56 institutions)                                        \\\n",
              "           Unnamed: 1_level_1 Unnamed: 2_level_1 Unnamed: 3_level_1   \n",
              "                         Apps             Admits             Enroll   \n",
              "count            1.900000e+01          19.000000          19.000000   \n",
              "mean             1.048592e+06      225986.105263       88433.578947   \n",
              "std              3.261943e+05       15500.616131        5322.166709   \n",
              "min              6.451110e+05      198815.000000       79872.000000   \n",
              "25%              7.554335e+05      213666.000000       83791.000000   \n",
              "50%              1.004309e+06      225082.000000       88205.000000   \n",
              "75%              1.302571e+06      240057.000000       92630.500000   \n",
              "max              1.639951e+06      242910.000000       96815.000000   \n",
              "\n",
              "                          \\\n",
              "      Unnamed: 5_level_1   \n",
              "            Admit:Enroll   \n",
              "count          19.000000   \n",
              "mean            2.557368   \n",
              "std             0.132155   \n",
              "min             2.230000   \n",
              "25%             2.485000   \n",
              "50%             2.570000   \n",
              "75%             2.640000   \n",
              "max             2.740000   \n",
              "\n",
              "                                                                                                                                                                        27 private universities  \\\n",
              "      Ivy League, Stanford, MIT, Chicago, Duke, Northwestern, Vanderbilt, Johns Hopkins, Rice, USC, WUSTL, Tulane, Tufts, Georgetown, Carnegie Mellon, Notre Dame, Emory, NYU, BU, Northeastern   \n",
              "                                                                                                                                                                                           Apps   \n",
              "count                                       1.900000e+01                                                                                                                                          \n",
              "mean                                        6.888550e+05                                                                                                                                          \n",
              "std                                         2.095399e+05                                                                                                                                          \n",
              "min                                         4.158550e+05                                                                                                                                          \n",
              "25%                                         5.001575e+05                                                                                                                                          \n",
              "50%                                         6.853430e+05                                                                                                                                          \n",
              "75%                                         8.482905e+05                                                                                                                                          \n",
              "max                                         1.060372e+06                                                                                                                                          \n",
              "\n",
              "                                                 \\\n",
              "                                                  \n",
              "              Admits        Enroll Admit:Enroll   \n",
              "count      19.000000     19.000000    19.000000   \n",
              "mean   135323.842105  51395.210526     2.635789   \n",
              "std     10258.641692   2145.224841     0.197718   \n",
              "min    115069.000000  46931.000000     2.140000   \n",
              "25%    126472.500000  49798.500000     2.555000   \n",
              "50%    135960.000000  51655.000000     2.660000   \n",
              "75%    142237.000000  52995.500000     2.750000   \n",
              "max    151508.000000  54826.000000     2.930000   \n",
              "\n",
              "                                                               6 public universities  \\\n",
              "      UCLA, UC Berkeley, Georgia Tech, UNC-Chapel Hill, Michigan Ann Arbor, Virginia   \n",
              "                                                                                Apps   \n",
              "count                                          19.000000                               \n",
              "mean                                       228147.421053                               \n",
              "std                                         88569.440534                               \n",
              "min                                        138627.000000                               \n",
              "25%                                        148150.500000                               \n",
              "50%                                        192770.000000                               \n",
              "75%                                        305486.000000                               \n",
              "max                                        384589.000000                               \n",
              "\n",
              "                                                \\\n",
              "                                                 \n",
              "             Admits        Enroll Admit:Enroll   \n",
              "count     19.000000     19.000000    19.000000   \n",
              "mean   61081.578947  25823.315789     2.356842   \n",
              "std     9286.123401   2969.030744     0.129317   \n",
              "min    49041.000000  22110.000000     2.200000   \n",
              "25%    51886.500000  23379.000000     2.230000   \n",
              "50%    59986.000000  25092.000000     2.350000   \n",
              "75%    70182.000000  28195.000000     2.480000   \n",
              "max    74255.000000  30400.000000     2.590000   \n",
              "\n",
              "                                                                                                                                                                                                                23 liberal arts colleges  \\\n",
              "      Pomona, Claremont McK, Swarthmore, Bowdoin, Amherst, Williams, Colby, Barnard, Pitzer, Bates, Harvey Mudd, Colorado Coll, Middlebury, Wesleyan, Hamilton, Haverford, Carleton, Davidson, Wellesley, W&L, Colgate, Grinnell, Vassar   \n",
              "                                                                                                                                                                                                                                    Apps   \n",
              "count                                          19.000000                                                                                                                                                                                   \n",
              "mean                                       131589.736842                                                                                                                                                                                   \n",
              "std                                         30413.669582                                                                                                                                                                                   \n",
              "min                                         90629.000000                                                                                                                                                                                   \n",
              "25%                                        107125.500000                                                                                                                                                                                   \n",
              "50%                                        127053.000000                                                                                                                                                                                   \n",
              "75%                                        148794.500000                                                                                                                                                                                   \n",
              "max                                        195790.000000                                                                                                                                                                                   \n",
              "\n",
              "                                                \n",
              "                                                \n",
              "             Admits        Enroll Admit:Enroll  \n",
              "count     19.000000     19.000000    19.000000  \n",
              "mean   29580.684211  11215.052632     2.641579  \n",
              "std      476.257406    309.091226     0.096452  \n",
              "min    28452.000000  10791.000000     2.430000  \n",
              "25%    29377.500000  10934.000000     2.565000  \n",
              "50%    29650.000000  11216.000000     2.650000  \n",
              "75%    29860.000000  11427.000000     2.725000  \n",
              "max    30581.000000  11808.000000     2.770000  "
            ]
          },
          "metadata": {},
          "output_type": "display_data"
        },
        {
          "data": {
            "text/html": [
              "<div>\n",
              "<style scoped>\n",
              "    .dataframe tbody tr th:only-of-type {\n",
              "        vertical-align: middle;\n",
              "    }\n",
              "\n",
              "    .dataframe tbody tr th {\n",
              "        vertical-align: top;\n",
              "    }\n",
              "\n",
              "    .dataframe thead tr th {\n",
              "        text-align: left;\n",
              "    }\n",
              "</style>\n",
              "<table border=\"1\" class=\"dataframe\">\n",
              "  <thead>\n",
              "    <tr>\n",
              "      <th></th>\n",
              "      <th>Unnamed: 0_level_0</th>\n",
              "      <th colspan=\"5\" halign=\"left\">Total (56 institutions)</th>\n",
              "      <th colspan=\"4\" halign=\"left\">27 private universities</th>\n",
              "      <th>...</th>\n",
              "      <th colspan=\"5\" halign=\"left\">6 public universities</th>\n",
              "      <th colspan=\"5\" halign=\"left\">23 liberal arts colleges</th>\n",
              "    </tr>\n",
              "    <tr>\n",
              "      <th></th>\n",
              "      <th>Unnamed: 0_level_1</th>\n",
              "      <th>Unnamed: 1_level_1</th>\n",
              "      <th>Unnamed: 2_level_1</th>\n",
              "      <th>Unnamed: 3_level_1</th>\n",
              "      <th>Unnamed: 4_level_1</th>\n",
              "      <th>Unnamed: 5_level_1</th>\n",
              "      <th colspan=\"4\" halign=\"left\">Ivy League, Stanford, MIT, Chicago, Duke, Northwestern, Vanderbilt, Johns Hopkins, Rice, USC, WUSTL, Tulane, Tufts, Georgetown, Carnegie Mellon, Notre Dame, Emory, NYU, BU, Northeastern</th>\n",
              "      <th>...</th>\n",
              "      <th colspan=\"5\" halign=\"left\">UCLA, UC Berkeley, Georgia Tech, UNC-Chapel Hill, Michigan Ann Arbor, Virginia</th>\n",
              "      <th colspan=\"5\" halign=\"left\">Pomona, Claremont McK, Swarthmore, Bowdoin, Amherst, Williams, Colby, Barnard, Pitzer, Bates, Harvey Mudd, Colorado Coll, Middlebury, Wesleyan, Hamilton, Haverford, Carleton, Davidson, Wellesley, W&amp;L, Colgate, Grinnell, Vassar</th>\n",
              "    </tr>\n",
              "    <tr>\n",
              "      <th></th>\n",
              "      <th>Admit Year</th>\n",
              "      <th>Apps</th>\n",
              "      <th>Admits</th>\n",
              "      <th>Enroll</th>\n",
              "      <th>Admit Rate</th>\n",
              "      <th>Admit:Enroll</th>\n",
              "      <th>Apps</th>\n",
              "      <th>Admits</th>\n",
              "      <th>Enroll</th>\n",
              "      <th>Admit Rate</th>\n",
              "      <th>...</th>\n",
              "      <th>Apps</th>\n",
              "      <th>Admits</th>\n",
              "      <th>Enroll</th>\n",
              "      <th>Admit Rate</th>\n",
              "      <th>Admit:Enroll</th>\n",
              "      <th>Apps</th>\n",
              "      <th>Admits</th>\n",
              "      <th>Enroll</th>\n",
              "      <th>Admit Rate</th>\n",
              "      <th>Admit:Enroll</th>\n",
              "    </tr>\n",
              "  </thead>\n",
              "  <tbody>\n",
              "    <tr>\n",
              "      <th>0</th>\n",
              "      <td>2001-02</td>\n",
              "      <td>645111</td>\n",
              "      <td>198815</td>\n",
              "      <td>79872</td>\n",
              "      <td>30.8%</td>\n",
              "      <td>2.49</td>\n",
              "      <td>415855</td>\n",
              "      <td>120124</td>\n",
              "      <td>46931</td>\n",
              "      <td>28.9%</td>\n",
              "      <td>...</td>\n",
              "      <td>138627</td>\n",
              "      <td>49041</td>\n",
              "      <td>22110</td>\n",
              "      <td>35.4%</td>\n",
              "      <td>2.22</td>\n",
              "      <td>90629</td>\n",
              "      <td>29650</td>\n",
              "      <td>10831</td>\n",
              "      <td>32.7%</td>\n",
              "      <td>2.74</td>\n",
              "    </tr>\n",
              "    <tr>\n",
              "      <th>1</th>\n",
              "      <td>2002-03</td>\n",
              "      <td>650908</td>\n",
              "      <td>202565</td>\n",
              "      <td>82026</td>\n",
              "      <td>31.1%</td>\n",
              "      <td>2.47</td>\n",
              "      <td>418230</td>\n",
              "      <td>123779</td>\n",
              "      <td>48626</td>\n",
              "      <td>29.6%</td>\n",
              "      <td>...</td>\n",
              "      <td>141166</td>\n",
              "      <td>49377</td>\n",
              "      <td>22264</td>\n",
              "      <td>35.0%</td>\n",
              "      <td>2.22</td>\n",
              "      <td>91512</td>\n",
              "      <td>29409</td>\n",
              "      <td>11136</td>\n",
              "      <td>32.1%</td>\n",
              "      <td>2.64</td>\n",
              "    </tr>\n",
              "    <tr>\n",
              "      <th>2</th>\n",
              "      <td>2003-04</td>\n",
              "      <td>681989</td>\n",
              "      <td>206423</td>\n",
              "      <td>82544</td>\n",
              "      <td>30.3%</td>\n",
              "      <td>2.50</td>\n",
              "      <td>439502</td>\n",
              "      <td>126504</td>\n",
              "      <td>49491</td>\n",
              "      <td>28.8%</td>\n",
              "      <td>...</td>\n",
              "      <td>146165</td>\n",
              "      <td>50209</td>\n",
              "      <td>22262</td>\n",
              "      <td>34.4%</td>\n",
              "      <td>2.26</td>\n",
              "      <td>96322</td>\n",
              "      <td>29710</td>\n",
              "      <td>10791</td>\n",
              "      <td>30.8%</td>\n",
              "      <td>2.75</td>\n",
              "    </tr>\n",
              "    <tr>\n",
              "      <th>3</th>\n",
              "      <td>2004-05</td>\n",
              "      <td>699074</td>\n",
              "      <td>207238</td>\n",
              "      <td>83682</td>\n",
              "      <td>29.6%</td>\n",
              "      <td>2.48</td>\n",
              "      <td>453319</td>\n",
              "      <td>126441</td>\n",
              "      <td>49615</td>\n",
              "      <td>27.9%</td>\n",
              "      <td>...</td>\n",
              "      <td>144258</td>\n",
              "      <td>50923</td>\n",
              "      <td>23169</td>\n",
              "      <td>35.3%</td>\n",
              "      <td>2.20</td>\n",
              "      <td>101497</td>\n",
              "      <td>29874</td>\n",
              "      <td>10898</td>\n",
              "      <td>29.4%</td>\n",
              "      <td>2.74</td>\n",
              "    </tr>\n",
              "    <tr>\n",
              "      <th>4</th>\n",
              "      <td>2005-06</td>\n",
              "      <td>737493</td>\n",
              "      <td>213865</td>\n",
              "      <td>83591</td>\n",
              "      <td>29.0%</td>\n",
              "      <td>2.56</td>\n",
              "      <td>484023</td>\n",
              "      <td>132750</td>\n",
              "      <td>49982</td>\n",
              "      <td>27.4%</td>\n",
              "      <td>...</td>\n",
              "      <td>147507</td>\n",
              "      <td>51430</td>\n",
              "      <td>22639</td>\n",
              "      <td>34.9%</td>\n",
              "      <td>2.27</td>\n",
              "      <td>105963</td>\n",
              "      <td>29685</td>\n",
              "      <td>10970</td>\n",
              "      <td>28.0%</td>\n",
              "      <td>2.71</td>\n",
              "    </tr>\n",
              "    <tr>\n",
              "      <th>5</th>\n",
              "      <td>2006-07</td>\n",
              "      <td>773374</td>\n",
              "      <td>217846</td>\n",
              "      <td>83900</td>\n",
              "      <td>28.2%</td>\n",
              "      <td>2.60</td>\n",
              "      <td>516292</td>\n",
              "      <td>135568</td>\n",
              "      <td>49507</td>\n",
              "      <td>26.3%</td>\n",
              "      <td>...</td>\n",
              "      <td>148794</td>\n",
              "      <td>52343</td>\n",
              "      <td>23589</td>\n",
              "      <td>35.2%</td>\n",
              "      <td>2.22</td>\n",
              "      <td>108288</td>\n",
              "      <td>29935</td>\n",
              "      <td>10804</td>\n",
              "      <td>27.6%</td>\n",
              "      <td>2.77</td>\n",
              "    </tr>\n",
              "    <tr>\n",
              "      <th>6</th>\n",
              "      <td>2007-08</td>\n",
              "      <td>820664</td>\n",
              "      <td>220242</td>\n",
              "      <td>85739</td>\n",
              "      <td>26.8%</td>\n",
              "      <td>2.57</td>\n",
              "      <td>542066</td>\n",
              "      <td>135960</td>\n",
              "      <td>50249</td>\n",
              "      <td>25.1%</td>\n",
              "      <td>...</td>\n",
              "      <td>163374</td>\n",
              "      <td>54788</td>\n",
              "      <td>24637</td>\n",
              "      <td>33.5%</td>\n",
              "      <td>2.22</td>\n",
              "      <td>115224</td>\n",
              "      <td>29494</td>\n",
              "      <td>10853</td>\n",
              "      <td>25.6%</td>\n",
              "      <td>2.72</td>\n",
              "    </tr>\n",
              "    <tr>\n",
              "      <th>7</th>\n",
              "      <td>2008-09</td>\n",
              "      <td>899001</td>\n",
              "      <td>224983</td>\n",
              "      <td>85599</td>\n",
              "      <td>25.0%</td>\n",
              "      <td>2.63</td>\n",
              "      <td>599122</td>\n",
              "      <td>140482</td>\n",
              "      <td>50101</td>\n",
              "      <td>23.4%</td>\n",
              "      <td>...</td>\n",
              "      <td>172826</td>\n",
              "      <td>54634</td>\n",
              "      <td>24347</td>\n",
              "      <td>31.6%</td>\n",
              "      <td>2.24</td>\n",
              "      <td>127053</td>\n",
              "      <td>29867</td>\n",
              "      <td>11151</td>\n",
              "      <td>23.5%</td>\n",
              "      <td>2.68</td>\n",
              "    </tr>\n",
              "    <tr>\n",
              "      <th>8</th>\n",
              "      <td>2009-10</td>\n",
              "      <td>942859</td>\n",
              "      <td>237154</td>\n",
              "      <td>87199</td>\n",
              "      <td>25.2%</td>\n",
              "      <td>2.72</td>\n",
              "      <td>634067</td>\n",
              "      <td>148579</td>\n",
              "      <td>51283</td>\n",
              "      <td>23.4%</td>\n",
              "      <td>...</td>\n",
              "      <td>186771</td>\n",
              "      <td>58364</td>\n",
              "      <td>24830</td>\n",
              "      <td>31.2%</td>\n",
              "      <td>2.35</td>\n",
              "      <td>122021</td>\n",
              "      <td>30211</td>\n",
              "      <td>11086</td>\n",
              "      <td>24.8%</td>\n",
              "      <td>2.73</td>\n",
              "    </tr>\n",
              "    <tr>\n",
              "      <th>9</th>\n",
              "      <td>2010-11</td>\n",
              "      <td>1004309</td>\n",
              "      <td>242075</td>\n",
              "      <td>88205</td>\n",
              "      <td>24.1%</td>\n",
              "      <td>2.74</td>\n",
              "      <td>685343</td>\n",
              "      <td>151508</td>\n",
              "      <td>51655</td>\n",
              "      <td>22.1%</td>\n",
              "      <td>...</td>\n",
              "      <td>192770</td>\n",
              "      <td>59986</td>\n",
              "      <td>25175</td>\n",
              "      <td>31.1%</td>\n",
              "      <td>2.38</td>\n",
              "      <td>126196</td>\n",
              "      <td>30581</td>\n",
              "      <td>11375</td>\n",
              "      <td>24.2%</td>\n",
              "      <td>2.69</td>\n",
              "    </tr>\n",
              "    <tr>\n",
              "      <th>10</th>\n",
              "      <td>2011-12</td>\n",
              "      <td>1073088</td>\n",
              "      <td>242265</td>\n",
              "      <td>88619</td>\n",
              "      <td>22.6%</td>\n",
              "      <td>2.73</td>\n",
              "      <td>728229</td>\n",
              "      <td>147615</td>\n",
              "      <td>52311</td>\n",
              "      <td>20.3%</td>\n",
              "      <td>...</td>\n",
              "      <td>210869</td>\n",
              "      <td>64962</td>\n",
              "      <td>25092</td>\n",
              "      <td>30.8%</td>\n",
              "      <td>2.59</td>\n",
              "      <td>133990</td>\n",
              "      <td>29688</td>\n",
              "      <td>11216</td>\n",
              "      <td>22.2%</td>\n",
              "      <td>2.65</td>\n",
              "    </tr>\n",
              "    <tr>\n",
              "      <th>11</th>\n",
              "      <td>2012-13</td>\n",
              "      <td>1125056</td>\n",
              "      <td>239427</td>\n",
              "      <td>89897</td>\n",
              "      <td>21.3%</td>\n",
              "      <td>2.66</td>\n",
              "      <td>766192</td>\n",
              "      <td>143510</td>\n",
              "      <td>52085</td>\n",
              "      <td>18.7%</td>\n",
              "      <td>...</td>\n",
              "      <td>221000</td>\n",
              "      <td>66400</td>\n",
              "      <td>26537</td>\n",
              "      <td>30.0%</td>\n",
              "      <td>2.50</td>\n",
              "      <td>137864</td>\n",
              "      <td>29517</td>\n",
              "      <td>11275</td>\n",
              "      <td>21.4%</td>\n",
              "      <td>2.62</td>\n",
              "    </tr>\n",
              "    <tr>\n",
              "      <th>12</th>\n",
              "      <td>2013-14</td>\n",
              "      <td>1195869</td>\n",
              "      <td>237747</td>\n",
              "      <td>89585</td>\n",
              "      <td>19.9%</td>\n",
              "      <td>2.65</td>\n",
              "      <td>801351</td>\n",
              "      <td>141685</td>\n",
              "      <td>51825</td>\n",
              "      <td>17.7%</td>\n",
              "      <td>...</td>\n",
              "      <td>253272</td>\n",
              "      <td>67242</td>\n",
              "      <td>26461</td>\n",
              "      <td>26.5%</td>\n",
              "      <td>2.54</td>\n",
              "      <td>141246</td>\n",
              "      <td>28820</td>\n",
              "      <td>11299</td>\n",
              "      <td>20.4%</td>\n",
              "      <td>2.55</td>\n",
              "    </tr>\n",
              "    <tr>\n",
              "      <th>13</th>\n",
              "      <td>2014-15</td>\n",
              "      <td>1279412</td>\n",
              "      <td>242628</td>\n",
              "      <td>92713</td>\n",
              "      <td>19.0%</td>\n",
              "      <td>2.62</td>\n",
              "      <td>837455</td>\n",
              "      <td>142789</td>\n",
              "      <td>53096</td>\n",
              "      <td>17.1%</td>\n",
              "      <td>...</td>\n",
              "      <td>298332</td>\n",
              "      <td>70493</td>\n",
              "      <td>28230</td>\n",
              "      <td>23.6%</td>\n",
              "      <td>2.50</td>\n",
              "      <td>143625</td>\n",
              "      <td>29346</td>\n",
              "      <td>11387</td>\n",
              "      <td>20.4%</td>\n",
              "      <td>2.58</td>\n",
              "    </tr>\n",
              "    <tr>\n",
              "      <th>14</th>\n",
              "      <td>2015-16</td>\n",
              "      <td>1325730</td>\n",
              "      <td>240687</td>\n",
              "      <td>92548</td>\n",
              "      <td>18.2%</td>\n",
              "      <td>2.60</td>\n",
              "      <td>859126</td>\n",
              "      <td>140416</td>\n",
              "      <td>52895</td>\n",
              "      <td>16.3%</td>\n",
              "      <td>...</td>\n",
              "      <td>312640</td>\n",
              "      <td>70418</td>\n",
              "      <td>28160</td>\n",
              "      <td>22.5%</td>\n",
              "      <td>2.50</td>\n",
              "      <td>153964</td>\n",
              "      <td>29853</td>\n",
              "      <td>11493</td>\n",
              "      <td>19.4%</td>\n",
              "      <td>2.60</td>\n",
              "    </tr>\n",
              "    <tr>\n",
              "      <th>15</th>\n",
              "      <td>2016-17</td>\n",
              "      <td>1390056</td>\n",
              "      <td>242910</td>\n",
              "      <td>95213</td>\n",
              "      <td>17.5%</td>\n",
              "      <td>2.55</td>\n",
              "      <td>899097</td>\n",
              "      <td>139467</td>\n",
              "      <td>53542</td>\n",
              "      <td>15.5%</td>\n",
              "      <td>...</td>\n",
              "      <td>332971</td>\n",
              "      <td>74255</td>\n",
              "      <td>30204</td>\n",
              "      <td>22.3%</td>\n",
              "      <td>2.46</td>\n",
              "      <td>157988</td>\n",
              "      <td>29188</td>\n",
              "      <td>11467</td>\n",
              "      <td>18.5%</td>\n",
              "      <td>2.55</td>\n",
              "    </tr>\n",
              "    <tr>\n",
              "      <th>16</th>\n",
              "      <td>2017-18</td>\n",
              "      <td>1451021</td>\n",
              "      <td>238317</td>\n",
              "      <td>96667</td>\n",
              "      <td>16.4%</td>\n",
              "      <td>2.47</td>\n",
              "      <td>928973</td>\n",
              "      <td>135173</td>\n",
              "      <td>54826</td>\n",
              "      <td>14.6%</td>\n",
              "      <td>...</td>\n",
              "      <td>355081</td>\n",
              "      <td>73976</td>\n",
              "      <td>30301</td>\n",
              "      <td>20.8%</td>\n",
              "      <td>2.44</td>\n",
              "      <td>166967</td>\n",
              "      <td>29168</td>\n",
              "      <td>11540</td>\n",
              "      <td>17.5%</td>\n",
              "      <td>2.53</td>\n",
              "    </tr>\n",
              "    <tr>\n",
              "      <th>17</th>\n",
              "      <td>2018-19</td>\n",
              "      <td>1588286</td>\n",
              "      <td>225082</td>\n",
              "      <td>96815</td>\n",
              "      <td>14.2%</td>\n",
              "      <td>2.32</td>\n",
              "      <td>1019631</td>\n",
              "      <td>123734</td>\n",
              "      <td>54771</td>\n",
              "      <td>12.1%</td>\n",
              "      <td>...</td>\n",
              "      <td>384589</td>\n",
              "      <td>71763</td>\n",
              "      <td>30236</td>\n",
              "      <td>18.7%</td>\n",
              "      <td>2.37</td>\n",
              "      <td>184066</td>\n",
              "      <td>29585</td>\n",
              "      <td>11808</td>\n",
              "      <td>16.1%</td>\n",
              "      <td>2.51</td>\n",
              "    </tr>\n",
              "    <tr>\n",
              "      <th>18</th>\n",
              "      <td>2019–20(est)</td>\n",
              "      <td>1639951</td>\n",
              "      <td>213467</td>\n",
              "      <td>95824</td>\n",
              "      <td>13.0%</td>\n",
              "      <td>2.23</td>\n",
              "      <td>1060372</td>\n",
              "      <td>115069</td>\n",
              "      <td>53718</td>\n",
              "      <td>10.9%</td>\n",
              "      <td>...</td>\n",
              "      <td>383789</td>\n",
              "      <td>69946</td>\n",
              "      <td>30400</td>\n",
              "      <td>18.2%</td>\n",
              "      <td>2.30</td>\n",
              "      <td>195790</td>\n",
              "      <td>28452</td>\n",
              "      <td>11706</td>\n",
              "      <td>14.5%</td>\n",
              "      <td>2.43</td>\n",
              "    </tr>\n",
              "  </tbody>\n",
              "</table>\n",
              "<p>19 rows × 21 columns</p>\n",
              "</div>"
            ],
            "text/plain": [
              "   Unnamed: 0_level_0 Total (56 institutions)                     \\\n",
              "   Unnamed: 0_level_1      Unnamed: 1_level_1 Unnamed: 2_level_1   \n",
              "           Admit Year                    Apps             Admits   \n",
              "0             2001-02                  645111             198815   \n",
              "1             2002-03                  650908             202565   \n",
              "2             2003-04                  681989             206423   \n",
              "3             2004-05                  699074             207238   \n",
              "4             2005-06                  737493             213865   \n",
              "5             2006-07                  773374             217846   \n",
              "6             2007-08                  820664             220242   \n",
              "7             2008-09                  899001             224983   \n",
              "8             2009-10                  942859             237154   \n",
              "9             2010-11                 1004309             242075   \n",
              "10            2011-12                 1073088             242265   \n",
              "11            2012-13                 1125056             239427   \n",
              "12            2013-14                 1195869             237747   \n",
              "13            2014-15                 1279412             242628   \n",
              "14            2015-16                 1325730             240687   \n",
              "15            2016-17                 1390056             242910   \n",
              "16            2017-18                 1451021             238317   \n",
              "17            2018-19                 1588286             225082   \n",
              "18       2019–20(est)                 1639951             213467   \n",
              "\n",
              "                                                             \\\n",
              "   Unnamed: 3_level_1 Unnamed: 4_level_1 Unnamed: 5_level_1   \n",
              "               Enroll         Admit Rate       Admit:Enroll   \n",
              "0               79872              30.8%               2.49   \n",
              "1               82026              31.1%               2.47   \n",
              "2               82544              30.3%               2.50   \n",
              "3               83682              29.6%               2.48   \n",
              "4               83591              29.0%               2.56   \n",
              "5               83900              28.2%               2.60   \n",
              "6               85739              26.8%               2.57   \n",
              "7               85599              25.0%               2.63   \n",
              "8               87199              25.2%               2.72   \n",
              "9               88205              24.1%               2.74   \n",
              "10              88619              22.6%               2.73   \n",
              "11              89897              21.3%               2.66   \n",
              "12              89585              19.9%               2.65   \n",
              "13              92713              19.0%               2.62   \n",
              "14              92548              18.2%               2.60   \n",
              "15              95213              17.5%               2.55   \n",
              "16              96667              16.4%               2.47   \n",
              "17              96815              14.2%               2.32   \n",
              "18              95824              13.0%               2.23   \n",
              "\n",
              "                                                                                                                                                                     27 private universities  \\\n",
              "   Ivy League, Stanford, MIT, Chicago, Duke, Northwestern, Vanderbilt, Johns Hopkins, Rice, USC, WUSTL, Tulane, Tufts, Georgetown, Carnegie Mellon, Notre Dame, Emory, NYU, BU, Northeastern   \n",
              "                                                                                                                                                                                        Apps   \n",
              "0                                              415855                                                                                                                                          \n",
              "1                                              418230                                                                                                                                          \n",
              "2                                              439502                                                                                                                                          \n",
              "3                                              453319                                                                                                                                          \n",
              "4                                              484023                                                                                                                                          \n",
              "5                                              516292                                                                                                                                          \n",
              "6                                              542066                                                                                                                                          \n",
              "7                                              599122                                                                                                                                          \n",
              "8                                              634067                                                                                                                                          \n",
              "9                                              685343                                                                                                                                          \n",
              "10                                             728229                                                                                                                                          \n",
              "11                                             766192                                                                                                                                          \n",
              "12                                             801351                                                                                                                                          \n",
              "13                                             837455                                                                                                                                          \n",
              "14                                             859126                                                                                                                                          \n",
              "15                                             899097                                                                                                                                          \n",
              "16                                             928973                                                                                                                                          \n",
              "17                                            1019631                                                                                                                                          \n",
              "18                                            1060372                                                                                                                                          \n",
              "\n",
              "                              ...  \\\n",
              "                              ...   \n",
              "    Admits Enroll Admit Rate  ...   \n",
              "0   120124  46931      28.9%  ...   \n",
              "1   123779  48626      29.6%  ...   \n",
              "2   126504  49491      28.8%  ...   \n",
              "3   126441  49615      27.9%  ...   \n",
              "4   132750  49982      27.4%  ...   \n",
              "5   135568  49507      26.3%  ...   \n",
              "6   135960  50249      25.1%  ...   \n",
              "7   140482  50101      23.4%  ...   \n",
              "8   148579  51283      23.4%  ...   \n",
              "9   151508  51655      22.1%  ...   \n",
              "10  147615  52311      20.3%  ...   \n",
              "11  143510  52085      18.7%  ...   \n",
              "12  141685  51825      17.7%  ...   \n",
              "13  142789  53096      17.1%  ...   \n",
              "14  140416  52895      16.3%  ...   \n",
              "15  139467  53542      15.5%  ...   \n",
              "16  135173  54826      14.6%  ...   \n",
              "17  123734  54771      12.1%  ...   \n",
              "18  115069  53718      10.9%  ...   \n",
              "\n",
              "                                                            6 public universities  \\\n",
              "   UCLA, UC Berkeley, Georgia Tech, UNC-Chapel Hill, Michigan Ann Arbor, Virginia   \n",
              "                                                                             Apps   \n",
              "0                                              138627                               \n",
              "1                                              141166                               \n",
              "2                                              146165                               \n",
              "3                                              144258                               \n",
              "4                                              147507                               \n",
              "5                                              148794                               \n",
              "6                                              163374                               \n",
              "7                                              172826                               \n",
              "8                                              186771                               \n",
              "9                                              192770                               \n",
              "10                                             210869                               \n",
              "11                                             221000                               \n",
              "12                                             253272                               \n",
              "13                                             298332                               \n",
              "14                                             312640                               \n",
              "15                                             332971                               \n",
              "16                                             355081                               \n",
              "17                                             384589                               \n",
              "18                                             383789                               \n",
              "\n",
              "                                          \\\n",
              "                                           \n",
              "   Admits Enroll Admit Rate Admit:Enroll   \n",
              "0   49041  22110      35.4%         2.22   \n",
              "1   49377  22264      35.0%         2.22   \n",
              "2   50209  22262      34.4%         2.26   \n",
              "3   50923  23169      35.3%         2.20   \n",
              "4   51430  22639      34.9%         2.27   \n",
              "5   52343  23589      35.2%         2.22   \n",
              "6   54788  24637      33.5%         2.22   \n",
              "7   54634  24347      31.6%         2.24   \n",
              "8   58364  24830      31.2%         2.35   \n",
              "9   59986  25175      31.1%         2.38   \n",
              "10  64962  25092      30.8%         2.59   \n",
              "11  66400  26537      30.0%         2.50   \n",
              "12  67242  26461      26.5%         2.54   \n",
              "13  70493  28230      23.6%         2.50   \n",
              "14  70418  28160      22.5%         2.50   \n",
              "15  74255  30204      22.3%         2.46   \n",
              "16  73976  30301      20.8%         2.44   \n",
              "17  71763  30236      18.7%         2.37   \n",
              "18  69946  30400      18.2%         2.30   \n",
              "\n",
              "                                                                                                                                                                                                             23 liberal arts colleges  \\\n",
              "   Pomona, Claremont McK, Swarthmore, Bowdoin, Amherst, Williams, Colby, Barnard, Pitzer, Bates, Harvey Mudd, Colorado Coll, Middlebury, Wesleyan, Hamilton, Haverford, Carleton, Davidson, Wellesley, W&L, Colgate, Grinnell, Vassar   \n",
              "                                                                                                                                                                                                                                 Apps   \n",
              "0                                               90629                                                                                                                                                                                   \n",
              "1                                               91512                                                                                                                                                                                   \n",
              "2                                               96322                                                                                                                                                                                   \n",
              "3                                              101497                                                                                                                                                                                   \n",
              "4                                              105963                                                                                                                                                                                   \n",
              "5                                              108288                                                                                                                                                                                   \n",
              "6                                              115224                                                                                                                                                                                   \n",
              "7                                              127053                                                                                                                                                                                   \n",
              "8                                              122021                                                                                                                                                                                   \n",
              "9                                              126196                                                                                                                                                                                   \n",
              "10                                             133990                                                                                                                                                                                   \n",
              "11                                             137864                                                                                                                                                                                   \n",
              "12                                             141246                                                                                                                                                                                   \n",
              "13                                             143625                                                                                                                                                                                   \n",
              "14                                             153964                                                                                                                                                                                   \n",
              "15                                             157988                                                                                                                                                                                   \n",
              "16                                             166967                                                                                                                                                                                   \n",
              "17                                             184066                                                                                                                                                                                   \n",
              "18                                             195790                                                                                                                                                                                   \n",
              "\n",
              "                                          \n",
              "                                          \n",
              "   Admits Enroll Admit Rate Admit:Enroll  \n",
              "0   29650  10831      32.7%         2.74  \n",
              "1   29409  11136      32.1%         2.64  \n",
              "2   29710  10791      30.8%         2.75  \n",
              "3   29874  10898      29.4%         2.74  \n",
              "4   29685  10970      28.0%         2.71  \n",
              "5   29935  10804      27.6%         2.77  \n",
              "6   29494  10853      25.6%         2.72  \n",
              "7   29867  11151      23.5%         2.68  \n",
              "8   30211  11086      24.8%         2.73  \n",
              "9   30581  11375      24.2%         2.69  \n",
              "10  29688  11216      22.2%         2.65  \n",
              "11  29517  11275      21.4%         2.62  \n",
              "12  28820  11299      20.4%         2.55  \n",
              "13  29346  11387      20.4%         2.58  \n",
              "14  29853  11493      19.4%         2.60  \n",
              "15  29188  11467      18.5%         2.55  \n",
              "16  29168  11540      17.5%         2.53  \n",
              "17  29585  11808      16.1%         2.51  \n",
              "18  28452  11706      14.5%         2.43  \n",
              "\n",
              "[19 rows x 21 columns]"
            ]
          },
          "metadata": {},
          "output_type": "display_data"
        }
      ],
      "source": [
        "# Scrapping data to find the \n",
        "url = \"https://en.wikipedia.org/wiki/College_admissions_in_the_United_States\"\n",
        "html = urlopen(url)\n",
        "soup = BeautifulSoup(html.read(),'html.parser')\n",
        "table = soup.find_all('table') \n",
        "df = pd.read_html(str(table))\n",
        "university_admits = pd.DataFrame(df[1])\n",
        "display(university_admits.describe())\n",
        "display(university_admits)"
      ]
    },
    {
      "cell_type": "markdown",
      "metadata": {
        "id": "99KmPqZHc1rq"
      },
      "source": [
        "We can see that every year the number of applicants are increasing but the acceptance rate is decreasing."
      ]
    },
    {
      "cell_type": "markdown",
      "metadata": {
        "id": "5-8gGETBc1rq"
      },
      "source": [
        "# Data Cleaning"
      ]
    },
    {
      "cell_type": "code",
      "execution_count": null,
      "metadata": {
        "id": "GHq-8wTIc1rq",
        "outputId": "c82c142d-38c0-475b-e450-47887c379a54"
      },
      "outputs": [
        {
          "data": {
            "text/html": [
              "<div>\n",
              "<style scoped>\n",
              "    .dataframe tbody tr th:only-of-type {\n",
              "        vertical-align: middle;\n",
              "    }\n",
              "\n",
              "    .dataframe tbody tr th {\n",
              "        vertical-align: top;\n",
              "    }\n",
              "\n",
              "    .dataframe thead th {\n",
              "        text-align: right;\n",
              "    }\n",
              "</style>\n",
              "<table border=\"1\" class=\"dataframe\">\n",
              "  <thead>\n",
              "    <tr style=\"text-align: right;\">\n",
              "      <th></th>\n",
              "      <th>GRE Score</th>\n",
              "      <th>TOEFL Score</th>\n",
              "      <th>University Rating</th>\n",
              "      <th>SOP</th>\n",
              "      <th>LOR</th>\n",
              "      <th>CGPA</th>\n",
              "      <th>Research</th>\n",
              "      <th>Chance of Admit</th>\n",
              "    </tr>\n",
              "  </thead>\n",
              "  <tbody>\n",
              "    <tr>\n",
              "      <th>0</th>\n",
              "      <td>337</td>\n",
              "      <td>118</td>\n",
              "      <td>4</td>\n",
              "      <td>4.5</td>\n",
              "      <td>4.5</td>\n",
              "      <td>9.65</td>\n",
              "      <td>1</td>\n",
              "      <td>0.92</td>\n",
              "    </tr>\n",
              "    <tr>\n",
              "      <th>1</th>\n",
              "      <td>324</td>\n",
              "      <td>107</td>\n",
              "      <td>4</td>\n",
              "      <td>4.0</td>\n",
              "      <td>4.5</td>\n",
              "      <td>8.87</td>\n",
              "      <td>1</td>\n",
              "      <td>0.76</td>\n",
              "    </tr>\n",
              "    <tr>\n",
              "      <th>2</th>\n",
              "      <td>316</td>\n",
              "      <td>104</td>\n",
              "      <td>3</td>\n",
              "      <td>3.0</td>\n",
              "      <td>3.5</td>\n",
              "      <td>8.00</td>\n",
              "      <td>1</td>\n",
              "      <td>0.72</td>\n",
              "    </tr>\n",
              "    <tr>\n",
              "      <th>3</th>\n",
              "      <td>322</td>\n",
              "      <td>110</td>\n",
              "      <td>3</td>\n",
              "      <td>3.5</td>\n",
              "      <td>2.5</td>\n",
              "      <td>8.67</td>\n",
              "      <td>1</td>\n",
              "      <td>0.80</td>\n",
              "    </tr>\n",
              "    <tr>\n",
              "      <th>4</th>\n",
              "      <td>314</td>\n",
              "      <td>103</td>\n",
              "      <td>2</td>\n",
              "      <td>2.0</td>\n",
              "      <td>3.0</td>\n",
              "      <td>8.21</td>\n",
              "      <td>0</td>\n",
              "      <td>0.65</td>\n",
              "    </tr>\n",
              "  </tbody>\n",
              "</table>\n",
              "</div>"
            ],
            "text/plain": [
              "   GRE Score  TOEFL Score  University Rating  SOP  LOR   CGPA  Research  \\\n",
              "0        337          118                  4  4.5   4.5  9.65         1   \n",
              "1        324          107                  4  4.0   4.5  8.87         1   \n",
              "2        316          104                  3  3.0   3.5  8.00         1   \n",
              "3        322          110                  3  3.5   2.5  8.67         1   \n",
              "4        314          103                  2  2.0   3.0  8.21         0   \n",
              "\n",
              "   Chance of Admit   \n",
              "0              0.92  \n",
              "1              0.76  \n",
              "2              0.72  \n",
              "3              0.80  \n",
              "4              0.65  "
            ]
          },
          "execution_count": 94,
          "metadata": {},
          "output_type": "execute_result"
        }
      ],
      "source": [
        "# We don't need Serial number for the our analysis because\n",
        "# it is just a counter.\n",
        "grad_admission = grad_admission.drop(['Serial No.'], axis=1)\n",
        "grad_admission.head()"
      ]
    },
    {
      "cell_type": "code",
      "execution_count": null,
      "metadata": {
        "id": "FynE1TDHc1rq",
        "outputId": "0d7df321-2a94-4a9c-f233-80448494867d"
      },
      "outputs": [
        {
          "data": {
            "text/plain": [
              "GRE Score            0\n",
              "TOEFL Score          0\n",
              "University Rating    0\n",
              "SOP                  0\n",
              "LOR                  0\n",
              "CGPA                 0\n",
              "Research             0\n",
              "Chance of Admit      0\n",
              "dtype: int64"
            ]
          },
          "execution_count": 95,
          "metadata": {},
          "output_type": "execute_result"
        }
      ],
      "source": [
        "# Let's check for any null values.\n",
        "grad_admission.isnull().sum()"
      ]
    },
    {
      "cell_type": "code",
      "execution_count": null,
      "metadata": {
        "id": "ZI0y9pNgc1rr",
        "outputId": "456f292f-d7d4-4e30-a341-7329bc5c7bb5"
      },
      "outputs": [
        {
          "data": {
            "text/html": [
              "<div>\n",
              "<style scoped>\n",
              "    .dataframe tbody tr th:only-of-type {\n",
              "        vertical-align: middle;\n",
              "    }\n",
              "\n",
              "    .dataframe tbody tr th {\n",
              "        vertical-align: top;\n",
              "    }\n",
              "\n",
              "    .dataframe thead th {\n",
              "        text-align: right;\n",
              "    }\n",
              "</style>\n",
              "<table border=\"1\" class=\"dataframe\">\n",
              "  <thead>\n",
              "    <tr style=\"text-align: right;\">\n",
              "      <th></th>\n",
              "      <th>GRE Score</th>\n",
              "      <th>TOEFL Score</th>\n",
              "      <th>University Rating</th>\n",
              "      <th>SOP</th>\n",
              "      <th>LOR</th>\n",
              "      <th>CGPA</th>\n",
              "      <th>Research</th>\n",
              "      <th>Chance of Admit</th>\n",
              "      <th>GPA</th>\n",
              "    </tr>\n",
              "  </thead>\n",
              "  <tbody>\n",
              "    <tr>\n",
              "      <th>0</th>\n",
              "      <td>337</td>\n",
              "      <td>118</td>\n",
              "      <td>4</td>\n",
              "      <td>4.5</td>\n",
              "      <td>4.5</td>\n",
              "      <td>9.65</td>\n",
              "      <td>1</td>\n",
              "      <td>0.92</td>\n",
              "      <td>3.860</td>\n",
              "    </tr>\n",
              "    <tr>\n",
              "      <th>1</th>\n",
              "      <td>324</td>\n",
              "      <td>107</td>\n",
              "      <td>4</td>\n",
              "      <td>4.0</td>\n",
              "      <td>4.5</td>\n",
              "      <td>8.87</td>\n",
              "      <td>1</td>\n",
              "      <td>0.76</td>\n",
              "      <td>3.548</td>\n",
              "    </tr>\n",
              "    <tr>\n",
              "      <th>2</th>\n",
              "      <td>316</td>\n",
              "      <td>104</td>\n",
              "      <td>3</td>\n",
              "      <td>3.0</td>\n",
              "      <td>3.5</td>\n",
              "      <td>8.00</td>\n",
              "      <td>1</td>\n",
              "      <td>0.72</td>\n",
              "      <td>3.200</td>\n",
              "    </tr>\n",
              "    <tr>\n",
              "      <th>3</th>\n",
              "      <td>322</td>\n",
              "      <td>110</td>\n",
              "      <td>3</td>\n",
              "      <td>3.5</td>\n",
              "      <td>2.5</td>\n",
              "      <td>8.67</td>\n",
              "      <td>1</td>\n",
              "      <td>0.80</td>\n",
              "      <td>3.468</td>\n",
              "    </tr>\n",
              "    <tr>\n",
              "      <th>4</th>\n",
              "      <td>314</td>\n",
              "      <td>103</td>\n",
              "      <td>2</td>\n",
              "      <td>2.0</td>\n",
              "      <td>3.0</td>\n",
              "      <td>8.21</td>\n",
              "      <td>0</td>\n",
              "      <td>0.65</td>\n",
              "      <td>3.284</td>\n",
              "    </tr>\n",
              "    <tr>\n",
              "      <th>...</th>\n",
              "      <td>...</td>\n",
              "      <td>...</td>\n",
              "      <td>...</td>\n",
              "      <td>...</td>\n",
              "      <td>...</td>\n",
              "      <td>...</td>\n",
              "      <td>...</td>\n",
              "      <td>...</td>\n",
              "      <td>...</td>\n",
              "    </tr>\n",
              "    <tr>\n",
              "      <th>395</th>\n",
              "      <td>324</td>\n",
              "      <td>110</td>\n",
              "      <td>3</td>\n",
              "      <td>3.5</td>\n",
              "      <td>3.5</td>\n",
              "      <td>9.04</td>\n",
              "      <td>1</td>\n",
              "      <td>0.82</td>\n",
              "      <td>3.616</td>\n",
              "    </tr>\n",
              "    <tr>\n",
              "      <th>396</th>\n",
              "      <td>325</td>\n",
              "      <td>107</td>\n",
              "      <td>3</td>\n",
              "      <td>3.0</td>\n",
              "      <td>3.5</td>\n",
              "      <td>9.11</td>\n",
              "      <td>1</td>\n",
              "      <td>0.84</td>\n",
              "      <td>3.644</td>\n",
              "    </tr>\n",
              "    <tr>\n",
              "      <th>397</th>\n",
              "      <td>330</td>\n",
              "      <td>116</td>\n",
              "      <td>4</td>\n",
              "      <td>5.0</td>\n",
              "      <td>4.5</td>\n",
              "      <td>9.45</td>\n",
              "      <td>1</td>\n",
              "      <td>0.91</td>\n",
              "      <td>3.780</td>\n",
              "    </tr>\n",
              "    <tr>\n",
              "      <th>398</th>\n",
              "      <td>312</td>\n",
              "      <td>103</td>\n",
              "      <td>3</td>\n",
              "      <td>3.5</td>\n",
              "      <td>4.0</td>\n",
              "      <td>8.78</td>\n",
              "      <td>0</td>\n",
              "      <td>0.67</td>\n",
              "      <td>3.512</td>\n",
              "    </tr>\n",
              "    <tr>\n",
              "      <th>399</th>\n",
              "      <td>333</td>\n",
              "      <td>117</td>\n",
              "      <td>4</td>\n",
              "      <td>5.0</td>\n",
              "      <td>4.0</td>\n",
              "      <td>9.66</td>\n",
              "      <td>1</td>\n",
              "      <td>0.95</td>\n",
              "      <td>3.864</td>\n",
              "    </tr>\n",
              "  </tbody>\n",
              "</table>\n",
              "<p>400 rows × 9 columns</p>\n",
              "</div>"
            ],
            "text/plain": [
              "     GRE Score  TOEFL Score  University Rating  SOP  LOR   CGPA  Research  \\\n",
              "0          337          118                  4  4.5   4.5  9.65         1   \n",
              "1          324          107                  4  4.0   4.5  8.87         1   \n",
              "2          316          104                  3  3.0   3.5  8.00         1   \n",
              "3          322          110                  3  3.5   2.5  8.67         1   \n",
              "4          314          103                  2  2.0   3.0  8.21         0   \n",
              "..         ...          ...                ...  ...   ...   ...       ...   \n",
              "395        324          110                  3  3.5   3.5  9.04         1   \n",
              "396        325          107                  3  3.0   3.5  9.11         1   \n",
              "397        330          116                  4  5.0   4.5  9.45         1   \n",
              "398        312          103                  3  3.5   4.0  8.78         0   \n",
              "399        333          117                  4  5.0   4.0  9.66         1   \n",
              "\n",
              "     Chance of Admit     GPA  \n",
              "0                0.92  3.860  \n",
              "1                0.76  3.548  \n",
              "2                0.72  3.200  \n",
              "3                0.80  3.468  \n",
              "4                0.65  3.284  \n",
              "..                ...    ...  \n",
              "395              0.82  3.616  \n",
              "396              0.84  3.644  \n",
              "397              0.91  3.780  \n",
              "398              0.67  3.512  \n",
              "399              0.95  3.864  \n",
              "\n",
              "[400 rows x 9 columns]"
            ]
          },
          "execution_count": 96,
          "metadata": {},
          "output_type": "execute_result"
        }
      ],
      "source": [
        "# We want to make the correlation much understandable\n",
        "# so we will transform the CGPA which is a 10 point \n",
        "# international standard to a 4 point GPA which is more\n",
        "# valid in USA.\n",
        "def convertCGPAtoGPA(CGPA):\n",
        "    percentage_obtained = CGPA * 10\n",
        "    GPA = (percentage_obtained / 100) * 4\n",
        "    return GPA\n",
        "grad_admission['GPA'] = grad_admission['CGPA'].apply(convertCGPAtoGPA)\n",
        "grad_admission"
      ]
    },
    {
      "cell_type": "code",
      "execution_count": null,
      "metadata": {
        "id": "MySgLQ37c1rr",
        "outputId": "030ffb5a-6ca7-4896-a6b2-300e423eea01"
      },
      "outputs": [
        {
          "name": "stdout",
          "output_type": "stream",
          "text": [
            "Index(['GRE Score', 'TOEFL Score', 'University Rating', 'SOP', 'LOR ', 'CGPA',\n",
            "       'Research', 'Chance of Admit ', 'GPA'],\n",
            "      dtype='object')\n"
          ]
        }
      ],
      "source": [
        "print(grad_admission.columns)"
      ]
    },
    {
      "cell_type": "code",
      "execution_count": null,
      "metadata": {
        "id": "kMxwYkMJc1rr",
        "outputId": "aff5d14b-cf2c-478a-97cd-75ae7cdca9e1"
      },
      "outputs": [
        {
          "name": "stdout",
          "output_type": "stream",
          "text": [
            "Index(['GRE_Score', 'TOEFL_Score', 'University_Rating', 'SOP', 'LOR', 'CGPA',\n",
            "       'Research', 'Chance_of_Admit', 'GPA'],\n",
            "      dtype='object')\n"
          ]
        }
      ],
      "source": [
        "# Note that the column name LOR has a trailing whitespace.\n",
        "# which looks like 'LOR '. Same for 'Chance of Admit '.\n",
        "# This will be confusing so, let's remove the trailing \n",
        "# whitespace.\n",
        "grad_admission.rename(columns={'Chance of Admit ': 'Chance_of_Admit', 'LOR ': 'LOR', 'TOEFL Score': 'TOEFL_Score', 'University Rating': 'University_Rating', 'GRE Score': 'GRE_Score'}, inplace=True)\n",
        "print(grad_admission.columns)"
      ]
    },
    {
      "cell_type": "code",
      "execution_count": null,
      "metadata": {
        "id": "EAnXXN_Jc1rr"
      },
      "outputs": [],
      "source": [
        "# Helper function for Outlier detection using z-score\n",
        "def findOutlier(data):\n",
        "    out1=[]\n",
        "    for col in data.columns:\n",
        "        outliers =[]\n",
        "        mean = data[col].mean()\n",
        "        std = data[col].std()\n",
        "        for i in data[col]:\n",
        "                z = (i - mean)/std\n",
        "                if z>2:\n",
        "                    outliers.append(i)\n",
        "        out1.append(list(outliers))\n",
        "        print(\"There are {} outliers in {} feature\".format(len(outliers),col))\n",
        "    return out1"
      ]
    },
    {
      "cell_type": "code",
      "execution_count": null,
      "metadata": {
        "id": "WLir-BzLc1rr",
        "outputId": "d315ccfe-98ae-4993-b841-1665b0852846"
      },
      "outputs": [
        {
          "name": "stdout",
          "output_type": "stream",
          "text": [
            "There are 8 outliers in GRE_Score feature\n",
            "There are 8 outliers in TOEFL_Score feature\n",
            "There are 0 outliers in University_Rating feature\n",
            "There are 0 outliers in SOP feature\n",
            "There are 0 outliers in LOR feature\n",
            "There are 7 outliers in CGPA feature\n",
            "There are 0 outliers in Research feature\n",
            "There are 0 outliers in Chance_of_Admit feature\n",
            "There are 7 outliers in GPA feature\n"
          ]
        },
        {
          "data": {
            "text/plain": [
              "[[340, 340, 340, 340, 340, 340, 340, 340],\n",
              " [120, 120, 120, 120, 120, 120, 120, 120],\n",
              " [],\n",
              " [],\n",
              " [],\n",
              " [9.8, 9.8, 9.92, 9.8, 9.91, 9.87, 9.82],\n",
              " [],\n",
              " [],\n",
              " [3.92, 3.92, 3.968, 3.92, 3.964, 3.9479999999999995, 3.928]]"
            ]
          },
          "execution_count": 100,
          "metadata": {},
          "output_type": "execute_result"
        }
      ],
      "source": [
        "# Detecting outliers\n",
        "findOutlier(grad_admission)"
      ]
    },
    {
      "cell_type": "markdown",
      "metadata": {
        "id": "9YUbrc1bc1rs"
      },
      "source": [
        "**All the outliers are the highest scores obtained. We would like to keep these because this will help us model data better.**"
      ]
    },
    {
      "cell_type": "markdown",
      "metadata": {
        "id": "YnGmSHFlc1rs"
      },
      "source": [
        "Now, we will look at the `graduate_enrollment` dataset for data cleaning. Let's check for any null values. "
      ]
    },
    {
      "cell_type": "code",
      "execution_count": null,
      "metadata": {
        "id": "1CZs6RqXc1rs",
        "outputId": "a12ea880-46b8-44f9-9c29-afbb0852b72b"
      },
      "outputs": [
        {
          "data": {
            "text/plain": [
              "Percent of graduate enrollment that are Nonresident Alien    265\n",
              "Percent of graduate enrollment that are women                265\n",
              "dtype: int64"
            ]
          },
          "execution_count": 101,
          "metadata": {},
          "output_type": "execute_result"
        }
      ],
      "source": [
        "# Let's check for any null values.\n",
        "graduate_enrollment.isnull().sum()"
      ]
    },
    {
      "cell_type": "code",
      "execution_count": null,
      "metadata": {
        "id": "E_hJP_TRc1rs",
        "outputId": "fc3a6cde-c2a6-4478-878c-8adb78ab4520"
      },
      "outputs": [
        {
          "data": {
            "text/html": [
              "<div>\n",
              "<style scoped>\n",
              "    .dataframe tbody tr th:only-of-type {\n",
              "        vertical-align: middle;\n",
              "    }\n",
              "\n",
              "    .dataframe tbody tr th {\n",
              "        vertical-align: top;\n",
              "    }\n",
              "\n",
              "    .dataframe thead th {\n",
              "        text-align: right;\n",
              "    }\n",
              "</style>\n",
              "<table border=\"1\" class=\"dataframe\">\n",
              "  <thead>\n",
              "    <tr style=\"text-align: right;\">\n",
              "      <th></th>\n",
              "      <th>Percent of graduate enrollment that are Nonresident Alien</th>\n",
              "      <th>Percent of graduate enrollment that are women</th>\n",
              "    </tr>\n",
              "  </thead>\n",
              "  <tbody>\n",
              "    <tr>\n",
              "      <th>0</th>\n",
              "      <td>0.0</td>\n",
              "      <td>69.0</td>\n",
              "    </tr>\n",
              "    <tr>\n",
              "      <th>1</th>\n",
              "      <td>6.0</td>\n",
              "      <td>64.0</td>\n",
              "    </tr>\n",
              "    <tr>\n",
              "      <th>2</th>\n",
              "      <td>0.0</td>\n",
              "      <td>55.0</td>\n",
              "    </tr>\n",
              "    <tr>\n",
              "      <th>3</th>\n",
              "      <td>14.0</td>\n",
              "      <td>43.0</td>\n",
              "    </tr>\n",
              "    <tr>\n",
              "      <th>4</th>\n",
              "      <td>1.0</td>\n",
              "      <td>71.0</td>\n",
              "    </tr>\n",
              "    <tr>\n",
              "      <th>...</th>\n",
              "      <td>...</td>\n",
              "      <td>...</td>\n",
              "    </tr>\n",
              "    <tr>\n",
              "      <th>1527</th>\n",
              "      <td>0.0</td>\n",
              "      <td>58.0</td>\n",
              "    </tr>\n",
              "    <tr>\n",
              "      <th>1528</th>\n",
              "      <td>0.0</td>\n",
              "      <td>54.0</td>\n",
              "    </tr>\n",
              "    <tr>\n",
              "      <th>1529</th>\n",
              "      <td>4.0</td>\n",
              "      <td>65.0</td>\n",
              "    </tr>\n",
              "    <tr>\n",
              "      <th>1531</th>\n",
              "      <td>0.0</td>\n",
              "      <td>60.0</td>\n",
              "    </tr>\n",
              "    <tr>\n",
              "      <th>1533</th>\n",
              "      <td>0.0</td>\n",
              "      <td>33.0</td>\n",
              "    </tr>\n",
              "  </tbody>\n",
              "</table>\n",
              "<p>1269 rows × 2 columns</p>\n",
              "</div>"
            ],
            "text/plain": [
              "      Percent of graduate enrollment that are Nonresident Alien  \\\n",
              "0                                                   0.0           \n",
              "1                                                   6.0           \n",
              "2                                                   0.0           \n",
              "3                                                  14.0           \n",
              "4                                                   1.0           \n",
              "...                                                 ...           \n",
              "1527                                                0.0           \n",
              "1528                                                0.0           \n",
              "1529                                                4.0           \n",
              "1531                                                0.0           \n",
              "1533                                                0.0           \n",
              "\n",
              "      Percent of graduate enrollment that are women  \n",
              "0                                              69.0  \n",
              "1                                              64.0  \n",
              "2                                              55.0  \n",
              "3                                              43.0  \n",
              "4                                              71.0  \n",
              "...                                             ...  \n",
              "1527                                           58.0  \n",
              "1528                                           54.0  \n",
              "1529                                           65.0  \n",
              "1531                                           60.0  \n",
              "1533                                           33.0  \n",
              "\n",
              "[1269 rows x 2 columns]"
            ]
          },
          "execution_count": 102,
          "metadata": {},
          "output_type": "execute_result"
        }
      ],
      "source": [
        "# We will drop NaN Values\n",
        "graduate_enrollment = graduate_enrollment.dropna()\n",
        "graduate_enrollment"
      ]
    },
    {
      "cell_type": "markdown",
      "metadata": {
        "id": "3CEstdpWc1rs"
      },
      "source": [
        "For easy usage, we are going to rename the column names of `graduate_enrollment` dataframe."
      ]
    },
    {
      "cell_type": "code",
      "execution_count": null,
      "metadata": {
        "id": "K7ZiIQkgc1rs",
        "outputId": "66cd96c8-3375-49c1-f57b-1b7864fec136"
      },
      "outputs": [
        {
          "data": {
            "text/html": [
              "<div>\n",
              "<style scoped>\n",
              "    .dataframe tbody tr th:only-of-type {\n",
              "        vertical-align: middle;\n",
              "    }\n",
              "\n",
              "    .dataframe tbody tr th {\n",
              "        vertical-align: top;\n",
              "    }\n",
              "\n",
              "    .dataframe thead th {\n",
              "        text-align: right;\n",
              "    }\n",
              "</style>\n",
              "<table border=\"1\" class=\"dataframe\">\n",
              "  <thead>\n",
              "    <tr style=\"text-align: right;\">\n",
              "      <th></th>\n",
              "      <th>Nonresident_Alien</th>\n",
              "      <th>Women</th>\n",
              "    </tr>\n",
              "  </thead>\n",
              "  <tbody>\n",
              "    <tr>\n",
              "      <th>0</th>\n",
              "      <td>0.0</td>\n",
              "      <td>69.0</td>\n",
              "    </tr>\n",
              "    <tr>\n",
              "      <th>1</th>\n",
              "      <td>6.0</td>\n",
              "      <td>64.0</td>\n",
              "    </tr>\n",
              "    <tr>\n",
              "      <th>2</th>\n",
              "      <td>0.0</td>\n",
              "      <td>55.0</td>\n",
              "    </tr>\n",
              "    <tr>\n",
              "      <th>3</th>\n",
              "      <td>14.0</td>\n",
              "      <td>43.0</td>\n",
              "    </tr>\n",
              "    <tr>\n",
              "      <th>4</th>\n",
              "      <td>1.0</td>\n",
              "      <td>71.0</td>\n",
              "    </tr>\n",
              "    <tr>\n",
              "      <th>...</th>\n",
              "      <td>...</td>\n",
              "      <td>...</td>\n",
              "    </tr>\n",
              "    <tr>\n",
              "      <th>1527</th>\n",
              "      <td>0.0</td>\n",
              "      <td>58.0</td>\n",
              "    </tr>\n",
              "    <tr>\n",
              "      <th>1528</th>\n",
              "      <td>0.0</td>\n",
              "      <td>54.0</td>\n",
              "    </tr>\n",
              "    <tr>\n",
              "      <th>1529</th>\n",
              "      <td>4.0</td>\n",
              "      <td>65.0</td>\n",
              "    </tr>\n",
              "    <tr>\n",
              "      <th>1531</th>\n",
              "      <td>0.0</td>\n",
              "      <td>60.0</td>\n",
              "    </tr>\n",
              "    <tr>\n",
              "      <th>1533</th>\n",
              "      <td>0.0</td>\n",
              "      <td>33.0</td>\n",
              "    </tr>\n",
              "  </tbody>\n",
              "</table>\n",
              "<p>1269 rows × 2 columns</p>\n",
              "</div>"
            ],
            "text/plain": [
              "      Nonresident_Alien  Women\n",
              "0                   0.0   69.0\n",
              "1                   6.0   64.0\n",
              "2                   0.0   55.0\n",
              "3                  14.0   43.0\n",
              "4                   1.0   71.0\n",
              "...                 ...    ...\n",
              "1527                0.0   58.0\n",
              "1528                0.0   54.0\n",
              "1529                4.0   65.0\n",
              "1531                0.0   60.0\n",
              "1533                0.0   33.0\n",
              "\n",
              "[1269 rows x 2 columns]"
            ]
          },
          "execution_count": 103,
          "metadata": {},
          "output_type": "execute_result"
        }
      ],
      "source": [
        "graduate_enrollment = graduate_enrollment.rename(columns={'Percent of graduate enrollment that are Nonresident Alien': 'Nonresident_Alien',  'Percent of graduate enrollment that are women': 'Women'})\n",
        "graduate_enrollment"
      ]
    },
    {
      "cell_type": "code",
      "execution_count": null,
      "metadata": {
        "id": "SY5eECC6c1rs",
        "outputId": "e9a37f73-1178-4726-f87b-fcb82e66153b"
      },
      "outputs": [
        {
          "name": "stdout",
          "output_type": "stream",
          "text": [
            "There are 56 outliers in Nonresident_Alien feature\n",
            "There are 20 outliers in Women feature\n"
          ]
        },
        {
          "data": {
            "text/plain": [
              "[[32.0,\n",
              "  41.0,\n",
              "  31.0,\n",
              "  42.0,\n",
              "  90.0,\n",
              "  97.0,\n",
              "  36.0,\n",
              "  33.0,\n",
              "  33.0,\n",
              "  42.0,\n",
              "  41.0,\n",
              "  37.0,\n",
              "  59.0,\n",
              "  100.0,\n",
              "  31.0,\n",
              "  78.0,\n",
              "  31.0,\n",
              "  34.0,\n",
              "  32.0,\n",
              "  44.0,\n",
              "  41.0,\n",
              "  35.0,\n",
              "  36.0,\n",
              "  63.0,\n",
              "  34.0,\n",
              "  55.0,\n",
              "  33.0,\n",
              "  45.0,\n",
              "  30.0,\n",
              "  43.0,\n",
              "  39.0,\n",
              "  45.0,\n",
              "  36.0,\n",
              "  30.0,\n",
              "  34.0,\n",
              "  39.0,\n",
              "  49.0,\n",
              "  69.0,\n",
              "  49.0,\n",
              "  54.0,\n",
              "  30.0,\n",
              "  35.0,\n",
              "  32.0,\n",
              "  33.0,\n",
              "  55.0,\n",
              "  56.0,\n",
              "  34.0,\n",
              "  39.0,\n",
              "  59.0,\n",
              "  31.0,\n",
              "  38.0,\n",
              "  35.0,\n",
              "  34.0,\n",
              "  52.0,\n",
              "  40.0,\n",
              "  61.0],\n",
              " [100.0,\n",
              "  100.0,\n",
              "  100.0,\n",
              "  92.0,\n",
              "  100.0,\n",
              "  100.0,\n",
              "  100.0,\n",
              "  100.0,\n",
              "  100.0,\n",
              "  93.0,\n",
              "  96.0,\n",
              "  92.0,\n",
              "  100.0,\n",
              "  96.0,\n",
              "  100.0,\n",
              "  100.0,\n",
              "  92.0,\n",
              "  100.0,\n",
              "  100.0,\n",
              "  100.0]]"
            ]
          },
          "execution_count": 104,
          "metadata": {},
          "output_type": "execute_result"
        }
      ],
      "source": [
        "# Detecting outliers in graduate_enrollment\n",
        "findOutlier(graduate_enrollment)"
      ]
    },
    {
      "cell_type": "markdown",
      "metadata": {
        "id": "VcfSLxr-c1rt"
      },
      "source": [
        "Let's visualize these data more before we get rid of any **outliers**. "
      ]
    },
    {
      "cell_type": "markdown",
      "metadata": {
        "id": "eo_IubqGc1rt"
      },
      "source": [
        "### Cleaning of the scraped Data"
      ]
    },
    {
      "cell_type": "code",
      "execution_count": null,
      "metadata": {
        "id": "7D3myFQjc1rt",
        "outputId": "531402cd-8da0-429d-f729-530e8f28ce2f"
      },
      "outputs": [
        {
          "data": {
            "text/html": [
              "<div>\n",
              "<style scoped>\n",
              "    .dataframe tbody tr th:only-of-type {\n",
              "        vertical-align: middle;\n",
              "    }\n",
              "\n",
              "    .dataframe tbody tr th {\n",
              "        vertical-align: top;\n",
              "    }\n",
              "\n",
              "    .dataframe thead th {\n",
              "        text-align: right;\n",
              "    }\n",
              "</style>\n",
              "<table border=\"1\" class=\"dataframe\">\n",
              "  <thead>\n",
              "    <tr style=\"text-align: right;\">\n",
              "      <th></th>\n",
              "      <th>Admit Year</th>\n",
              "      <th>Apps</th>\n",
              "      <th>Admits</th>\n",
              "      <th>Enroll</th>\n",
              "      <th>Admit Rate</th>\n",
              "      <th>Admit:Enroll</th>\n",
              "      <th>Apps</th>\n",
              "      <th>Admits</th>\n",
              "      <th>Enroll</th>\n",
              "      <th>Admit Rate</th>\n",
              "      <th>...</th>\n",
              "      <th>Apps</th>\n",
              "      <th>Admits</th>\n",
              "      <th>Enroll</th>\n",
              "      <th>Admit Rate</th>\n",
              "      <th>Admit:Enroll</th>\n",
              "      <th>Apps</th>\n",
              "      <th>Admits</th>\n",
              "      <th>Enroll</th>\n",
              "      <th>Admit Rate</th>\n",
              "      <th>Admit:Enroll</th>\n",
              "    </tr>\n",
              "  </thead>\n",
              "  <tbody>\n",
              "    <tr>\n",
              "      <th>0</th>\n",
              "      <td>2001-02</td>\n",
              "      <td>645111</td>\n",
              "      <td>198815</td>\n",
              "      <td>79872</td>\n",
              "      <td>30.8%</td>\n",
              "      <td>2.49</td>\n",
              "      <td>415855</td>\n",
              "      <td>120124</td>\n",
              "      <td>46931</td>\n",
              "      <td>28.9%</td>\n",
              "      <td>...</td>\n",
              "      <td>138627</td>\n",
              "      <td>49041</td>\n",
              "      <td>22110</td>\n",
              "      <td>35.4%</td>\n",
              "      <td>2.22</td>\n",
              "      <td>90629</td>\n",
              "      <td>29650</td>\n",
              "      <td>10831</td>\n",
              "      <td>32.7%</td>\n",
              "      <td>2.74</td>\n",
              "    </tr>\n",
              "    <tr>\n",
              "      <th>1</th>\n",
              "      <td>2002-03</td>\n",
              "      <td>650908</td>\n",
              "      <td>202565</td>\n",
              "      <td>82026</td>\n",
              "      <td>31.1%</td>\n",
              "      <td>2.47</td>\n",
              "      <td>418230</td>\n",
              "      <td>123779</td>\n",
              "      <td>48626</td>\n",
              "      <td>29.6%</td>\n",
              "      <td>...</td>\n",
              "      <td>141166</td>\n",
              "      <td>49377</td>\n",
              "      <td>22264</td>\n",
              "      <td>35.0%</td>\n",
              "      <td>2.22</td>\n",
              "      <td>91512</td>\n",
              "      <td>29409</td>\n",
              "      <td>11136</td>\n",
              "      <td>32.1%</td>\n",
              "      <td>2.64</td>\n",
              "    </tr>\n",
              "    <tr>\n",
              "      <th>2</th>\n",
              "      <td>2003-04</td>\n",
              "      <td>681989</td>\n",
              "      <td>206423</td>\n",
              "      <td>82544</td>\n",
              "      <td>30.3%</td>\n",
              "      <td>2.50</td>\n",
              "      <td>439502</td>\n",
              "      <td>126504</td>\n",
              "      <td>49491</td>\n",
              "      <td>28.8%</td>\n",
              "      <td>...</td>\n",
              "      <td>146165</td>\n",
              "      <td>50209</td>\n",
              "      <td>22262</td>\n",
              "      <td>34.4%</td>\n",
              "      <td>2.26</td>\n",
              "      <td>96322</td>\n",
              "      <td>29710</td>\n",
              "      <td>10791</td>\n",
              "      <td>30.8%</td>\n",
              "      <td>2.75</td>\n",
              "    </tr>\n",
              "    <tr>\n",
              "      <th>3</th>\n",
              "      <td>2004-05</td>\n",
              "      <td>699074</td>\n",
              "      <td>207238</td>\n",
              "      <td>83682</td>\n",
              "      <td>29.6%</td>\n",
              "      <td>2.48</td>\n",
              "      <td>453319</td>\n",
              "      <td>126441</td>\n",
              "      <td>49615</td>\n",
              "      <td>27.9%</td>\n",
              "      <td>...</td>\n",
              "      <td>144258</td>\n",
              "      <td>50923</td>\n",
              "      <td>23169</td>\n",
              "      <td>35.3%</td>\n",
              "      <td>2.20</td>\n",
              "      <td>101497</td>\n",
              "      <td>29874</td>\n",
              "      <td>10898</td>\n",
              "      <td>29.4%</td>\n",
              "      <td>2.74</td>\n",
              "    </tr>\n",
              "    <tr>\n",
              "      <th>4</th>\n",
              "      <td>2005-06</td>\n",
              "      <td>737493</td>\n",
              "      <td>213865</td>\n",
              "      <td>83591</td>\n",
              "      <td>29.0%</td>\n",
              "      <td>2.56</td>\n",
              "      <td>484023</td>\n",
              "      <td>132750</td>\n",
              "      <td>49982</td>\n",
              "      <td>27.4%</td>\n",
              "      <td>...</td>\n",
              "      <td>147507</td>\n",
              "      <td>51430</td>\n",
              "      <td>22639</td>\n",
              "      <td>34.9%</td>\n",
              "      <td>2.27</td>\n",
              "      <td>105963</td>\n",
              "      <td>29685</td>\n",
              "      <td>10970</td>\n",
              "      <td>28.0%</td>\n",
              "      <td>2.71</td>\n",
              "    </tr>\n",
              "    <tr>\n",
              "      <th>5</th>\n",
              "      <td>2006-07</td>\n",
              "      <td>773374</td>\n",
              "      <td>217846</td>\n",
              "      <td>83900</td>\n",
              "      <td>28.2%</td>\n",
              "      <td>2.60</td>\n",
              "      <td>516292</td>\n",
              "      <td>135568</td>\n",
              "      <td>49507</td>\n",
              "      <td>26.3%</td>\n",
              "      <td>...</td>\n",
              "      <td>148794</td>\n",
              "      <td>52343</td>\n",
              "      <td>23589</td>\n",
              "      <td>35.2%</td>\n",
              "      <td>2.22</td>\n",
              "      <td>108288</td>\n",
              "      <td>29935</td>\n",
              "      <td>10804</td>\n",
              "      <td>27.6%</td>\n",
              "      <td>2.77</td>\n",
              "    </tr>\n",
              "    <tr>\n",
              "      <th>6</th>\n",
              "      <td>2007-08</td>\n",
              "      <td>820664</td>\n",
              "      <td>220242</td>\n",
              "      <td>85739</td>\n",
              "      <td>26.8%</td>\n",
              "      <td>2.57</td>\n",
              "      <td>542066</td>\n",
              "      <td>135960</td>\n",
              "      <td>50249</td>\n",
              "      <td>25.1%</td>\n",
              "      <td>...</td>\n",
              "      <td>163374</td>\n",
              "      <td>54788</td>\n",
              "      <td>24637</td>\n",
              "      <td>33.5%</td>\n",
              "      <td>2.22</td>\n",
              "      <td>115224</td>\n",
              "      <td>29494</td>\n",
              "      <td>10853</td>\n",
              "      <td>25.6%</td>\n",
              "      <td>2.72</td>\n",
              "    </tr>\n",
              "    <tr>\n",
              "      <th>7</th>\n",
              "      <td>2008-09</td>\n",
              "      <td>899001</td>\n",
              "      <td>224983</td>\n",
              "      <td>85599</td>\n",
              "      <td>25.0%</td>\n",
              "      <td>2.63</td>\n",
              "      <td>599122</td>\n",
              "      <td>140482</td>\n",
              "      <td>50101</td>\n",
              "      <td>23.4%</td>\n",
              "      <td>...</td>\n",
              "      <td>172826</td>\n",
              "      <td>54634</td>\n",
              "      <td>24347</td>\n",
              "      <td>31.6%</td>\n",
              "      <td>2.24</td>\n",
              "      <td>127053</td>\n",
              "      <td>29867</td>\n",
              "      <td>11151</td>\n",
              "      <td>23.5%</td>\n",
              "      <td>2.68</td>\n",
              "    </tr>\n",
              "    <tr>\n",
              "      <th>8</th>\n",
              "      <td>2009-10</td>\n",
              "      <td>942859</td>\n",
              "      <td>237154</td>\n",
              "      <td>87199</td>\n",
              "      <td>25.2%</td>\n",
              "      <td>2.72</td>\n",
              "      <td>634067</td>\n",
              "      <td>148579</td>\n",
              "      <td>51283</td>\n",
              "      <td>23.4%</td>\n",
              "      <td>...</td>\n",
              "      <td>186771</td>\n",
              "      <td>58364</td>\n",
              "      <td>24830</td>\n",
              "      <td>31.2%</td>\n",
              "      <td>2.35</td>\n",
              "      <td>122021</td>\n",
              "      <td>30211</td>\n",
              "      <td>11086</td>\n",
              "      <td>24.8%</td>\n",
              "      <td>2.73</td>\n",
              "    </tr>\n",
              "    <tr>\n",
              "      <th>9</th>\n",
              "      <td>2010-11</td>\n",
              "      <td>1004309</td>\n",
              "      <td>242075</td>\n",
              "      <td>88205</td>\n",
              "      <td>24.1%</td>\n",
              "      <td>2.74</td>\n",
              "      <td>685343</td>\n",
              "      <td>151508</td>\n",
              "      <td>51655</td>\n",
              "      <td>22.1%</td>\n",
              "      <td>...</td>\n",
              "      <td>192770</td>\n",
              "      <td>59986</td>\n",
              "      <td>25175</td>\n",
              "      <td>31.1%</td>\n",
              "      <td>2.38</td>\n",
              "      <td>126196</td>\n",
              "      <td>30581</td>\n",
              "      <td>11375</td>\n",
              "      <td>24.2%</td>\n",
              "      <td>2.69</td>\n",
              "    </tr>\n",
              "    <tr>\n",
              "      <th>10</th>\n",
              "      <td>2011-12</td>\n",
              "      <td>1073088</td>\n",
              "      <td>242265</td>\n",
              "      <td>88619</td>\n",
              "      <td>22.6%</td>\n",
              "      <td>2.73</td>\n",
              "      <td>728229</td>\n",
              "      <td>147615</td>\n",
              "      <td>52311</td>\n",
              "      <td>20.3%</td>\n",
              "      <td>...</td>\n",
              "      <td>210869</td>\n",
              "      <td>64962</td>\n",
              "      <td>25092</td>\n",
              "      <td>30.8%</td>\n",
              "      <td>2.59</td>\n",
              "      <td>133990</td>\n",
              "      <td>29688</td>\n",
              "      <td>11216</td>\n",
              "      <td>22.2%</td>\n",
              "      <td>2.65</td>\n",
              "    </tr>\n",
              "    <tr>\n",
              "      <th>11</th>\n",
              "      <td>2012-13</td>\n",
              "      <td>1125056</td>\n",
              "      <td>239427</td>\n",
              "      <td>89897</td>\n",
              "      <td>21.3%</td>\n",
              "      <td>2.66</td>\n",
              "      <td>766192</td>\n",
              "      <td>143510</td>\n",
              "      <td>52085</td>\n",
              "      <td>18.7%</td>\n",
              "      <td>...</td>\n",
              "      <td>221000</td>\n",
              "      <td>66400</td>\n",
              "      <td>26537</td>\n",
              "      <td>30.0%</td>\n",
              "      <td>2.50</td>\n",
              "      <td>137864</td>\n",
              "      <td>29517</td>\n",
              "      <td>11275</td>\n",
              "      <td>21.4%</td>\n",
              "      <td>2.62</td>\n",
              "    </tr>\n",
              "    <tr>\n",
              "      <th>12</th>\n",
              "      <td>2013-14</td>\n",
              "      <td>1195869</td>\n",
              "      <td>237747</td>\n",
              "      <td>89585</td>\n",
              "      <td>19.9%</td>\n",
              "      <td>2.65</td>\n",
              "      <td>801351</td>\n",
              "      <td>141685</td>\n",
              "      <td>51825</td>\n",
              "      <td>17.7%</td>\n",
              "      <td>...</td>\n",
              "      <td>253272</td>\n",
              "      <td>67242</td>\n",
              "      <td>26461</td>\n",
              "      <td>26.5%</td>\n",
              "      <td>2.54</td>\n",
              "      <td>141246</td>\n",
              "      <td>28820</td>\n",
              "      <td>11299</td>\n",
              "      <td>20.4%</td>\n",
              "      <td>2.55</td>\n",
              "    </tr>\n",
              "    <tr>\n",
              "      <th>13</th>\n",
              "      <td>2014-15</td>\n",
              "      <td>1279412</td>\n",
              "      <td>242628</td>\n",
              "      <td>92713</td>\n",
              "      <td>19.0%</td>\n",
              "      <td>2.62</td>\n",
              "      <td>837455</td>\n",
              "      <td>142789</td>\n",
              "      <td>53096</td>\n",
              "      <td>17.1%</td>\n",
              "      <td>...</td>\n",
              "      <td>298332</td>\n",
              "      <td>70493</td>\n",
              "      <td>28230</td>\n",
              "      <td>23.6%</td>\n",
              "      <td>2.50</td>\n",
              "      <td>143625</td>\n",
              "      <td>29346</td>\n",
              "      <td>11387</td>\n",
              "      <td>20.4%</td>\n",
              "      <td>2.58</td>\n",
              "    </tr>\n",
              "    <tr>\n",
              "      <th>14</th>\n",
              "      <td>2015-16</td>\n",
              "      <td>1325730</td>\n",
              "      <td>240687</td>\n",
              "      <td>92548</td>\n",
              "      <td>18.2%</td>\n",
              "      <td>2.60</td>\n",
              "      <td>859126</td>\n",
              "      <td>140416</td>\n",
              "      <td>52895</td>\n",
              "      <td>16.3%</td>\n",
              "      <td>...</td>\n",
              "      <td>312640</td>\n",
              "      <td>70418</td>\n",
              "      <td>28160</td>\n",
              "      <td>22.5%</td>\n",
              "      <td>2.50</td>\n",
              "      <td>153964</td>\n",
              "      <td>29853</td>\n",
              "      <td>11493</td>\n",
              "      <td>19.4%</td>\n",
              "      <td>2.60</td>\n",
              "    </tr>\n",
              "    <tr>\n",
              "      <th>15</th>\n",
              "      <td>2016-17</td>\n",
              "      <td>1390056</td>\n",
              "      <td>242910</td>\n",
              "      <td>95213</td>\n",
              "      <td>17.5%</td>\n",
              "      <td>2.55</td>\n",
              "      <td>899097</td>\n",
              "      <td>139467</td>\n",
              "      <td>53542</td>\n",
              "      <td>15.5%</td>\n",
              "      <td>...</td>\n",
              "      <td>332971</td>\n",
              "      <td>74255</td>\n",
              "      <td>30204</td>\n",
              "      <td>22.3%</td>\n",
              "      <td>2.46</td>\n",
              "      <td>157988</td>\n",
              "      <td>29188</td>\n",
              "      <td>11467</td>\n",
              "      <td>18.5%</td>\n",
              "      <td>2.55</td>\n",
              "    </tr>\n",
              "    <tr>\n",
              "      <th>16</th>\n",
              "      <td>2017-18</td>\n",
              "      <td>1451021</td>\n",
              "      <td>238317</td>\n",
              "      <td>96667</td>\n",
              "      <td>16.4%</td>\n",
              "      <td>2.47</td>\n",
              "      <td>928973</td>\n",
              "      <td>135173</td>\n",
              "      <td>54826</td>\n",
              "      <td>14.6%</td>\n",
              "      <td>...</td>\n",
              "      <td>355081</td>\n",
              "      <td>73976</td>\n",
              "      <td>30301</td>\n",
              "      <td>20.8%</td>\n",
              "      <td>2.44</td>\n",
              "      <td>166967</td>\n",
              "      <td>29168</td>\n",
              "      <td>11540</td>\n",
              "      <td>17.5%</td>\n",
              "      <td>2.53</td>\n",
              "    </tr>\n",
              "    <tr>\n",
              "      <th>17</th>\n",
              "      <td>2018-19</td>\n",
              "      <td>1588286</td>\n",
              "      <td>225082</td>\n",
              "      <td>96815</td>\n",
              "      <td>14.2%</td>\n",
              "      <td>2.32</td>\n",
              "      <td>1019631</td>\n",
              "      <td>123734</td>\n",
              "      <td>54771</td>\n",
              "      <td>12.1%</td>\n",
              "      <td>...</td>\n",
              "      <td>384589</td>\n",
              "      <td>71763</td>\n",
              "      <td>30236</td>\n",
              "      <td>18.7%</td>\n",
              "      <td>2.37</td>\n",
              "      <td>184066</td>\n",
              "      <td>29585</td>\n",
              "      <td>11808</td>\n",
              "      <td>16.1%</td>\n",
              "      <td>2.51</td>\n",
              "    </tr>\n",
              "    <tr>\n",
              "      <th>18</th>\n",
              "      <td>2019–20(est)</td>\n",
              "      <td>1639951</td>\n",
              "      <td>213467</td>\n",
              "      <td>95824</td>\n",
              "      <td>13.0%</td>\n",
              "      <td>2.23</td>\n",
              "      <td>1060372</td>\n",
              "      <td>115069</td>\n",
              "      <td>53718</td>\n",
              "      <td>10.9%</td>\n",
              "      <td>...</td>\n",
              "      <td>383789</td>\n",
              "      <td>69946</td>\n",
              "      <td>30400</td>\n",
              "      <td>18.2%</td>\n",
              "      <td>2.30</td>\n",
              "      <td>195790</td>\n",
              "      <td>28452</td>\n",
              "      <td>11706</td>\n",
              "      <td>14.5%</td>\n",
              "      <td>2.43</td>\n",
              "    </tr>\n",
              "  </tbody>\n",
              "</table>\n",
              "<p>19 rows × 21 columns</p>\n",
              "</div>"
            ],
            "text/plain": [
              "      Admit Year     Apps  Admits  Enroll  Admit Rate Admit:Enroll     Apps  \\\n",
              "0        2001-02   645111  198815   79872       30.8%         2.49   415855   \n",
              "1        2002-03   650908  202565   82026       31.1%         2.47   418230   \n",
              "2        2003-04   681989  206423   82544       30.3%         2.50   439502   \n",
              "3        2004-05   699074  207238   83682       29.6%         2.48   453319   \n",
              "4        2005-06   737493  213865   83591       29.0%         2.56   484023   \n",
              "5        2006-07   773374  217846   83900       28.2%         2.60   516292   \n",
              "6        2007-08   820664  220242   85739       26.8%         2.57   542066   \n",
              "7        2008-09   899001  224983   85599       25.0%         2.63   599122   \n",
              "8        2009-10   942859  237154   87199       25.2%         2.72   634067   \n",
              "9        2010-11  1004309  242075   88205       24.1%         2.74   685343   \n",
              "10       2011-12  1073088  242265   88619       22.6%         2.73   728229   \n",
              "11       2012-13  1125056  239427   89897       21.3%         2.66   766192   \n",
              "12       2013-14  1195869  237747   89585       19.9%         2.65   801351   \n",
              "13       2014-15  1279412  242628   92713       19.0%         2.62   837455   \n",
              "14       2015-16  1325730  240687   92548       18.2%         2.60   859126   \n",
              "15       2016-17  1390056  242910   95213       17.5%         2.55   899097   \n",
              "16       2017-18  1451021  238317   96667       16.4%         2.47   928973   \n",
              "17       2018-19  1588286  225082   96815       14.2%         2.32  1019631   \n",
              "18  2019–20(est)  1639951  213467   95824       13.0%         2.23  1060372   \n",
              "\n",
              "    Admits  Enroll  Admit Rate  ...    Apps  Admits  Enroll  Admit Rate  \\\n",
              "0   120124   46931       28.9%  ...  138627   49041   22110       35.4%   \n",
              "1   123779   48626       29.6%  ...  141166   49377   22264       35.0%   \n",
              "2   126504   49491       28.8%  ...  146165   50209   22262       34.4%   \n",
              "3   126441   49615       27.9%  ...  144258   50923   23169       35.3%   \n",
              "4   132750   49982       27.4%  ...  147507   51430   22639       34.9%   \n",
              "5   135568   49507       26.3%  ...  148794   52343   23589       35.2%   \n",
              "6   135960   50249       25.1%  ...  163374   54788   24637       33.5%   \n",
              "7   140482   50101       23.4%  ...  172826   54634   24347       31.6%   \n",
              "8   148579   51283       23.4%  ...  186771   58364   24830       31.2%   \n",
              "9   151508   51655       22.1%  ...  192770   59986   25175       31.1%   \n",
              "10  147615   52311       20.3%  ...  210869   64962   25092       30.8%   \n",
              "11  143510   52085       18.7%  ...  221000   66400   26537       30.0%   \n",
              "12  141685   51825       17.7%  ...  253272   67242   26461       26.5%   \n",
              "13  142789   53096       17.1%  ...  298332   70493   28230       23.6%   \n",
              "14  140416   52895       16.3%  ...  312640   70418   28160       22.5%   \n",
              "15  139467   53542       15.5%  ...  332971   74255   30204       22.3%   \n",
              "16  135173   54826       14.6%  ...  355081   73976   30301       20.8%   \n",
              "17  123734   54771       12.1%  ...  384589   71763   30236       18.7%   \n",
              "18  115069   53718       10.9%  ...  383789   69946   30400       18.2%   \n",
              "\n",
              "   Admit:Enroll    Apps  Admits  Enroll  Admit Rate Admit:Enroll  \n",
              "0          2.22   90629   29650   10831       32.7%         2.74  \n",
              "1          2.22   91512   29409   11136       32.1%         2.64  \n",
              "2          2.26   96322   29710   10791       30.8%         2.75  \n",
              "3          2.20  101497   29874   10898       29.4%         2.74  \n",
              "4          2.27  105963   29685   10970       28.0%         2.71  \n",
              "5          2.22  108288   29935   10804       27.6%         2.77  \n",
              "6          2.22  115224   29494   10853       25.6%         2.72  \n",
              "7          2.24  127053   29867   11151       23.5%         2.68  \n",
              "8          2.35  122021   30211   11086       24.8%         2.73  \n",
              "9          2.38  126196   30581   11375       24.2%         2.69  \n",
              "10         2.59  133990   29688   11216       22.2%         2.65  \n",
              "11         2.50  137864   29517   11275       21.4%         2.62  \n",
              "12         2.54  141246   28820   11299       20.4%         2.55  \n",
              "13         2.50  143625   29346   11387       20.4%         2.58  \n",
              "14         2.50  153964   29853   11493       19.4%         2.60  \n",
              "15         2.46  157988   29188   11467       18.5%         2.55  \n",
              "16         2.44  166967   29168   11540       17.5%         2.53  \n",
              "17         2.37  184066   29585   11808       16.1%         2.51  \n",
              "18         2.30  195790   28452   11706       14.5%         2.43  \n",
              "\n",
              "[19 rows x 21 columns]"
            ]
          },
          "execution_count": 105,
          "metadata": {},
          "output_type": "execute_result"
        }
      ],
      "source": [
        "university_admits.columns = university_admits.columns.droplevel()\n",
        "university_admits.columns = university_admits.columns.droplevel()\n",
        "university_admits"
      ]
    },
    {
      "cell_type": "code",
      "execution_count": null,
      "metadata": {
        "id": "shRFZFjAc1rt",
        "outputId": "a3d49f9e-2495-4b07-f24e-f30b3dfc7d23"
      },
      "outputs": [
        {
          "data": {
            "text/html": [
              "<div>\n",
              "<style scoped>\n",
              "    .dataframe tbody tr th:only-of-type {\n",
              "        vertical-align: middle;\n",
              "    }\n",
              "\n",
              "    .dataframe tbody tr th {\n",
              "        vertical-align: top;\n",
              "    }\n",
              "\n",
              "    .dataframe thead th {\n",
              "        text-align: right;\n",
              "    }\n",
              "</style>\n",
              "<table border=\"1\" class=\"dataframe\">\n",
              "  <thead>\n",
              "    <tr style=\"text-align: right;\">\n",
              "      <th></th>\n",
              "      <th>Admit Year</th>\n",
              "      <th>Apps</th>\n",
              "      <th>Admits</th>\n",
              "      <th>Enroll</th>\n",
              "      <th>Admit Rate</th>\n",
              "      <th>Admit:Enroll</th>\n",
              "    </tr>\n",
              "  </thead>\n",
              "  <tbody>\n",
              "    <tr>\n",
              "      <th>0</th>\n",
              "      <td>2001-02</td>\n",
              "      <td>645111</td>\n",
              "      <td>198815</td>\n",
              "      <td>79872</td>\n",
              "      <td>30.8%</td>\n",
              "      <td>2.49</td>\n",
              "    </tr>\n",
              "    <tr>\n",
              "      <th>1</th>\n",
              "      <td>2002-03</td>\n",
              "      <td>650908</td>\n",
              "      <td>202565</td>\n",
              "      <td>82026</td>\n",
              "      <td>31.1%</td>\n",
              "      <td>2.47</td>\n",
              "    </tr>\n",
              "    <tr>\n",
              "      <th>2</th>\n",
              "      <td>2003-04</td>\n",
              "      <td>681989</td>\n",
              "      <td>206423</td>\n",
              "      <td>82544</td>\n",
              "      <td>30.3%</td>\n",
              "      <td>2.50</td>\n",
              "    </tr>\n",
              "    <tr>\n",
              "      <th>3</th>\n",
              "      <td>2004-05</td>\n",
              "      <td>699074</td>\n",
              "      <td>207238</td>\n",
              "      <td>83682</td>\n",
              "      <td>29.6%</td>\n",
              "      <td>2.48</td>\n",
              "    </tr>\n",
              "    <tr>\n",
              "      <th>4</th>\n",
              "      <td>2005-06</td>\n",
              "      <td>737493</td>\n",
              "      <td>213865</td>\n",
              "      <td>83591</td>\n",
              "      <td>29.0%</td>\n",
              "      <td>2.56</td>\n",
              "    </tr>\n",
              "    <tr>\n",
              "      <th>5</th>\n",
              "      <td>2006-07</td>\n",
              "      <td>773374</td>\n",
              "      <td>217846</td>\n",
              "      <td>83900</td>\n",
              "      <td>28.2%</td>\n",
              "      <td>2.60</td>\n",
              "    </tr>\n",
              "    <tr>\n",
              "      <th>6</th>\n",
              "      <td>2007-08</td>\n",
              "      <td>820664</td>\n",
              "      <td>220242</td>\n",
              "      <td>85739</td>\n",
              "      <td>26.8%</td>\n",
              "      <td>2.57</td>\n",
              "    </tr>\n",
              "    <tr>\n",
              "      <th>7</th>\n",
              "      <td>2008-09</td>\n",
              "      <td>899001</td>\n",
              "      <td>224983</td>\n",
              "      <td>85599</td>\n",
              "      <td>25.0%</td>\n",
              "      <td>2.63</td>\n",
              "    </tr>\n",
              "    <tr>\n",
              "      <th>8</th>\n",
              "      <td>2009-10</td>\n",
              "      <td>942859</td>\n",
              "      <td>237154</td>\n",
              "      <td>87199</td>\n",
              "      <td>25.2%</td>\n",
              "      <td>2.72</td>\n",
              "    </tr>\n",
              "    <tr>\n",
              "      <th>9</th>\n",
              "      <td>2010-11</td>\n",
              "      <td>1004309</td>\n",
              "      <td>242075</td>\n",
              "      <td>88205</td>\n",
              "      <td>24.1%</td>\n",
              "      <td>2.74</td>\n",
              "    </tr>\n",
              "    <tr>\n",
              "      <th>10</th>\n",
              "      <td>2011-12</td>\n",
              "      <td>1073088</td>\n",
              "      <td>242265</td>\n",
              "      <td>88619</td>\n",
              "      <td>22.6%</td>\n",
              "      <td>2.73</td>\n",
              "    </tr>\n",
              "    <tr>\n",
              "      <th>11</th>\n",
              "      <td>2012-13</td>\n",
              "      <td>1125056</td>\n",
              "      <td>239427</td>\n",
              "      <td>89897</td>\n",
              "      <td>21.3%</td>\n",
              "      <td>2.66</td>\n",
              "    </tr>\n",
              "    <tr>\n",
              "      <th>12</th>\n",
              "      <td>2013-14</td>\n",
              "      <td>1195869</td>\n",
              "      <td>237747</td>\n",
              "      <td>89585</td>\n",
              "      <td>19.9%</td>\n",
              "      <td>2.65</td>\n",
              "    </tr>\n",
              "    <tr>\n",
              "      <th>13</th>\n",
              "      <td>2014-15</td>\n",
              "      <td>1279412</td>\n",
              "      <td>242628</td>\n",
              "      <td>92713</td>\n",
              "      <td>19.0%</td>\n",
              "      <td>2.62</td>\n",
              "    </tr>\n",
              "    <tr>\n",
              "      <th>14</th>\n",
              "      <td>2015-16</td>\n",
              "      <td>1325730</td>\n",
              "      <td>240687</td>\n",
              "      <td>92548</td>\n",
              "      <td>18.2%</td>\n",
              "      <td>2.60</td>\n",
              "    </tr>\n",
              "    <tr>\n",
              "      <th>15</th>\n",
              "      <td>2016-17</td>\n",
              "      <td>1390056</td>\n",
              "      <td>242910</td>\n",
              "      <td>95213</td>\n",
              "      <td>17.5%</td>\n",
              "      <td>2.55</td>\n",
              "    </tr>\n",
              "    <tr>\n",
              "      <th>16</th>\n",
              "      <td>2017-18</td>\n",
              "      <td>1451021</td>\n",
              "      <td>238317</td>\n",
              "      <td>96667</td>\n",
              "      <td>16.4%</td>\n",
              "      <td>2.47</td>\n",
              "    </tr>\n",
              "    <tr>\n",
              "      <th>17</th>\n",
              "      <td>2018-19</td>\n",
              "      <td>1588286</td>\n",
              "      <td>225082</td>\n",
              "      <td>96815</td>\n",
              "      <td>14.2%</td>\n",
              "      <td>2.32</td>\n",
              "    </tr>\n",
              "    <tr>\n",
              "      <th>18</th>\n",
              "      <td>2019–20(est)</td>\n",
              "      <td>1639951</td>\n",
              "      <td>213467</td>\n",
              "      <td>95824</td>\n",
              "      <td>13.0%</td>\n",
              "      <td>2.23</td>\n",
              "    </tr>\n",
              "  </tbody>\n",
              "</table>\n",
              "</div>"
            ],
            "text/plain": [
              "      Admit Year     Apps  Admits  Enroll Admit Rate  Admit:Enroll\n",
              "0        2001-02   645111  198815   79872      30.8%          2.49\n",
              "1        2002-03   650908  202565   82026      31.1%          2.47\n",
              "2        2003-04   681989  206423   82544      30.3%          2.50\n",
              "3        2004-05   699074  207238   83682      29.6%          2.48\n",
              "4        2005-06   737493  213865   83591      29.0%          2.56\n",
              "5        2006-07   773374  217846   83900      28.2%          2.60\n",
              "6        2007-08   820664  220242   85739      26.8%          2.57\n",
              "7        2008-09   899001  224983   85599      25.0%          2.63\n",
              "8        2009-10   942859  237154   87199      25.2%          2.72\n",
              "9        2010-11  1004309  242075   88205      24.1%          2.74\n",
              "10       2011-12  1073088  242265   88619      22.6%          2.73\n",
              "11       2012-13  1125056  239427   89897      21.3%          2.66\n",
              "12       2013-14  1195869  237747   89585      19.9%          2.65\n",
              "13       2014-15  1279412  242628   92713      19.0%          2.62\n",
              "14       2015-16  1325730  240687   92548      18.2%          2.60\n",
              "15       2016-17  1390056  242910   95213      17.5%          2.55\n",
              "16       2017-18  1451021  238317   96667      16.4%          2.47\n",
              "17       2018-19  1588286  225082   96815      14.2%          2.32\n",
              "18  2019–20(est)  1639951  213467   95824      13.0%          2.23"
            ]
          },
          "execution_count": 106,
          "metadata": {},
          "output_type": "execute_result"
        }
      ],
      "source": [
        "private_uni_admits = university_admits.iloc[:, :6]\n",
        "private_uni_admits"
      ]
    },
    {
      "cell_type": "code",
      "execution_count": null,
      "metadata": {
        "id": "Uw6G-O7tc1rt",
        "outputId": "3296d23c-49c6-4cf7-f7a2-33deb3afa135"
      },
      "outputs": [
        {
          "data": {
            "text/html": [
              "<div>\n",
              "<style scoped>\n",
              "    .dataframe tbody tr th:only-of-type {\n",
              "        vertical-align: middle;\n",
              "    }\n",
              "\n",
              "    .dataframe tbody tr th {\n",
              "        vertical-align: top;\n",
              "    }\n",
              "\n",
              "    .dataframe thead th {\n",
              "        text-align: right;\n",
              "    }\n",
              "</style>\n",
              "<table border=\"1\" class=\"dataframe\">\n",
              "  <thead>\n",
              "    <tr style=\"text-align: right;\">\n",
              "      <th></th>\n",
              "      <th>Admit Year</th>\n",
              "      <th>Apps</th>\n",
              "      <th>Admits</th>\n",
              "      <th>Enroll</th>\n",
              "      <th>Admit Rate</th>\n",
              "      <th>Admit:Enroll</th>\n",
              "    </tr>\n",
              "  </thead>\n",
              "  <tbody>\n",
              "    <tr>\n",
              "      <th>0</th>\n",
              "      <td>2001-02</td>\n",
              "      <td>645111</td>\n",
              "      <td>198815</td>\n",
              "      <td>79872</td>\n",
              "      <td>0.308</td>\n",
              "      <td>2.49</td>\n",
              "    </tr>\n",
              "    <tr>\n",
              "      <th>1</th>\n",
              "      <td>2002-03</td>\n",
              "      <td>650908</td>\n",
              "      <td>202565</td>\n",
              "      <td>82026</td>\n",
              "      <td>0.311</td>\n",
              "      <td>2.47</td>\n",
              "    </tr>\n",
              "    <tr>\n",
              "      <th>2</th>\n",
              "      <td>2003-04</td>\n",
              "      <td>681989</td>\n",
              "      <td>206423</td>\n",
              "      <td>82544</td>\n",
              "      <td>0.303</td>\n",
              "      <td>2.50</td>\n",
              "    </tr>\n",
              "    <tr>\n",
              "      <th>3</th>\n",
              "      <td>2004-05</td>\n",
              "      <td>699074</td>\n",
              "      <td>207238</td>\n",
              "      <td>83682</td>\n",
              "      <td>0.296</td>\n",
              "      <td>2.48</td>\n",
              "    </tr>\n",
              "    <tr>\n",
              "      <th>4</th>\n",
              "      <td>2005-06</td>\n",
              "      <td>737493</td>\n",
              "      <td>213865</td>\n",
              "      <td>83591</td>\n",
              "      <td>0.290</td>\n",
              "      <td>2.56</td>\n",
              "    </tr>\n",
              "    <tr>\n",
              "      <th>5</th>\n",
              "      <td>2006-07</td>\n",
              "      <td>773374</td>\n",
              "      <td>217846</td>\n",
              "      <td>83900</td>\n",
              "      <td>0.282</td>\n",
              "      <td>2.60</td>\n",
              "    </tr>\n",
              "    <tr>\n",
              "      <th>6</th>\n",
              "      <td>2007-08</td>\n",
              "      <td>820664</td>\n",
              "      <td>220242</td>\n",
              "      <td>85739</td>\n",
              "      <td>0.268</td>\n",
              "      <td>2.57</td>\n",
              "    </tr>\n",
              "    <tr>\n",
              "      <th>7</th>\n",
              "      <td>2008-09</td>\n",
              "      <td>899001</td>\n",
              "      <td>224983</td>\n",
              "      <td>85599</td>\n",
              "      <td>0.250</td>\n",
              "      <td>2.63</td>\n",
              "    </tr>\n",
              "    <tr>\n",
              "      <th>8</th>\n",
              "      <td>2009-10</td>\n",
              "      <td>942859</td>\n",
              "      <td>237154</td>\n",
              "      <td>87199</td>\n",
              "      <td>0.252</td>\n",
              "      <td>2.72</td>\n",
              "    </tr>\n",
              "    <tr>\n",
              "      <th>9</th>\n",
              "      <td>2010-11</td>\n",
              "      <td>1004309</td>\n",
              "      <td>242075</td>\n",
              "      <td>88205</td>\n",
              "      <td>0.241</td>\n",
              "      <td>2.74</td>\n",
              "    </tr>\n",
              "    <tr>\n",
              "      <th>10</th>\n",
              "      <td>2011-12</td>\n",
              "      <td>1073088</td>\n",
              "      <td>242265</td>\n",
              "      <td>88619</td>\n",
              "      <td>0.226</td>\n",
              "      <td>2.73</td>\n",
              "    </tr>\n",
              "    <tr>\n",
              "      <th>11</th>\n",
              "      <td>2012-13</td>\n",
              "      <td>1125056</td>\n",
              "      <td>239427</td>\n",
              "      <td>89897</td>\n",
              "      <td>0.213</td>\n",
              "      <td>2.66</td>\n",
              "    </tr>\n",
              "    <tr>\n",
              "      <th>12</th>\n",
              "      <td>2013-14</td>\n",
              "      <td>1195869</td>\n",
              "      <td>237747</td>\n",
              "      <td>89585</td>\n",
              "      <td>0.199</td>\n",
              "      <td>2.65</td>\n",
              "    </tr>\n",
              "    <tr>\n",
              "      <th>13</th>\n",
              "      <td>2014-15</td>\n",
              "      <td>1279412</td>\n",
              "      <td>242628</td>\n",
              "      <td>92713</td>\n",
              "      <td>0.190</td>\n",
              "      <td>2.62</td>\n",
              "    </tr>\n",
              "    <tr>\n",
              "      <th>14</th>\n",
              "      <td>2015-16</td>\n",
              "      <td>1325730</td>\n",
              "      <td>240687</td>\n",
              "      <td>92548</td>\n",
              "      <td>0.182</td>\n",
              "      <td>2.60</td>\n",
              "    </tr>\n",
              "    <tr>\n",
              "      <th>15</th>\n",
              "      <td>2016-17</td>\n",
              "      <td>1390056</td>\n",
              "      <td>242910</td>\n",
              "      <td>95213</td>\n",
              "      <td>0.175</td>\n",
              "      <td>2.55</td>\n",
              "    </tr>\n",
              "    <tr>\n",
              "      <th>16</th>\n",
              "      <td>2017-18</td>\n",
              "      <td>1451021</td>\n",
              "      <td>238317</td>\n",
              "      <td>96667</td>\n",
              "      <td>0.164</td>\n",
              "      <td>2.47</td>\n",
              "    </tr>\n",
              "    <tr>\n",
              "      <th>17</th>\n",
              "      <td>2018-19</td>\n",
              "      <td>1588286</td>\n",
              "      <td>225082</td>\n",
              "      <td>96815</td>\n",
              "      <td>0.142</td>\n",
              "      <td>2.32</td>\n",
              "    </tr>\n",
              "    <tr>\n",
              "      <th>18</th>\n",
              "      <td>2019–20(est)</td>\n",
              "      <td>1639951</td>\n",
              "      <td>213467</td>\n",
              "      <td>95824</td>\n",
              "      <td>0.130</td>\n",
              "      <td>2.23</td>\n",
              "    </tr>\n",
              "  </tbody>\n",
              "</table>\n",
              "</div>"
            ],
            "text/plain": [
              "      Admit Year     Apps  Admits  Enroll  Admit Rate  Admit:Enroll\n",
              "0        2001-02   645111  198815   79872       0.308          2.49\n",
              "1        2002-03   650908  202565   82026       0.311          2.47\n",
              "2        2003-04   681989  206423   82544       0.303          2.50\n",
              "3        2004-05   699074  207238   83682       0.296          2.48\n",
              "4        2005-06   737493  213865   83591       0.290          2.56\n",
              "5        2006-07   773374  217846   83900       0.282          2.60\n",
              "6        2007-08   820664  220242   85739       0.268          2.57\n",
              "7        2008-09   899001  224983   85599       0.250          2.63\n",
              "8        2009-10   942859  237154   87199       0.252          2.72\n",
              "9        2010-11  1004309  242075   88205       0.241          2.74\n",
              "10       2011-12  1073088  242265   88619       0.226          2.73\n",
              "11       2012-13  1125056  239427   89897       0.213          2.66\n",
              "12       2013-14  1195869  237747   89585       0.199          2.65\n",
              "13       2014-15  1279412  242628   92713       0.190          2.62\n",
              "14       2015-16  1325730  240687   92548       0.182          2.60\n",
              "15       2016-17  1390056  242910   95213       0.175          2.55\n",
              "16       2017-18  1451021  238317   96667       0.164          2.47\n",
              "17       2018-19  1588286  225082   96815       0.142          2.32\n",
              "18  2019–20(est)  1639951  213467   95824       0.130          2.23"
            ]
          },
          "execution_count": 107,
          "metadata": {},
          "output_type": "execute_result"
        }
      ],
      "source": [
        "def convert_percentage_to_float(x):\n",
        "    return float(x.strip('%'))/100\n",
        "\n",
        "private_uni_admits['Admit Rate'] = private_uni_admits['Admit Rate'].str.rstrip('%').astype('float') / 100.0\n",
        "private_uni_admits"
      ]
    },
    {
      "cell_type": "markdown",
      "metadata": {
        "id": "L4TIpyRkc1rt"
      },
      "source": [
        "# Describe the Data Using Descriptive Stats\n",
        "Using descriptive stats to talk about our data. Includes mean, median, and mode where applicable and talks about normality of data."
      ]
    },
    {
      "cell_type": "code",
      "execution_count": null,
      "metadata": {
        "id": "fuaCTiNyc1rt",
        "outputId": "2b2b96bf-1f9a-497a-f57f-2de4aad77405"
      },
      "outputs": [
        {
          "name": "stdout",
          "output_type": "stream",
          "text": [
            "Analysis for US Graduate schools admission parameters\n",
            "Rows: 400\n",
            "Columns: 9\n",
            "\n",
            "Stats about GRE Scores:\n",
            "Mean GRE score 316.81\n",
            "Median GRE score 317.0\n",
            "Standard Deviation GRE score 11.47\n",
            "Variance of GRE score 131.64\n",
            "\n",
            "Stats about TOEFL Scores:\n",
            "Mean TOEFL score 107.41\n",
            "Median TOEFL score 107.0\n",
            "Standard Deviation TOEFL score 6.07\n",
            "Variance of TOEFL score 36.84\n",
            "\n",
            "Stats about GPA Scores:\n",
            "Mean GPA score 3.44\n",
            "Median GPA score 3.44\n",
            "Standard Deviation GPA score 0.24\n",
            "Variance of GPA score 0.06\n",
            "\n"
          ]
        }
      ],
      "source": [
        "print(\"Analysis for US Graduate schools admission parameters\")\n",
        "print(\"Rows:\", grad_admission.shape[0])\n",
        "print(\"Columns:\", grad_admission.shape[1])\n",
        "print()\n",
        "\n",
        "print(\"Stats about GRE Scores:\")\n",
        "print(\"Mean GRE score\", round(grad_admission['GRE_Score'].mean(),2))\n",
        "print(\"Median GRE score\", round(grad_admission['GRE_Score'].median(),2))\n",
        "print(\"Standard Deviation GRE score\", round(grad_admission['GRE_Score'].std(),2))\n",
        "print(\"Variance of GRE score\", round(grad_admission['GRE_Score'].var(),2))\n",
        "print()\n",
        "\n",
        "print(\"Stats about TOEFL Scores:\")\n",
        "print(\"Mean TOEFL score\", round(grad_admission['TOEFL_Score'].mean(),2))\n",
        "print(\"Median TOEFL score\", round(grad_admission['TOEFL_Score'].median(),2))\n",
        "print(\"Standard Deviation TOEFL score\", round(grad_admission['TOEFL_Score'].std(),2))\n",
        "print(\"Variance of TOEFL score\", round(grad_admission['TOEFL_Score'].var(),2))\n",
        "print()\n",
        "\n",
        "print(\"Stats about GPA Scores:\")\n",
        "print(\"Mean GPA score\", round(grad_admission['GPA'].mean(),2))\n",
        "print(\"Median GPA score\", round(grad_admission['GPA'].median(),2))\n",
        "print(\"Standard Deviation GPA score\", round(grad_admission['GPA'].std(),2))\n",
        "print(\"Variance of GPA score\", round(grad_admission['GPA'].var(),2))\n",
        "print()"
      ]
    },
    {
      "cell_type": "markdown",
      "metadata": {
        "id": "ba-yaLeAc1ru"
      },
      "source": [
        "**We see that both mean and median are either equal or very close to each other. The variance and SD for GPA is low  but the variance for GRE and TOEFL are pretty high.**"
      ]
    },
    {
      "cell_type": "code",
      "execution_count": null,
      "metadata": {
        "id": "YztKxXEjc1ru",
        "outputId": "07fd6e3f-bad8-401c-bd39-357922946aa6"
      },
      "outputs": [
        {
          "name": "stdout",
          "output_type": "stream",
          "text": [
            "Analysis for US University Enrollment for Nonresident Alien and Women:\n",
            "Rows: 1269\n",
            "Columns: 2\n",
            "\n",
            "Stats about Enrollment for Nonresident Alien:\n",
            "Mean enrollment of Nonresident Alien 7.55\n",
            "Median enrollment of Nonresident Alien 3.0\n",
            "Standard enrollment of Nonresident Alien 11.12\n",
            "Variance of enrollment of Nonresident Alien 123.71\n",
            "\n",
            "Stats about Enrollment for Women:\n",
            "Mean enrollment of Women 63.11\n",
            "Median enrollment of Women 64.0\n",
            "Standard enrollment of Women 14.15\n",
            "Variance of enrollment of Women 200.14\n",
            "\n"
          ]
        }
      ],
      "source": [
        "print(\"Analysis for US University Enrollment for Nonresident Alien and Women:\")\n",
        "print(\"Rows:\", graduate_enrollment.shape[0])\n",
        "print(\"Columns:\", graduate_enrollment.shape[1])\n",
        "print()\n",
        "\n",
        "print(\"Stats about Enrollment for Nonresident Alien:\")\n",
        "print(\"Mean enrollment of Nonresident Alien\", round(graduate_enrollment['Nonresident_Alien'].mean(),2))\n",
        "print(\"Median enrollment of Nonresident Alien\", round(graduate_enrollment['Nonresident_Alien'].median(),2))\n",
        "print(\"Standard enrollment of Nonresident Alien\", round(graduate_enrollment['Nonresident_Alien'].std(),2))\n",
        "print(\"Variance of enrollment of Nonresident Alien\", round(graduate_enrollment['Nonresident_Alien'].var(),2))\n",
        "print()\n",
        "\n",
        "print(\"Stats about Enrollment for Women:\")\n",
        "print(\"Mean enrollment of Women\", round(graduate_enrollment['Women'].mean(),2))\n",
        "print(\"Median enrollment of Women\", round(graduate_enrollment['Women'].median(),2))\n",
        "print(\"Standard enrollment of Women\", round(graduate_enrollment['Women'].std(),2))\n",
        "print(\"Variance of enrollment of Women\", round(graduate_enrollment['Women'].var(),2))\n",
        "print()\n"
      ]
    },
    {
      "cell_type": "markdown",
      "metadata": {
        "id": "aR_6Z9e3c1ru"
      },
      "source": [
        "Let's look at the description of our data altogether."
      ]
    },
    {
      "cell_type": "code",
      "execution_count": null,
      "metadata": {
        "id": "wlTE7w9gc1ru",
        "outputId": "2d5d71ea-5bcc-46dd-b3ba-71b74629a120"
      },
      "outputs": [
        {
          "data": {
            "text/html": [
              "<div>\n",
              "<style scoped>\n",
              "    .dataframe tbody tr th:only-of-type {\n",
              "        vertical-align: middle;\n",
              "    }\n",
              "\n",
              "    .dataframe tbody tr th {\n",
              "        vertical-align: top;\n",
              "    }\n",
              "\n",
              "    .dataframe thead th {\n",
              "        text-align: right;\n",
              "    }\n",
              "</style>\n",
              "<table border=\"1\" class=\"dataframe\">\n",
              "  <thead>\n",
              "    <tr style=\"text-align: right;\">\n",
              "      <th></th>\n",
              "      <th>Nonresident_Alien</th>\n",
              "      <th>Women</th>\n",
              "    </tr>\n",
              "  </thead>\n",
              "  <tbody>\n",
              "    <tr>\n",
              "      <th>count</th>\n",
              "      <td>1269.000000</td>\n",
              "      <td>1269.000000</td>\n",
              "    </tr>\n",
              "    <tr>\n",
              "      <th>mean</th>\n",
              "      <td>7.550039</td>\n",
              "      <td>63.109535</td>\n",
              "    </tr>\n",
              "    <tr>\n",
              "      <th>std</th>\n",
              "      <td>11.122634</td>\n",
              "      <td>14.147092</td>\n",
              "    </tr>\n",
              "    <tr>\n",
              "      <th>min</th>\n",
              "      <td>0.000000</td>\n",
              "      <td>0.000000</td>\n",
              "    </tr>\n",
              "    <tr>\n",
              "      <th>25%</th>\n",
              "      <td>1.000000</td>\n",
              "      <td>55.000000</td>\n",
              "    </tr>\n",
              "    <tr>\n",
              "      <th>50%</th>\n",
              "      <td>3.000000</td>\n",
              "      <td>64.000000</td>\n",
              "    </tr>\n",
              "    <tr>\n",
              "      <th>75%</th>\n",
              "      <td>10.000000</td>\n",
              "      <td>72.000000</td>\n",
              "    </tr>\n",
              "    <tr>\n",
              "      <th>max</th>\n",
              "      <td>100.000000</td>\n",
              "      <td>100.000000</td>\n",
              "    </tr>\n",
              "  </tbody>\n",
              "</table>\n",
              "</div>"
            ],
            "text/plain": [
              "       Nonresident_Alien        Women\n",
              "count        1269.000000  1269.000000\n",
              "mean            7.550039    63.109535\n",
              "std            11.122634    14.147092\n",
              "min             0.000000     0.000000\n",
              "25%             1.000000    55.000000\n",
              "50%             3.000000    64.000000\n",
              "75%            10.000000    72.000000\n",
              "max           100.000000   100.000000"
            ]
          },
          "execution_count": 110,
          "metadata": {},
          "output_type": "execute_result"
        }
      ],
      "source": [
        "graduate_enrollment.describe()"
      ]
    },
    {
      "cell_type": "code",
      "execution_count": null,
      "metadata": {
        "id": "Hk5YGKLvc1ru",
        "outputId": "44d81a5b-c3ae-44af-9d57-258f48977969"
      },
      "outputs": [
        {
          "name": "stdout",
          "output_type": "stream",
          "text": [
            "Analysis for US Private University Applications, Admission and Enrollment:\n",
            "Rows: 19\n",
            "Columns: 6\n",
            "\n",
            "Stats about number of applications:\n",
            "Mean number of applications 1048592.16\n",
            "Median number of applications 1004309.0\n",
            "Standard number of applications 326194.32\n",
            "Variance of number of applications 106402733314.25\n",
            "\n",
            "Stats about number of admitted students:\n",
            "Mean number of admitted students 225986.11\n",
            "Median number of admitted students 225082.0\n",
            "Standard number of admitted students 15500.62\n",
            "Variance of number of admitted students 240269100.43\n",
            "\n",
            "Stats about number of enrolled:\n",
            "Mean number of enrolled 88433.58\n",
            "Median number of enrolled 88205.0\n",
            "Standard number of enrolled 5322.17\n",
            "Variance of number of enrolled 28325458.48\n",
            "\n",
            "Stats about students who are enrolled and admited:\n",
            "Mean number Admit:Enroll 2.56\n",
            "Median number Admit:Enroll 2.57\n",
            "Standard number Admit:Enroll  0.13\n",
            "Variance of Admit:Enroll 0.02\n",
            "\n"
          ]
        }
      ],
      "source": [
        "print(\"Analysis for US Private University Applications, Admission and Enrollment:\")\n",
        "print(\"Rows:\", private_uni_admits.shape[0])\n",
        "print(\"Columns:\", private_uni_admits.shape[1])\n",
        "print()\n",
        "\n",
        "print(\"Stats about number of applications:\")\n",
        "print(\"Mean number of applications\", round(private_uni_admits['Apps'].mean(),2))\n",
        "print(\"Median number of applications\", round(private_uni_admits['Apps'].median(),2))\n",
        "print(\"Standard number of applications\", round(private_uni_admits['Apps'].std(),2))\n",
        "print(\"Variance of number of applications\", round(private_uni_admits['Apps'].var(),2))\n",
        "print()\n",
        "\n",
        "print(\"Stats about number of admitted students:\")\n",
        "print(\"Mean number of admitted students\", round(private_uni_admits['Admits'].mean(),2))\n",
        "print(\"Median number of admitted students\", round(private_uni_admits['Admits'].median(),2))\n",
        "print(\"Standard number of admitted students\", round(private_uni_admits['Admits'].std(),2))\n",
        "print(\"Variance of number of admitted students\", round(private_uni_admits['Admits'].var(),2))\n",
        "print()\n",
        "\n",
        "print(\"Stats about number of enrolled:\")\n",
        "print(\"Mean number of enrolled\", round(private_uni_admits['Enroll'].mean(),2))\n",
        "print(\"Median number of enrolled\", round(private_uni_admits['Enroll'].median(),2))\n",
        "print(\"Standard number of enrolled\", round(private_uni_admits['Enroll'].std(),2))\n",
        "print(\"Variance of number of enrolled\", round(private_uni_admits['Enroll'].var(),2))\n",
        "print()\n",
        "\n",
        "print(\"Stats about students who are enrolled and admited:\")\n",
        "print(\"Mean number Admit:Enroll\", round(private_uni_admits['Admit:Enroll'].mean(),2))\n",
        "print(\"Median number Admit:Enroll\", round(private_uni_admits['Admit:Enroll'].median(),2))\n",
        "print(\"Standard number Admit:Enroll \", round(private_uni_admits['Admit:Enroll'].std(),2))\n",
        "print(\"Variance of Admit:Enroll\", round(private_uni_admits['Admit:Enroll'].var(),2))\n",
        "print()"
      ]
    },
    {
      "cell_type": "markdown",
      "metadata": {
        "id": "ryKSeFgPc1rv"
      },
      "source": [
        "# Data Visualization"
      ]
    },
    {
      "cell_type": "code",
      "execution_count": null,
      "metadata": {
        "id": "b40_AcoQc1rv",
        "outputId": "4dde542d-f0d6-4db8-ec38-fb8be0d466cd"
      },
      "outputs": [
        {
          "name": "stdout",
          "output_type": "stream",
          "text": [
            "Index(['GRE_Score', 'TOEFL_Score', 'University_Rating', 'SOP', 'LOR', 'CGPA',\n",
            "       'Research', 'Chance_of_Admit', 'GPA'],\n",
            "      dtype='object')\n"
          ]
        },
        {
          "name": "stderr",
          "output_type": "stream",
          "text": [
            "/opt/conda/lib/python3.8/site-packages/seaborn/distributions.py:2551: FutureWarning: `distplot` is a deprecated function and will be removed in a future version. Please adapt your code to use either `displot` (a figure-level function with similar flexibility) or `histplot` (an axes-level function for histograms).\n",
            "  warnings.warn(msg, FutureWarning)\n"
          ]
        },
        {
          "data": {
            "image/png": "[encoded data removed]",
            "text/plain": [
              "<Figure size 1296x720 with 6 Axes>"
            ]
          },
          "metadata": {
            "needs_background": "light"
          },
          "output_type": "display_data"
        }
      ],
      "source": [
        "fig, axes = plt.subplots(2, 3, figsize=(18, 10))\n",
        "sns.distplot(grad_admission['GRE_Score'],ax=axes[0, 0],kde=False).set_title('GRE Score')\n",
        "sns.distplot(grad_admission['TOEFL_Score'],ax=axes[0, 1],kde=False).set_title('TOEFL Score')\n",
        "sns.distplot(grad_admission['University_Rating'],ax=axes[0, 2],bins=5,kde=False).set_title('University Rating')\n",
        "sns.distplot(grad_admission['SOP'],ax=axes[1, 0],bins=9,kde=False).set_title('Statement of Purpose')\n",
        "sns.distplot(grad_admission['GPA'],ax=axes[1, 1],kde=False).set_title('Undergrad GPA')\n",
        "sns.distplot(grad_admission['LOR'],ax=axes[1, 2],bins=9,kde=False).set_title( 'Letter of Recommendation')\n",
        "print(grad_admission.columns)"
      ]
    },
    {
      "cell_type": "markdown",
      "metadata": {
        "id": "Aug7_URRc1rv"
      },
      "source": [
        "**From the above plot we can see that the distribution of TOEFL score, GPA, CGPA and GRE score are quite NORMAL (with some outliers). It is clear from the distributions, students with varied merit apply for the university.**"
      ]
    },
    {
      "cell_type": "markdown",
      "metadata": {
        "id": "F7YfMiy-c1rv"
      },
      "source": [
        "**We also notice that distribution of 'University Rating', 'SOP' at a granular level is NOT NORMAL. The SOP column is left-skewed and 'University Rating' is right-skewed.**"
      ]
    },
    {
      "cell_type": "code",
      "execution_count": null,
      "metadata": {
        "id": "eeTDQCFUc1rv",
        "outputId": "607319e2-981a-4a07-9342-89e07f1cc39e"
      },
      "outputs": [
        {
          "data": {
            "image/png": "[encoded data removed]",
            "text/plain": [
              "<Figure size 432x288 with 1 Axes>"
            ]
          },
          "metadata": {},
          "output_type": "display_data"
        }
      ],
      "source": [
        "x = [grad_admission['Research'].value_counts()[0], grad_admission['Research'].value_counts()[1]]\n",
        "plt.pie(x, labels=['Student without research experience','Student with research experience'])\n",
        "plt.title('Students with and without research experiences')\n",
        "plt.show()"
      ]
    },
    {
      "cell_type": "markdown",
      "metadata": {
        "id": "TFaJLlmwc1rv"
      },
      "source": [
        "**As we can see a little over half the students have research experience. This makes sense because most of the undergrad students do not get to do research during their college but of the ones who apply to post-grad are the ones who prepare some research material because they think it will help them in getting into colleges.**"
      ]
    },
    {
      "cell_type": "code",
      "execution_count": null,
      "metadata": {
        "id": "Wsc2ohbMc1rv",
        "outputId": "ae0e86f1-b036-4031-f07b-15f2b43eafb5"
      },
      "outputs": [
        {
          "data": {
            "image/png": "[encoded data removed]",
            "text/plain": [
              "<Figure size 432x288 with 1 Axes>"
            ]
          },
          "metadata": {
            "needs_background": "light"
          },
          "output_type": "display_data"
        }
      ],
      "source": [
        "plt.hist(grad_admission['SOP'], [0,0.5,1.5,2,2.5,3,3.5,4,4.5,5,5.5,6] )\n",
        "plt.xlabel(\"Count\")\n",
        "plt.ylabel(\"Frequency\")\n",
        "plt.title(\"Histogram of SOP distributions\")\n",
        "plt.show()"
      ]
    },
    {
      "cell_type": "markdown",
      "metadata": {
        "id": "birnGbJRc1rv"
      },
      "source": [
        "**This distribution is NOT NORMAL. The distribution of the SOP looks like it is LEFT SKEWED.**"
      ]
    },
    {
      "cell_type": "code",
      "execution_count": null,
      "metadata": {
        "id": "3I_-5Nvwc1rw",
        "outputId": "360652b0-2016-4bb8-852e-c16c81297110"
      },
      "outputs": [
        {
          "data": {
            "image/png": "[encoded data removed]",
            "text/plain": [
              "<Figure size 432x288 with 1 Axes>"
            ]
          },
          "metadata": {
            "needs_background": "light"
          },
          "output_type": "display_data"
        }
      ],
      "source": [
        "x = grad_admission['University_Rating'].value_counts().keys()\n",
        "y = grad_admission['University_Rating'].value_counts().values\n",
        "\n",
        "plt.bar(x,y)\n",
        "plt.title('Bar graph for Frequencies of University Rating')\n",
        "plt.xlabel('University Rating')\n",
        "plt.ylabel('Frequency')\n",
        "plt.show()"
      ]
    },
    {
      "cell_type": "markdown",
      "metadata": {
        "id": "ookW1mc_c1rw"
      },
      "source": [
        "**With this visualization we can see that most of the applicants apply to mid-range universities. This is a true depiction of the real world because most candidates apply to multiple \"Safety-schools\". These are the school that are not the most prestigious but provide quality education (rating 3 & 4).**"
      ]
    },
    {
      "cell_type": "code",
      "execution_count": null,
      "metadata": {
        "id": "bgXEVLCBc1rw",
        "outputId": "b294e103-be81-42dd-af4c-95fda7ae12b3"
      },
      "outputs": [
        {
          "name": "stdout",
          "output_type": "stream",
          "text": [
            "Index(['Nonresident_Alien', 'Women'], dtype='object')\n"
          ]
        },
        {
          "data": {
            "image/png": "[encoded data removed]",
            "text/plain": [
              "<Figure size 432x288 with 1 Axes>"
            ]
          },
          "metadata": {
            "needs_background": "light"
          },
          "output_type": "display_data"
        },
        {
          "data": {
            "image/png": "[encoded data removed]",
            "text/plain": [
              "<Figure size 432x288 with 1 Axes>"
            ]
          },
          "metadata": {
            "needs_background": "light"
          },
          "output_type": "display_data"
        }
      ],
      "source": [
        "print(graduate_enrollment.columns)\n",
        "plt.hist(graduate_enrollment['Nonresident_Alien'])\n",
        "plt.xlabel(\"Percent of graduate enrollment that are Nonresident Alien\")\n",
        "plt.ylabel(\"Frequency\")\n",
        "plt.title(\"Histogram of graduate enrollment that are Nonresident Alien\")\n",
        "plt.show()\n",
        "\n",
        "plt.hist(graduate_enrollment['Women'])\n",
        "plt.xlabel(\"Percent of graduate enrollment that are women\")\n",
        "plt.ylabel(\"Frequency\")\n",
        "plt.title(\"Histogram of graduate enrollment that are women\")\n",
        "plt.show()"
      ]
    },
    {
      "cell_type": "markdown",
      "metadata": {
        "id": "tnKxSk6Hc1rw"
      },
      "source": [
        "**As we have seen earlier as well as through our histograms, outliers exist in this dataset especially in the right side of histogram of graduate enrollment that are Nonresident Alien. To normalize this, let's remove some rows with outliers in the column of `Nonresident_Alien`.**\n",
        "\n",
        "**The histogram of graduate enrollment that are women is almost `NORMAL` looking slightly `left-skewed` with some outliers in the left. For now, we will not remove the outliers in the column `Women` because we want to see the relation between the two columns.**"
      ]
    },
    {
      "cell_type": "code",
      "execution_count": null,
      "metadata": {
        "id": "DdZ5FvZYc1rw",
        "outputId": "9ec8bbf1-7dd0-45d5-8e40-aa0b961c548a"
      },
      "outputs": [
        {
          "data": {
            "image/png": "[encoded data removed]",
            "text/plain": [
              "<Figure size 432x288 with 1 Axes>"
            ]
          },
          "metadata": {
            "needs_background": "light"
          },
          "output_type": "display_data"
        },
        {
          "name": "stdout",
          "output_type": "stream",
          "text": [
            "Highest  39.0\n"
          ]
        }
      ],
      "source": [
        "nonresident_q_high = graduate_enrollment['Nonresident_Alien'].quantile(0.98)\n",
        "graduate_enrollment = graduate_enrollment[graduate_enrollment['Nonresident_Alien'] < nonresident_q_high]\n",
        "plt.hist(graduate_enrollment['Nonresident_Alien'])\n",
        "plt.xlabel(\"Percent of graduate enrollment that are Nonresident Alien\")\n",
        "plt.ylabel(\"Frequency\")\n",
        "plt.title(\"Histogram of graduate enrollment that are Nonresident Alien\")\n",
        "plt.show()\n",
        "\n",
        "print('Highest ', max(graduate_enrollment['Nonresident_Alien']))"
      ]
    },
    {
      "cell_type": "markdown",
      "metadata": {
        "id": "rMo4ZXGuc1rw"
      },
      "source": [
        "**This histogram of graduate enrollment that are Nonresident Alien is `NOT NORMAL`, i.e, it is `right-skewed` with outliers in the right.**"
      ]
    },
    {
      "cell_type": "code",
      "execution_count": null,
      "metadata": {
        "id": "hpPkqDN5c1rw",
        "outputId": "0b613788-2d3a-42e1-8c21-91feb75ca425"
      },
      "outputs": [
        {
          "data": {
            "image/png": "[encoded data removed]",
            "text/plain": [
              "<Figure size 432x288 with 1 Axes>"
            ]
          },
          "metadata": {
            "needs_background": "light"
          },
          "output_type": "display_data"
        }
      ],
      "source": [
        "plt.scatter(graduate_enrollment['Nonresident_Alien'],graduate_enrollment['Women'])\n",
        "plt.xlabel('Nonresident Alien Enrollment')\n",
        "plt.ylabel('Women Enrollment')\n",
        "plt.title('Nonresident Alien vs Women Enrollment')\n",
        "plt.show()"
      ]
    },
    {
      "cell_type": "markdown",
      "metadata": {
        "id": "rNvyL8fnc1rx"
      },
      "source": [
        "Looks like there is a **negative relation** between percentage of Nonresident Alien Enrollment and percentage of Women Enrollment, i.e. **higher** the percentage of Nonresident Alien Enrollment, **lower** the percentage of Women Enrollment."
      ]
    },
    {
      "cell_type": "markdown",
      "metadata": {
        "id": "No64OHJnc1rx"
      },
      "source": [
        "### Visualization of Scraped Data"
      ]
    },
    {
      "cell_type": "code",
      "execution_count": null,
      "metadata": {
        "id": "bCHdOgjXc1rx",
        "outputId": "e08533b5-523d-4ccd-d61e-4446f46e77ff"
      },
      "outputs": [
        {
          "name": "stderr",
          "output_type": "stream",
          "text": [
            "/opt/conda/lib/python3.8/site-packages/seaborn/distributions.py:2551: FutureWarning: `distplot` is a deprecated function and will be removed in a future version. Please adapt your code to use either `displot` (a figure-level function with similar flexibility) or `histplot` (an axes-level function for histograms).\n",
            "  warnings.warn(msg, FutureWarning)\n"
          ]
        },
        {
          "name": "stdout",
          "output_type": "stream",
          "text": [
            "Index(['Admit Year', 'Apps', 'Admits', 'Enroll', 'Admit Rate', 'Admit:Enroll'], dtype='object')\n"
          ]
        },
        {
          "data": {
            "image/png": "[encoded data removed]",
            "text/plain": [
              "<Figure size 1296x720 with 6 Axes>"
            ]
          },
          "metadata": {
            "needs_background": "light"
          },
          "output_type": "display_data"
        }
      ],
      "source": [
        "fig, axes = plt.subplots(2, 3, figsize=(18, 10))\n",
        "sns.distplot(private_uni_admits['Apps'],ax=axes[0, 0],kde=False).set_title('Applications')\n",
        "sns.distplot(private_uni_admits['Admits'],ax=axes[0, 1],kde=False).set_title('Admits')\n",
        "sns.distplot(private_uni_admits['Enroll'],ax=axes[0, 2],bins=5,kde=False).set_title('Enroll')\n",
        "sns.distplot(private_uni_admits['Admit Rate'],ax=axes[1, 0],bins=9,kde=False).set_title('Admit Rate')\n",
        "sns.distplot(private_uni_admits['Admit:Enroll'],ax=axes[1, 1],kde=False).set_title('Admit:Enroll')\n",
        "print(private_uni_admits.columns)"
      ]
    },
    {
      "cell_type": "markdown",
      "metadata": {
        "id": "zMs2OnOzc1rx"
      },
      "source": [
        "**We can see that non of the graphs are NORMAL. The Aplication number is right-skewed. The enrollment has a bell like structure but it does not appear to be totally NORMAL rather it is right skewed.**"
      ]
    },
    {
      "cell_type": "markdown",
      "metadata": {
        "id": "fD8M7wSBxi6p"
      },
      "source": [
        "# Data Sampling"
      ]
    },
    {
      "cell_type": "code",
      "execution_count": null,
      "metadata": {
        "id": "ca1mOxdjc1rx"
      },
      "outputs": [],
      "source": [
        "def systematic_sampling(df, step):\n",
        "    df = shuffle(df)\n",
        "    indexes = np.arange(0,len(df),step=step)\n",
        "    systematic_sample = df.iloc[indexes]\n",
        "    return systematic_sample"
      ]
    },
    {
      "cell_type": "markdown",
      "metadata": {
        "id": "LanT1Jbfc1rx"
      },
      "source": [
        "**Sampling Plan:** Systematic Random Sampling\n",
        "\n",
        "**Reason:** We can tune the step to get a normal distribution and it gives us a lot of control and flexibility of the data.\n",
        "\n",
        "We are sampling without replacement for all the datasets. \n",
        "We chose to sample without replacement to avoid any duplicate scenarios."
      ]
    },
    {
      "cell_type": "code",
      "execution_count": null,
      "metadata": {
        "id": "BFYE6vfRc1ry"
      },
      "outputs": [],
      "source": [
        "# Let's create a list of all the samples\n",
        "step = 3\n",
        "samples = []\n",
        "for _ in range(100):\n",
        "    samples.append(systematic_sampling(grad_admission, step))"
      ]
    },
    {
      "cell_type": "code",
      "execution_count": null,
      "metadata": {
        "id": "cpRuXHEZc1ry"
      },
      "outputs": [],
      "source": [
        "step = 3\n",
        "samples_nonresident_and_women = []\n",
        "for _ in range(100):\n",
        "    samples_nonresident_and_women.append(systematic_sampling(graduate_enrollment, step))"
      ]
    },
    {
      "cell_type": "code",
      "execution_count": null,
      "metadata": {
        "id": "bmNvq-8dc1ry"
      },
      "outputs": [],
      "source": [
        "step = 3\n",
        "samples_uni_admits = []\n",
        "for _ in range(100):\n",
        "    samples_uni_admits.append(systematic_sampling(private_uni_admits, step))"
      ]
    },
    {
      "cell_type": "markdown",
      "metadata": {
        "id": "eanUwPHZc1ry"
      },
      "source": [
        "# Find Probability\n",
        "Finding the probability of two events that must both happen in our data analysis<br>\n",
        "Finding the probablity of an event that doesn't happen using our datasets.<br>\n",
        "Finding the probability of event that is equally likely occur.\n"
      ]
    },
    {
      "cell_type": "code",
      "execution_count": null,
      "metadata": {
        "id": "tEWfugYTc1ry",
        "outputId": "72058a85-5b60-488c-88e5-446fc2b0cba2"
      },
      "outputs": [
        {
          "name": "stdout",
          "output_type": "stream",
          "text": [
            "Probability of two events both happening:\n",
            "Student with HIGH GPA and BOTH high GRE and TOEFL scores probability 0.98\n",
            "\n",
            "Probability of a event NOT happening:\n",
            "Student with LOW GPA having HIGH Chance_of_acceptance probability 1.0\n",
            "\n",
            "Probability of two equally likely events happening:\n",
            "Student with HIGH GPA with or without research have EQUAL chance of getting into college probaility: 1.0\n",
            "The above has to be a high number(>=0.8) for both the events to occur.\n"
          ]
        }
      ],
      "source": [
        "prob_1 = []\n",
        "prob_2 = []\n",
        "prob_3 = []\n",
        "\n",
        "acceptance_avgs = []\n",
        "\n",
        "for sample in samples:\n",
        "    TOFEL_avg = (sample.query('(GPA >= 3.0)').TOEFL_Score.mean())\n",
        "    GRE_avg = (sample.query('(GPA >= 3.0)').GRE_Score.mean())\n",
        "    \n",
        "    if TOFEL_avg >= 100 and GRE_avg >= 316 :\n",
        "        prob_1.append(1)\n",
        "    else:\n",
        "        prob_1.append(0)\n",
        "    \n",
        "    acceptance_avgs = (sample.query('(GPA <= 6.0)').Chance_of_Admit.mean())\n",
        "    if acceptance_avgs >= 0.5:\n",
        "        prob_2.append(1)\n",
        "    else:\n",
        "        prob_2.append(0)\n",
        "    \n",
        "    students_with_research = (sample.query('(Research == 1 and GPA >= 3)').Chance_of_Admit.mean())\n",
        "    students_without_research = (sample.query('(Research == 0 and GPA >= 3)').Chance_of_Admit.mean())\n",
        "    \n",
        "    if (students_with_research - students_without_research) <= 0.2:\n",
        "        prob_3.append(1)\n",
        "    else:\n",
        "        prob_3.append(0)\n",
        "            \n",
        "\n",
        "p1 = sum(prob_1) / len(samples)\n",
        "p2 = sum(prob_2) / len(samples)\n",
        "p3 = sum(prob_3) / len(samples)\n",
        "print(\"Probability of two events both happening:\")\n",
        "print(\"Student with HIGH GPA and BOTH high GRE and TOEFL scores probability\", p1)\n",
        "print()\n",
        "print(\"Probability of a event NOT happening:\")\n",
        "print(\"Student with LOW GPA having HIGH Chance_of_acceptance probability\", p2)\n",
        "print()\n",
        "print(\"Probability of two equally likely events happening:\")\n",
        "print(\"Student with HIGH GPA with or without research have EQUAL chance of getting into college probaility:\", p3)\n",
        "print(\"The above has to be a high number(>=0.8) for both the events to occur.\")"
      ]
    },
    {
      "cell_type": "code",
      "execution_count": null,
      "metadata": {
        "id": "-bYLJX0Mc1rz",
        "outputId": "e1f1170a-6371-49e5-c7ff-ac20bed33bc6"
      },
      "outputs": [
        {
          "name": "stdout",
          "output_type": "stream",
          "text": [
            "Probability of two events both happening:\n",
            "University with HIGH Nonresident Alien Enrollment (>=15%) and LOW Women Enrollment (<55%): Nonresident_Alien    0.095253\n",
            "Women                0.095253\n",
            "dtype: float64\n",
            "\n",
            "Probability of a event NOT happening:\n",
            "University with HIGH Women Enrollment (>=80%) having HIGH Nonresident Alien Enrollment(>=15%): Nonresident_Alien    0.002627\n",
            "Women                0.002627\n",
            "dtype: float64\n",
            "\n",
            "Probability of two equally likely events happening:\n",
            "University with HIGH Women Enrollment (>=80%) having LOW Nonresident Alien Enrollment(<15%) or University with LOW Women Enrollment (<35%) having HIGH Nonresident Alien Enrollment(>=15%): Nonresident_Alien    0.100193\n",
            "Women                0.100193\n",
            "dtype: float64\n"
          ]
        }
      ],
      "source": [
        "prob_1 = []\n",
        "prob_2 = []\n",
        "prob_3 = []\n",
        "\n",
        "for sample in samples_nonresident_and_women:\n",
        "    high_nonresident_low_Women = sample[(sample['Nonresident_Alien'] >= 15) & (sample['Women'] < 55)].count()/len(sample)\n",
        "    prob_1.append(high_nonresident_low_Women)\n",
        "    \n",
        "    high_nonresident_high_Women = sample[(sample['Nonresident_Alien'] >= 15) & (sample['Women'] >= 80)].count()/len(sample)\n",
        "    prob_2.append(high_nonresident_high_Women)\n",
        "    \n",
        "    low_nonresident_high_Women = sample[((sample['Nonresident_Alien'] >= 15) & (sample['Women'] < 35)) | ((sample['Nonresident_Alien'] < 15) & (sample['Women'] >= 80))].count()/len(sample)\n",
        "    prob_3.append(low_nonresident_high_Women)\n",
        "            \n",
        "\n",
        "p1 = sum(prob_1) / len(samples)\n",
        "p2 = sum(prob_2) / len(samples)\n",
        "p3 = sum(prob_3) / len(samples)\n",
        "print(\"Probability of two events both happening:\")\n",
        "print(\"University with HIGH Nonresident Alien Enrollment (>=15%) and LOW Women Enrollment (<55%):\", p1)\n",
        "print()\n",
        "print(\"Probability of a event NOT happening:\")\n",
        "print(\"University with HIGH Women Enrollment (>=80%) having HIGH Nonresident Alien Enrollment(>=15%):\", p2)\n",
        "print()\n",
        "print(\"Probability of two equally likely events happening:\")\n",
        "print(\"University with HIGH Women Enrollment (>=80%) having LOW Nonresident Alien Enrollment(<15%) or University with LOW Women Enrollment (<35%) having HIGH Nonresident Alien Enrollment(>=15%):\", p3)"
      ]
    },
    {
      "cell_type": "code",
      "execution_count": null,
      "metadata": {
        "id": "JbKwQMyPc1rz",
        "outputId": "c2855136-70a0-4048-f2df-cf0b7d055574"
      },
      "outputs": [
        {
          "name": "stdout",
          "output_type": "stream",
          "text": [
            "Probability of two events both happening:\n",
            "Admision and enrollment are both high 0.96\n",
            "\n",
            "Probability of a event NOT happening:\n",
            "Enrollment is higher than the number of admitted students 1.0\n",
            "\n",
            "Probability of two equally likely events happening:\n",
            "Years having huge number of applications having low admission rates (below 20%)\n",
            "and years having low number of applications having higher admission rates.  0.4\n"
          ]
        }
      ],
      "source": [
        "prob_1 = []\n",
        "prob_2 = []\n",
        "prob_3 = []\n",
        "\n",
        "for sample in samples_uni_admits:\n",
        "    admits_avg = sample.Admits.mean()\n",
        "    enroll_avg = sample.Enroll.mean()\n",
        "    \n",
        "    if admits_avg >= 210000 and enroll_avg >= 85000:\n",
        "        prob_1.append(1)\n",
        "    else:\n",
        "        prob_1.append(0)\n",
        "    \n",
        "    enroll_count = sample.Enroll.sum()\n",
        "    admit_count = sample.Admits.sum()\n",
        "    \n",
        "    if enroll_count < admit_count:\n",
        "        prob_2.append(1)\n",
        "    else:\n",
        "        prob_2.append(0)\n",
        "        \n",
        "    num_apps = sample.Apps.mean()\n",
        "    admit_rate = sample[\"Admit Rate\"].mean()\n",
        "    \n",
        "    if num_apps >= 1000000 and admit_rate < 0.2 or num_apps <= 1000000 and admit_rate > 0.2:\n",
        "        prob_3.append(1)\n",
        "    else:\n",
        "        prob_3.append(0)\n",
        "        \n",
        "            \n",
        "p1 = sum(prob_1) / len(samples)\n",
        "p2 = sum(prob_2) / len(samples)\n",
        "p3 = sum(prob_3) / len(samples)\n",
        "print(\"Probability of two events both happening:\")\n",
        "print(\"Admision and enrollment are both high\", p1)\n",
        "print()\n",
        "print(\"Probability of a event NOT happening:\")\n",
        "print(\"Enrollment is higher than the number of admitted students\", p2)\n",
        "print()\n",
        "print(\"Probability of two equally likely events happening:\")\n",
        "print(\"Years having huge number of applications having low admission rates (below 20%)\") \n",
        "print(\"and years having low number of applications having higher admission rates. \", p3)"
      ]
    },
    {
      "cell_type": "markdown",
      "metadata": {
        "id": "i9akZ9x5c1rz"
      },
      "source": [
        "# Testing Hypothesis"
      ]
    },
    {
      "cell_type": "markdown",
      "metadata": {
        "id": "aGJQ0cuFc1rz"
      },
      "source": [
        "# Hypothesis\n",
        "\n",
        "**Proposed Hypothesis 1: Does Higher GRE Score increases your chances of getting into Grad School?**\n",
        "\n",
        "**Null Hypothesis:** Higher GRE Score does NOT increase your chances of getting into Grad School.\n",
        "<br>\n",
        "**Alternative Hypothesis:** Higher GRE Score increases your chances of getting into Grad School."
      ]
    },
    {
      "cell_type": "markdown",
      "metadata": {
        "id": "YHi5edNcc1rz"
      },
      "source": [
        "## Test Statistics \n",
        "**The test statistics will be the difference of mean acceptance rate of the dataset and the high GRE score applicants.**<br><br>\n",
        "`test_statistic = mean_acceptance_rate_high_gre_scores - mean_acceptance_rate`"
      ]
    },
    {
      "cell_type": "markdown",
      "metadata": {
        "id": "Vb327EcKc1rz"
      },
      "source": [
        "## Observed Values"
      ]
    },
    {
      "cell_type": "code",
      "execution_count": null,
      "metadata": {
        "id": "bgdwDIqPc1rz",
        "outputId": "5df169a8-1104-4d40-ea74-da451543ffd2"
      },
      "outputs": [
        {
          "name": "stdout",
          "output_type": "stream",
          "text": [
            "0.82\n"
          ]
        }
      ],
      "source": [
        "prob = []\n",
        "for sample in samples:\n",
        "    acceptance_mean_high_scorers = (sample.query('(GRE_Score >= 302)').Chance_of_Admit.mean())\n",
        "    acceptance_mean = sample.Chance_of_Admit.mean()\n",
        "    diff = acceptance_mean_high_scorers - acceptance_mean\n",
        "    if diff >= 0.02:\n",
        "        prob.append(1)\n",
        "    else:\n",
        "        prob.append(0)\n",
        "print(sum(prob)/len(prob))"
      ]
    },
    {
      "cell_type": "code",
      "execution_count": null,
      "metadata": {
        "id": "AN-E_ENpc1r0",
        "outputId": "9f3ae94e-de28-4802-ca9a-83eebd12b25c"
      },
      "outputs": [
        {
          "data": {
            "image/png": "[encoded data removed]",
            "text/plain": [
              "<Figure size 432x288 with 1 Axes>"
            ]
          },
          "metadata": {
            "needs_background": "light"
          },
          "output_type": "display_data"
        }
      ],
      "source": [
        "# Running the sampling simulation 50 times.\n",
        "final_probabilities = []\n",
        "for _ in range(50):\n",
        "    step = 3\n",
        "    samples = []\n",
        "    for _ in range(10):\n",
        "        samples.append(systematic_sampling(grad_admission, step))\n",
        "    prob = []\n",
        "    for sample in samples:\n",
        "        acceptance_mean_high_scorers = (sample.query('(GRE_Score >= 302)').Chance_of_Admit.mean())\n",
        "        acceptance_mean = sample.Chance_of_Admit.mean()\n",
        "        diff = acceptance_mean_high_scorers - acceptance_mean\n",
        "        if diff >= 0.02:\n",
        "            prob.append(1)\n",
        "        else:\n",
        "            prob.append(0)\n",
        "    final_probabilities.append(sum(prob)/len(prob))\n",
        "\n",
        "plt.hist(final_probabilities,bins=5, ec='black')\n",
        "plt.xlabel(\"Percentage\")\n",
        "plt.ylabel(\"Frequency\")\n",
        "plt.title(\"Observed value distribution\")\n",
        "plt.show()"
      ]
    },
    {
      "cell_type": "markdown",
      "metadata": {
        "id": "4zPI_251c1r0"
      },
      "source": [
        "## Calculating p-value"
      ]
    },
    {
      "cell_type": "code",
      "execution_count": null,
      "metadata": {
        "id": "tGgXKRM9c1r0",
        "outputId": "8b64fb7f-0d6f-435d-a5e0-fa0c07614755"
      },
      "outputs": [
        {
          "data": {
            "text/plain": [
              "Power_divergenceResult(statistic=57133168.57405691, pvalue=0.0)"
            ]
          },
          "execution_count": 129,
          "metadata": {},
          "output_type": "execute_result"
        }
      ],
      "source": [
        "# Let's use chisquare to calculate the p-value\n",
        "chisquare(grad_admission.GRE_Score,grad_admission.Chance_of_Admit)"
      ]
    },
    {
      "cell_type": "markdown",
      "metadata": {
        "id": "oqHAtnwkc1r0"
      },
      "source": [
        "**We can see that the p-value is less that 0.05 so, rejecting Null Hypothesis and accepting Alternate Hypothesis. It means chance of admission is depending on GRE Score.**"
      ]
    },
    {
      "cell_type": "markdown",
      "metadata": {
        "id": "CSjDFU6_c1r0"
      },
      "source": [
        "## Using linear regression and Correlation to support Hypothesis"
      ]
    },
    {
      "cell_type": "code",
      "execution_count": null,
      "metadata": {
        "id": "lzI20iTec1r0",
        "outputId": "d9d3c2a4-65c6-45eb-f3eb-4490889094b3"
      },
      "outputs": [
        {
          "data": {
            "image/png": "[encoded data removed]",
            "text/plain": [
              "<Figure size 432x288 with 1 Axes>"
            ]
          },
          "metadata": {
            "needs_background": "light"
          },
          "output_type": "display_data"
        }
      ],
      "source": [
        "fig = sns.regplot(x=\"GRE_Score\", y=\"Chance_of_Admit\", data=grad_admission)\n",
        "plt.title(\"GRE Score vs Chance of Admit\")\n",
        "plt.show()"
      ]
    },
    {
      "cell_type": "code",
      "execution_count": null,
      "metadata": {
        "id": "2U2GvHHyc1r1",
        "outputId": "0709a534-32ec-46f3-9366-80a76c7d5bc5"
      },
      "outputs": [
        {
          "name": "stdout",
          "output_type": "stream",
          "text": [
            "The correlation factor for GRE score to Chance of admit is: 0.8026104595903505\n"
          ]
        }
      ],
      "source": [
        "def standard_units(arr):\n",
        "    return (arr - np.mean(arr))/np.std(arr)\n",
        "def correlation(arr1, arr2):\n",
        "    return np.mean(standard_units(arr1)*standard_units(arr2))\n",
        "gre_vs_chance_of_admit = correlation(grad_admission[\"GRE_Score\"], grad_admission[\"Chance_of_Admit\"])\n",
        "print(\"The correlation factor for GRE score to Chance of admit is:\", gre_vs_chance_of_admit)"
      ]
    },
    {
      "cell_type": "markdown",
      "metadata": {
        "id": "GxtCoQa5c1r1"
      },
      "source": [
        "**We can see that we have a very high correlation of about 80%. So, we can say that GRE scores and Chance of admission is dirrectly proportional.**\n",
        "\n",
        "**We would like to use linear regression to model it.**"
      ]
    },
    {
      "cell_type": "code",
      "execution_count": null,
      "metadata": {
        "id": "FjO2IZYAc1r1",
        "outputId": "16398b87-d247-4d85-e556-72eb48959a15"
      },
      "outputs": [
        {
          "data": {
            "text/plain": [
              "[0.009975882025681386, -2.436084244851056]"
            ]
          },
          "execution_count": 132,
          "metadata": {},
          "output_type": "execute_result"
        }
      ],
      "source": [
        "def regression_parameters(x, y):\n",
        "    y_mean = np.mean(y)\n",
        "    slope = correlation(x, y)*np.std(y)/np.std(x) \n",
        "    intercept = y_mean-(slope*np.mean(x))\n",
        "    return [slope, intercept]\n",
        "\n",
        "parameters = regression_parameters(grad_admission[\"GRE_Score\"], grad_admission[\"Chance_of_Admit\"])\n",
        "parameters"
      ]
    },
    {
      "cell_type": "code",
      "execution_count": null,
      "metadata": {
        "id": "PZG6bNZ8c1r1",
        "outputId": "e2765432-2d22-46cf-dbdb-6d29f65c4487"
      },
      "outputs": [
        {
          "data": {
            "image/png": "[encoded data removed]",
            "text/plain": [
              "<Figure size 360x360 with 1 Axes>"
            ]
          },
          "metadata": {
            "needs_background": "light"
          },
          "output_type": "display_data"
        }
      ],
      "source": [
        "predicted_acceptance = parameters[0]*grad_admission[\"GRE_Score\"] + parameters[1]\n",
        "\n",
        "pten = Table.from_df(grad_admission, keep_index= False)\n",
        "(pten.with_column(\"Predicted_Acceptance_Rate\", predicted_acceptance)\n",
        ".select(\"GRE_Score\", \"Chance_of_Admit\", \"Predicted_Acceptance_Rate\")\n",
        " .scatter(\"GRE_Score\"))\n",
        "plt.ylabel(\"Chance_of_Admit\");"
      ]
    },
    {
      "cell_type": "markdown",
      "metadata": {
        "id": "gsGcHuGRc1r1"
      },
      "source": [
        "**Now lets try to calculate the RMSE - root mean squared error for this regression model.**"
      ]
    },
    {
      "cell_type": "code",
      "execution_count": null,
      "metadata": {
        "id": "LTjVbK5Yc1r1"
      },
      "outputs": [],
      "source": [
        "def RMSE(slope, intercept):\n",
        "    gre = grad_admission[\"GRE_Score\"]\n",
        "    acceptance = grad_admission[\"Chance_of_Admit\"]\n",
        "    predicted_acceptance = slope*gre + intercept\n",
        "    return (np.mean((acceptance - predicted_acceptance)**2))**0.5"
      ]
    },
    {
      "cell_type": "code",
      "execution_count": null,
      "metadata": {
        "id": "9wzKmd0Hc1r2",
        "outputId": "b1b814f7-e4ff-4ca1-aef8-9fd4ca6b4760"
      },
      "outputs": [
        {
          "name": "stdout",
          "output_type": "stream",
          "text": [
            "RMSE of Predicted Chance of admission given a GRE score:  0.08496056727604849\n"
          ]
        }
      ],
      "source": [
        "print('RMSE of Predicted Chance of admission given a GRE score: ', RMSE(parameters[0],parameters[1]))"
      ]
    },
    {
      "cell_type": "markdown",
      "metadata": {
        "id": "Wrw3DAFVc1r2"
      },
      "source": [
        "**Using a linear regression model, we can obtain a very good approximation of our chances of getting admitted to a college given out GRE score. This is because our RMSE is very low.**"
      ]
    },
    {
      "cell_type": "code",
      "execution_count": null,
      "metadata": {
        "id": "FEwDnYYXc1r2",
        "outputId": "262adf7a-b87d-4b92-a4c6-0132bb4c4f40"
      },
      "outputs": [
        {
          "data": {
            "text/plain": [
              "<AxesSubplot:>"
            ]
          },
          "execution_count": 136,
          "metadata": {},
          "output_type": "execute_result"
        },
        {
          "data": {
            "image/png": "[encoded data removed]",
            "text/plain": [
              "<Figure size 720x720 with 2 Axes>"
            ]
          },
          "metadata": {
            "needs_background": "light"
          },
          "output_type": "display_data"
        }
      ],
      "source": [
        "fig, ax = plt.subplots(figsize=(10,10))\n",
        "sns.heatmap(grad_admission.corr(), annot=True, cmap='Blues')"
      ]
    },
    {
      "cell_type": "code",
      "execution_count": null,
      "metadata": {
        "id": "YUV7HdYGc1r2"
      },
      "outputs": [],
      "source": [
        "def correlation(arr1, arr2):\n",
        "    numerator = 0\n",
        "    denominator_sum_1 = 0\n",
        "    denominator_sum_2 = 0\n",
        "    \n",
        "    mean_x = sum(arr1) / len(arr1)\n",
        "    mean_y = sum(arr2) / len(arr2)\n",
        "    \n",
        "    for i in range(len(arr1)):\n",
        "        x_i = arr1[i]\n",
        "        y_i = arr2[i]\n",
        "        numerator += (x_i - mean_x) * (y_i - mean_y)\n",
        "        denominator_sum_1 += ((x_i - mean_x)**2)\n",
        "        denominator_sum_2 += ((y_i - mean_y)**2)\n",
        "        \n",
        "    denominator = ((denominator_sum_1 * denominator_sum_2) ** (1/2))\n",
        "    return (numerator / denominator)"
      ]
    },
    {
      "cell_type": "code",
      "execution_count": null,
      "metadata": {
        "id": "zBRiKDH5c1r2",
        "outputId": "40e2e159-5dd8-4169-f4bb-069a27a5859f"
      },
      "outputs": [
        {
          "name": "stdout",
          "output_type": "stream",
          "text": [
            "The correlation factor for GRE_Score to Chance_of_Admit is: 0.8026104595903509\n"
          ]
        }
      ],
      "source": [
        "GRE_vs_Chance_of_Admit = correlation(grad_admission[\"GRE_Score\"], grad_admission[\"Chance_of_Admit\"])\n",
        "print(\"The correlation factor for GRE_Score to Chance_of_Admit is:\", GRE_vs_Chance_of_Admit)"
      ]
    },
    {
      "cell_type": "markdown",
      "metadata": {
        "id": "-30vQ5dvc1r2"
      },
      "source": [
        "## Hypothesis Tests Conclusions\n",
        "Based on what you found about your topic communicate it to the audience. "
      ]
    },
    {
      "cell_type": "markdown",
      "metadata": {
        "id": "1Bi_j_x2c1r2"
      },
      "source": [
        "\n",
        "1. Maximum GRE score is 340 and Minimum GRE Score is 290. Average GRE score is 316.80 with a deviation of 11.47 from mean.Using BoxPlot for this Descriprive Analysis such as Minimum, Maximum and Quartiles.<br>\n",
        "2. Chi Square test:P value is less than 0.05, So rejecting Null Hypothesis and accepting Alternate Hypothesis. It means chance of admission is depending on GRE Score.<br>\n",
        "3. With the help of Histogram it is clear that Most of the Students are having GRE Score between 320 and 325.<br>\n",
        "4. There is a Strong Positive Corelation of 80 % of GRE score with Chance of Admission. This means Chance of admission is increasing with increase in GRE Score. From scatter plot, it is clearly visible that on increasing GRE Score, Chance of Admission is also Increasing.\n",
        "\n",
        "**So, looking at all this insights and testing out hypothesis using sampling, p-value, linear regression and correlation we reject the NULL hypothesis and accept the ALTERNATIVE hypothesis: Higher GRE Score increases your chances of getting into Grad School.**"
      ]
    },
    {
      "cell_type": "markdown",
      "metadata": {
        "id": "OFWSiLaOc1r2"
      },
      "source": [
        "# Hypothesis 2"
      ]
    },
    {
      "cell_type": "markdown",
      "metadata": {
        "id": "9qxYS6ySc1r3"
      },
      "source": [
        "**Hypothesis 2: Does Higher Enrollment of Non-resident Alien Decreases the Number of Women enrollment?**\n",
        "\n",
        "\n",
        "**Null Hypothesis:** Higher enrollment of Non-resident Alien does NOT decrease the percentage of Women enrollment.\n",
        "\n",
        "**Alternative Hypothesis:** Higher enrollment of Non-resident Alien decreases the percentage of Women enrollment."
      ]
    },
    {
      "cell_type": "markdown",
      "metadata": {
        "id": "avNC04QOc1r3"
      },
      "source": [
        "## Test Statistics\n",
        "\n",
        "The test statistics will be the difference of mean women enrollment for universities with high enrollment of non-resident aliens and mean women enrollment for universities with low enrollment of non-resident aliens.\n",
        "\n",
        "`test_statistic = mean_women_enrollment_for_lower_enrollment_of_nonresident -  mean_women_enrollment_for_higher_enrollment_of_nonresident`\n",
        "\n",
        "## Observed Values\n"
      ]
    },
    {
      "cell_type": "code",
      "execution_count": null,
      "metadata": {
        "id": "auW34ctnc1r3",
        "outputId": "9cc159b0-34e9-490f-b2e4-c74add494960"
      },
      "outputs": [
        {
          "name": "stdout",
          "output_type": "stream",
          "text": [
            "Index(['Nonresident_Alien', 'Women'], dtype='object')\n",
            "6.525341914722445\n"
          ]
        }
      ],
      "source": [
        "print(graduate_enrollment.columns)\n",
        "print(graduate_enrollment['Nonresident_Alien'].mean())"
      ]
    },
    {
      "cell_type": "markdown",
      "metadata": {
        "id": "7ncFp379c1r3"
      },
      "source": [
        "Let's see the difference between `mean_women_enrollment_for_lower_enrollment_of_nonresident` and `mean_women_enrollment_for_higher_enrollment_of_nonresident`. Since the mean of percentage of Nonresident Alien enrollment is `6.53` approximately, we will use it to **divide the samples** into higher and lower enrollments of nonresidents. \n"
      ]
    },
    {
      "cell_type": "code",
      "execution_count": null,
      "metadata": {
        "id": "TYmlZIk4c1r3",
        "outputId": "430a2c99-8c49-412e-e5c2-13ee5371038b"
      },
      "outputs": [
        {
          "data": {
            "text/plain": [
              "10.881359460109174"
            ]
          },
          "execution_count": 140,
          "metadata": {},
          "output_type": "execute_result"
        }
      ],
      "source": [
        "mean_women_enrollment_for_higher_enrollment_of_nonresident = (graduate_enrollment.query('(Nonresident_Alien >= 6.53)').Women.mean())\n",
        "mean_women_enrollment_for_lower_enrollment_of_nonresident = (graduate_enrollment.query('(Nonresident_Alien < 6.53)').Women.mean())\n",
        "test_statistic = mean_women_enrollment_for_lower_enrollment_of_nonresident - mean_women_enrollment_for_higher_enrollment_of_nonresident\n",
        "test_statistic"
      ]
    },
    {
      "cell_type": "markdown",
      "metadata": {
        "id": "UlX1Qsf3c1r3"
      },
      "source": [
        "`test_statitic` value from original dataset is **10.88**. To prove our hypothesis, though it is enough to show that the test statistic produces a **positive value (>0)** for most samples, we will use `9.75` for greater effectiveness and find the probability of getting 9.75 as test statistic in our simulations."
      ]
    },
    {
      "cell_type": "code",
      "execution_count": null,
      "metadata": {
        "id": "8U7Np4VJc1r3",
        "outputId": "ba384d83-767e-43ea-ed22-d7cf492fefa8"
      },
      "outputs": [
        {
          "name": "stdout",
          "output_type": "stream",
          "text": [
            "0.88\n"
          ]
        }
      ],
      "source": [
        "def simulation_nonresident_and_women(samples_nonresident_and_women):\n",
        "    prob = []\n",
        "    for sample in samples_nonresident_and_women:\n",
        "        mean_women_enrollment_for_higher_enrollment_of_nonresident = (sample.query('(Nonresident_Alien >= 6.53)').Women.mean())\n",
        "        mean_women_enrollment_for_lower_enrollment_of_nonresident = (sample.query('(Nonresident_Alien < 6.53)').Women.mean())\n",
        "        diff = mean_women_enrollment_for_lower_enrollment_of_nonresident - mean_women_enrollment_for_higher_enrollment_of_nonresident\n",
        "        if diff >= 9.75:\n",
        "            prob.append(1)\n",
        "        else:\n",
        "            prob.append(0)\n",
        "    return sum(prob)/len(prob)\n",
        "print(simulation_nonresident_and_women(samples_nonresident_and_women))"
      ]
    },
    {
      "cell_type": "code",
      "execution_count": null,
      "metadata": {
        "id": "tNvFX9gQc1r3",
        "outputId": "bb9de032-fb75-4dd2-f7be-4c6dd356368b"
      },
      "outputs": [
        {
          "data": {
            "image/png": "[encoded data removed]",
            "text/plain": [
              "<Figure size 432x288 with 1 Axes>"
            ]
          },
          "metadata": {
            "needs_background": "light"
          },
          "output_type": "display_data"
        }
      ],
      "source": [
        "# Running the sampling simulation 50 times.\n",
        "final_probabilities = []\n",
        "for _ in range(500):\n",
        "    step = 3\n",
        "    samples_women = []\n",
        "    for _ in range(10):\n",
        "        samples_women.append(systematic_sampling(graduate_enrollment, step))\n",
        "    final_probabilities.append(simulation_nonresident_and_women(samples_women))\n",
        "\n",
        "plt.hist(final_probabilities,bins=5, ec='black')\n",
        "plt.xlabel(\"Difference between mean women enrollment for higher and lowers enrollments of nonresident\")\n",
        "plt.ylabel(\"Frequency\")\n",
        "plt.title(\"Histogram of distributions of simulation\")\n",
        "plt.show()"
      ]
    },
    {
      "cell_type": "markdown",
      "metadata": {
        "id": "UC_jAkZYc1r4"
      },
      "source": [
        "## Calculating p-value"
      ]
    },
    {
      "cell_type": "code",
      "execution_count": null,
      "metadata": {
        "id": "T5yKAkNXc1r7",
        "outputId": "c5ae66d7-709a-4d31-e82f-4951cfdca357"
      },
      "outputs": [
        {
          "data": {
            "text/plain": [
              "Power_divergenceResult(statistic=65666.22701445356, pvalue=0.0)"
            ]
          },
          "execution_count": 143,
          "metadata": {},
          "output_type": "execute_result"
        }
      ],
      "source": [
        "chisquare(graduate_enrollment.Nonresident_Alien,graduate_enrollment.Women)"
      ]
    },
    {
      "cell_type": "markdown",
      "metadata": {
        "id": "h8ZFRKFXc1r8"
      },
      "source": [
        "We can see that the p-value is less that 5%. So, rejecting Null Hypothesis and accepting Alternate Hypothesis. It says higher enrollment of Non-resident Alien decreases the percentage of Women enrollment."
      ]
    },
    {
      "cell_type": "markdown",
      "metadata": {
        "id": "K_shIetfc1r8"
      },
      "source": [
        "## Using Correlation and Linear regression to support Hypothesis"
      ]
    },
    {
      "cell_type": "code",
      "execution_count": null,
      "metadata": {
        "id": "3pCeQn0Fc1r8",
        "outputId": "efda9404-288e-4a84-83e5-57d34b06b8b9"
      },
      "outputs": [
        {
          "name": "stdout",
          "output_type": "stream",
          "text": [
            "The correlation factor for Nonresident_Alien to Women is: -0.4180892509486783\n"
          ]
        }
      ],
      "source": [
        "def standard_units(arr):\n",
        "    return (arr - np.mean(arr))/np.std(arr)\n",
        "def correlation(arr1, arr2):\n",
        "    return np.mean(standard_units(arr1)*standard_units(arr2))\n",
        "Nonresident_Alien_vs_Women = correlation(graduate_enrollment[\"Nonresident_Alien\"], graduate_enrollment[\"Women\"])\n",
        "print(\"The correlation factor for Nonresident_Alien to Women is:\", Nonresident_Alien_vs_Women)"
      ]
    },
    {
      "cell_type": "markdown",
      "metadata": {
        "id": "to8nklTsc1r8"
      },
      "source": [
        "Negative correlation factor simply shows the opposite trend of these two columns (i.e. higher the percentage of Nonresident_Alien enrollment, lower the percentage of Women enrollment). However, it isn't a very strong correlation since the absolute value is less than 0.5."
      ]
    },
    {
      "cell_type": "markdown",
      "metadata": {
        "id": "qEJVGQ_7c1r8"
      },
      "source": [
        "Let's apply linear regression. We will find **regression parameters** first."
      ]
    },
    {
      "cell_type": "code",
      "execution_count": null,
      "metadata": {
        "id": "y7RmKSF5c1r8",
        "outputId": "5dacc6f3-df7a-4e0e-e314-7eee5ab564bf"
      },
      "outputs": [
        {
          "data": {
            "text/plain": [
              "[-0.6841768295563544, 68.13705411466741]"
            ]
          },
          "execution_count": 145,
          "metadata": {},
          "output_type": "execute_result"
        }
      ],
      "source": [
        "def regression_parameters(x, y):\n",
        "    y_mean = np.mean(y)\n",
        "    slope = correlation(x, y)*np.std(y)/np.std(x) \n",
        "    intercept = y_mean-(slope*np.mean(x))\n",
        "    return [slope, intercept]\n",
        "\n",
        "parameters = regression_parameters(graduate_enrollment[\"Nonresident_Alien\"], graduate_enrollment[\"Women\"])\n",
        "parameters"
      ]
    },
    {
      "cell_type": "code",
      "execution_count": null,
      "metadata": {
        "id": "3SbVihM1c1r8",
        "outputId": "d4655d9a-1098-4187-f5ba-0ad4ada42660"
      },
      "outputs": [
        {
          "data": {
            "image/png": "[encoded data removed]",
            "text/plain": [
              "<Figure size 360x360 with 1 Axes>"
            ]
          },
          "metadata": {
            "needs_background": "light"
          },
          "output_type": "display_data"
        }
      ],
      "source": [
        "predicted_women_enrollment = parameters[0]*graduate_enrollment[\"Nonresident_Alien\"] + parameters[1]\n",
        "\n",
        "pten2 = Table.from_df(graduate_enrollment, keep_index= False)\n",
        "(pten2.with_column(\"Predicted_Women_Enrollment\", predicted_women_enrollment)\n",
        ".select(\"Nonresident_Alien\", \"Women\", \"Predicted_Women_Enrollment\")\n",
        " .scatter(\"Nonresident_Alien\"))\n",
        "plt.ylabel(\"Women\");"
      ]
    },
    {
      "cell_type": "markdown",
      "metadata": {
        "id": "YZvnR4SBc1r8"
      },
      "source": [
        "Let's look at the root mean square error for our linear regression model."
      ]
    },
    {
      "cell_type": "code",
      "execution_count": null,
      "metadata": {
        "id": "26yQNrFQc1r9"
      },
      "outputs": [],
      "source": [
        "def RMSE(slope, intercept):\n",
        "    nonresident_alien = graduate_enrollment[\"Nonresident_Alien\"]\n",
        "    women = graduate_enrollment[\"Women\"]\n",
        "    predicted_women = slope*nonresident_alien + intercept\n",
        "    return (np.mean((women - predicted_women)**2))**0.5\n"
      ]
    },
    {
      "cell_type": "code",
      "execution_count": null,
      "metadata": {
        "id": "uzpqM3Kxc1r9",
        "outputId": "dfe1670f-d69a-4d78-f440-81a75709ecb7"
      },
      "outputs": [
        {
          "name": "stdout",
          "output_type": "stream",
          "text": [
            "RMSE of Predicted Enrollment of Women:  12.34035379042034\n"
          ]
        }
      ],
      "source": [
        "print('RMSE of Predicted Enrollment of Women: ', RMSE(parameters[0],parameters[1]))"
      ]
    },
    {
      "cell_type": "markdown",
      "metadata": {
        "id": "pVSoIS4Wc1r9"
      },
      "source": [
        "Using a linear regression model, we would not be able to obtain a very accurate prediction for most of the points which is why we obtained high RMSE for this model. This is because our scatter plot of Nonresident_Alien enrollment vs Women enrollment is more scattered rather than forming a line which produce high RMSE in a linear regression model."
      ]
    },
    {
      "cell_type": "markdown",
      "metadata": {
        "id": "ENQkikngc1r9"
      },
      "source": [
        "## Hypothesis Tests Conclusions\n",
        "\n",
        "1. Difference between mean of Women Enrollment in Universities having LOW Nonresident Alien Enrollment and HIGH Nonresident Alien Enrollment is a positive value. The probability of the difference being greater than 9.75 is about **0.87**.\n",
        "2. Chi Square test:P value is less than 0.05, So rejecting Null Hypothesis and accepting Alternate Hypothesis. It means higher enrollment of Non-resident Alien decreases the percentage of Women enrollment.\n",
        "3. There is a **Negative Correlation of 42%** of High Nonresident Alien Enrollment with Low Women Enrollment. From scatter plot, we can see that on increasing Nonresident Alien Enrollment, Women Enrollment is decreasing. This means high percentage of enrollment of Non-resident Alien decreases the percentage of Women enrollment. \n",
        "4. Linear regression model with **RMSE 12.34** loosely supports this hypothesis conclusion.\n",
        "\n",
        "So, looking at all this insights and testing out hypothesis using sampling, p-value, correlation, and linear regression, we reject the NULL hypothesis and accept the ALTERNATIVE hypothesis: **High percentage of Non-resident Alien enrollment decreases the percentage of Women enrollment.**"
      ]
    },
    {
      "cell_type": "markdown",
      "metadata": {
        "id": "pY-vZaUmc1r9"
      },
      "source": [
        "# Hypothesis 3\n",
        "**Hypothesis 3: Does the admission rate decrease with higher number of applicants?**\n",
        "\n",
        "**Null Hypothesis:** Higher number of applications does not decrease admission rate.\n",
        "<br>\n",
        "**Alternative Hypothesis:** Higher number of applications decreases admission rate."
      ]
    },
    {
      "cell_type": "markdown",
      "metadata": {
        "id": "tjUUglcVc1r9"
      },
      "source": [
        "## Test Statistics\n",
        "\n",
        "The test statistics will be the difference of mean admit rate for years with high number of applications and the mean admit rate for years with low number of applications. \n",
        "\n",
        "`test_statistic = mean_admit_rate_for_high_apps -  mean_women_enrollment_for_low_apps`\n",
        "\n",
        "## Observed Values"
      ]
    },
    {
      "cell_type": "code",
      "execution_count": null,
      "metadata": {
        "colab": {
          "base_uri": "https://localhost:8080/",
          "height": 184
        },
        "id": "bv8Xq4vqc1r9",
        "outputId": "6561e097-10ad-4e4f-81ec-077fd384b829"
      },
      "outputs": [
        {
          "output_type": "error",
          "ename": "NameError",
          "evalue": "ignored",
          "traceback": [
            "\u001b[0;31m---------------------------------------------------------------------------\u001b[0m",
            "\u001b[0;31mNameError\u001b[0m                                 Traceback (most recent call last)",
            "\u001b[0;32m<ipython-input-1-6bb1bf97a4a0>\u001b[0m in \u001b[0;36m<module>\u001b[0;34m\u001b[0m\n\u001b[0;32m----> 1\u001b[0;31m \u001b[0mprint\u001b[0m\u001b[0;34m(\u001b[0m\u001b[0mprivate_uni_admits\u001b[0m\u001b[0;34m.\u001b[0m\u001b[0mcolumns\u001b[0m\u001b[0;34m)\u001b[0m\u001b[0;34m\u001b[0m\u001b[0;34m\u001b[0m\u001b[0m\n\u001b[0m\u001b[1;32m      2\u001b[0m \u001b[0mprint\u001b[0m\u001b[0;34m(\u001b[0m\u001b[0mprivate_uni_admits\u001b[0m\u001b[0;34m[\u001b[0m\u001b[0;34m'Apps'\u001b[0m\u001b[0;34m]\u001b[0m\u001b[0;34m.\u001b[0m\u001b[0mmean\u001b[0m\u001b[0;34m(\u001b[0m\u001b[0;34m)\u001b[0m\u001b[0;34m)\u001b[0m\u001b[0;34m\u001b[0m\u001b[0;34m\u001b[0m\u001b[0m\n",
            "\u001b[0;31mNameError\u001b[0m: name 'private_uni_admits' is not defined"
          ]
        }
      ],
      "source": [
        "print(private_uni_admits.columns)\n",
        "print(private_uni_admits['Apps'].mean())"
      ]
    },
    {
      "cell_type": "markdown",
      "metadata": {
        "id": "uag-KRFgc1r9"
      },
      "source": [
        "Let's see the difference between `mean_admit_rate_for_high_apps` and `mean_admit_rate_for_low_apps`. Since the mean of number of applications is `1048592` approximately, we will use it to **divide the samples** into higher and lower number of applications. "
      ]
    },
    {
      "cell_type": "code",
      "execution_count": null,
      "metadata": {
        "id": "OTFw2_ksc1r-"
      },
      "outputs": [],
      "source": [
        "def simulation_admit_rates(samples):\n",
        "    prob = []\n",
        "    for sample in samples:\n",
        "        mean_admit_rate_for_high_apps = sample[sample['Apps'] >= 1048592]['Admit Rate'].mean()\n",
        "        mean_admit_rate_for_low_apps = sample[sample['Apps'] <= 1048592]['Admit Rate'].mean()\n",
        "        diff = mean_admit_rate_for_high_apps - mean_admit_rate_for_low_apps\n",
        "        if diff <= 0:\n",
        "            prob.append(1)\n",
        "        else:\n",
        "            prob.append(0)\n",
        "    return sum(prob)/len(prob)\n",
        "print(simulation_admit_rates(samples_uni_admits))"
      ]
    },
    {
      "cell_type": "code",
      "execution_count": null,
      "metadata": {
        "id": "M3_1GHspc1r-"
      },
      "outputs": [],
      "source": [
        "# Running the sampling simulation 50 times.\n",
        "final_probabilities = []\n",
        "for _ in range(50):\n",
        "    step = 3\n",
        "    samples = []\n",
        "    for _ in range(10):\n",
        "        samples.append(systematic_sampling(private_uni_admits, step))\n",
        "    final_probabilities.append(simulation_admit_rates(samples))\n",
        "\n",
        "plt.hist(final_probabilities,bins=3, ec='black')\n",
        "plt.xlabel(\"Difference between mean admit rates higher and lowers number of applications\")\n",
        "plt.ylabel(\"Frequency\")\n",
        "plt.title(\"Histogram of distributions of simulation\")\n",
        "plt.show()"
      ]
    },
    {
      "cell_type": "markdown",
      "metadata": {
        "id": "FArgPgQ8c1r-"
      },
      "source": [
        "## Calculating p-value"
      ]
    },
    {
      "cell_type": "code",
      "execution_count": null,
      "metadata": {
        "id": "NFa4xivHc1r-"
      },
      "outputs": [],
      "source": [
        "chisquare(private_uni_admits['Apps'], private_uni_admits['Admit Rate'])"
      ]
    },
    {
      "cell_type": "markdown",
      "metadata": {
        "id": "m4JlfE2-c1r-"
      },
      "source": [
        "We can see that the p-value is less that 5%. So, we reject the Null Hypothesis and accept the Alternate Hypothesis. It says that higher number of applications decreases admission rate."
      ]
    },
    {
      "cell_type": "markdown",
      "metadata": {
        "id": "7IMWSpPSc1r-"
      },
      "source": [
        "## Using Correlation and Linear regression to support Hypothesis"
      ]
    },
    {
      "cell_type": "code",
      "execution_count": null,
      "metadata": {
        "id": "kwgt_M09c1r-"
      },
      "outputs": [],
      "source": [
        "def standard_units(arr):\n",
        "    return (arr - np.mean(arr))/np.std(arr)\n",
        "def correlation(arr1, arr2):\n",
        "    return np.mean(standard_units(arr1)*standard_units(arr2))\n",
        "admit_rates_vs_apps = correlation(private_uni_admits[\"Apps\"], private_uni_admits[\"Admit Rate\"])\n",
        "print(\"The correlation factor for number of applications to Admit Rate is:\", admit_rates_vs_apps)"
      ]
    },
    {
      "cell_type": "markdown",
      "metadata": {
        "id": "U6JEICv6c1r-"
      },
      "source": [
        "Negative correlation factor simply shows the opposite trend of these two columns (i.e. higher the percentage of Nonresident_Alien enrollment, lower the percentage of Women enrollment). However, it isn't a very strong correlation since the absolute value is less than 0.5."
      ]
    },
    {
      "cell_type": "markdown",
      "metadata": {
        "id": "0qqP49m_c1r_"
      },
      "source": [
        "Let's apply linear regression. We will find **regression parameters** first."
      ]
    },
    {
      "cell_type": "code",
      "execution_count": null,
      "metadata": {
        "id": "Q_nknvc-c1r_"
      },
      "outputs": [],
      "source": [
        "def regression_parameters(x, y):\n",
        "    y_mean = np.mean(y)\n",
        "    slope = correlation(x, y)*np.std(y)/np.std(x) \n",
        "    intercept = y_mean-(slope*np.mean(x))\n",
        "    return [slope, intercept]\n",
        "\n",
        "parameters = regression_parameters(private_uni_admits[\"Apps\"], private_uni_admits[\"Admit Rate\"])\n",
        "parameters"
      ]
    },
    {
      "cell_type": "code",
      "execution_count": null,
      "metadata": {
        "id": "lRVagvXuc1r_"
      },
      "outputs": [],
      "source": [
        "predicted_admit_rate = parameters[0]*private_uni_admits[\"Apps\"] + parameters[1]\n",
        "\n",
        "pten3 = Table.from_df(private_uni_admits, keep_index= False)\n",
        "(pten3.with_column(\"Predicted_Admits\", predicted_admit_rate)\n",
        ".select(\"Apps\", \"Admit Rate\", \"Predicted_Admits\")\n",
        " .scatter(\"Apps\"))\n",
        "plt.ylabel(\"Admit Rate\");"
      ]
    },
    {
      "cell_type": "markdown",
      "metadata": {
        "id": "inY6Caikc1r_"
      },
      "source": [
        "Let's look at the root mean square error for our linear regression model."
      ]
    },
    {
      "cell_type": "code",
      "execution_count": null,
      "metadata": {
        "id": "QjiLMCfFc1r_"
      },
      "outputs": [],
      "source": [
        "def RMSE(slope, intercept):\n",
        "    apps = private_uni_admits[\"Apps\"]\n",
        "    admit_rate = private_uni_admits[\"Admit Rate\"]\n",
        "    predicted_admit_rate = slope*apps + intercept\n",
        "    return (np.mean((admit_rate - predicted_admit_rate)**2))**0.5"
      ]
    },
    {
      "cell_type": "code",
      "execution_count": null,
      "metadata": {
        "id": "2t_dWUqJc1r_"
      },
      "outputs": [],
      "source": [
        "print('RMSE of Predicted Admit rate and actual value: ', RMSE(parameters[0],parameters[1]))"
      ]
    },
    {
      "cell_type": "markdown",
      "metadata": {
        "id": "UwXUhpcOc1r_"
      },
      "source": [
        "Using a linear regression model, we were able to verify the fact that there is a negative corelation between the number of applications and admit rate. "
      ]
    },
    {
      "cell_type": "markdown",
      "metadata": {
        "id": "xkA_rjr7c1r_"
      },
      "source": [
        "## Hypothesis Tests Conclusions\n",
        "\n",
        "\n",
        "1. Difference between mean admit rate for high number of applications is lower than the mean admit rate for low number of applications. The probability of this happening is about 0.97.\n",
        "2. Chi Square test:P value is less than 0.05, So rejecting Null Hypothesis and accepting Alternate Hypothesis. It means that for high number of applications, the admit rate is lower.\n",
        "3. There is a Negative Correlation of 99.7% of High number of applications with admit rate. From scatter plot, we can see that if we increase the number of applications, the admit rates decreases. This means that higher the number of applications, lower the admit rate. \n",
        "4. Linear regression model  supports this hypothesis conclusion.\n",
        "\n",
        "So, looking at all this insights and testing out hypothesis using sampling, p-value, correlation, and linear regression, we reject the NULL hypothesis and accept the ALTERNATIVE hypothesis: **High number of applications decrease admission rate.**"
      ]
    },
    {
      "cell_type": "markdown",
      "metadata": {
        "id": "T8y3HwHDc1sA"
      },
      "source": [
        "# Topic Conclusions"
      ]
    },
    {
      "cell_type": "markdown",
      "metadata": {
        "id": "3SqlZXOIc1sA"
      },
      "source": [
        "**So, now to summarise we can conclude by saying:<br>\n",
        "    1. Higher GRE Score increases your chances of getting into Grad School.<br>\n",
        "    2. Higher enrollment of Non-resident Alien decreases the percentage of Women enrollment.<br>\n",
        "    3. Higher number of applicants decrease the admission rate.**"
      ]
    },
    {
      "cell_type": "markdown",
      "metadata": {
        "id": "hiPThL3Hc1sA"
      },
      "source": [
        "# Limitations"
      ]
    },
    {
      "cell_type": "markdown",
      "metadata": {
        "id": "yv5_3VO2c1sA"
      },
      "source": [
        "Here are the few limitations of our project:\n",
        "1. It only talks about US admissions so, if your dream school is not in the US these analysis might not help you.\n",
        "2. We can not use this analysis to extrapulate anything about undergraduate admissions because they have a very different admission process.\n",
        "3. These datasets might not be able to help you with a specific school or major."
      ]
    },
    {
      "cell_type": "markdown",
      "metadata": {
        "id": "kH7aeCiFc1sA"
      },
      "source": [
        "# Footnote on Ethics and Transparency"
      ]
    },
    {
      "cell_type": "markdown",
      "metadata": {
        "id": "kUBxZXGdc1sA"
      },
      "source": [
        "1. We understand that people might get mixed feelings seeing such a high correlation between grad admissions and GRE scores. However, there are few things we want to be TRANSPARENT about:\n",
        "    1. This prediction will only work for US colleges\n",
        "    2. The dataset does not give much idea about what field of study versus GRE scores\n",
        "2. We understand that people might get sad seeing that higher the number of international student, the percent of women goes down. This claim might make the international community sad. We are NOT accusing  any community here or INADVERTENTLY AFFECTING them. The observed stats has such behaviour because most international students are men.\n"
      ]
    }
  ],
  "metadata": {
    "kernelspec": {
      "display_name": "Python 3",
      "language": "python",
      "name": "python3"
    },
    "language_info": {
      "codemirror_mode": {
        "name": "ipython",
        "version": 3
      },
      "file_extension": ".py",
      "mimetype": "text/x-python",
      "name": "python",
      "nbconvert_exporter": "python",
      "pygments_lexer": "ipython3",
      "version": "3.8.6"
    },
    "colab": {
      "provenance": [],
      "include_colab_link": true
    }
  },
  "nbformat": 4,
  "nbformat_minor": 0
}